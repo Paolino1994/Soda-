{
  "nbformat": 4,
  "nbformat_minor": 0,
  "metadata": {
    "colab": {
      "provenance": [],
      "collapsed_sections": [],
      "authorship_tag": "ABX9TyNwqKwwuqQyLRGEiw8PiQEI",
      "include_colab_link": true
    },
    "kernelspec": {
      "name": "python3",
      "display_name": "Python 3"
    },
    "language_info": {
      "name": "python"
    },
    "accelerator": "GPU"
  },
  "cells": [
    {
      "cell_type": "markdown",
      "metadata": {
        "id": "view-in-github",
        "colab_type": "text"
      },
      "source": [
        "<a href=\"https://colab.research.google.com/github/Paolino1994/Soda-/blob/master/Examen_Final_Deep_Learning.ipynb\" target=\"_parent\"><img src=\"https://colab.research.google.com/assets/colab-badge.svg\" alt=\"Open In Colab\"/></a>"
      ]
    },
    {
      "cell_type": "code",
      "execution_count": null,
      "metadata": {
        "id": "U-2MfN8KV_YU"
      },
      "outputs": [],
      "source": [
        "import torch\n",
        "import torchvision\n",
        "import numpy as np\n",
        "import random\n",
        "import matplotlib.pyplot as plt\n",
        "import pickle\n",
        "from torch.utils.data import DataLoader, TensorDataset, Dataset\n",
        "from torch import Tensor\n",
        "import pandas as pd\n",
        "from sklearn.model_selection import train_test_split\n",
        "import torch.nn as nn\n",
        "import torch.nn.functional as F\n",
        "from tqdm import tqdm\n",
        "from sklearn.linear_model import LogisticRegression\n",
        "from sklearn.linear_model import LinearRegression\n",
        "from sklearn.experimental import enable_iterative_imputer\n",
        "from sklearn.impute import IterativeImputer\n",
        "from sklearn.preprocessing import StandardScaler"
      ]
    },
    {
      "cell_type": "code",
      "source": [
        "from google.colab import drive\n",
        "drive.mount('/content/drive')"
      ],
      "metadata": {
        "colab": {
          "base_uri": "https://localhost:8080/"
        },
        "id": "mmseh32SsLJk",
        "outputId": "240e4b6f-1788-47d4-d034-b6ca3c4c1336"
      },
      "execution_count": null,
      "outputs": [
        {
          "output_type": "stream",
          "name": "stdout",
          "text": [
            "Drive already mounted at /content/drive; to attempt to forcibly remount, call drive.mount(\"/content/drive\", force_remount=True).\n"
          ]
        }
      ]
    },
    {
      "cell_type": "code",
      "source": [
        "device = \"cuda\" if torch.cuda.is_available() else \"cpu\""
      ],
      "metadata": {
        "id": "uCOhA5oAWFvY"
      },
      "execution_count": null,
      "outputs": []
    },
    {
      "cell_type": "code",
      "source": [
        "device"
      ],
      "metadata": {
        "colab": {
          "base_uri": "https://localhost:8080/",
          "height": 35
        },
        "id": "G6Bb_bVLWe_v",
        "outputId": "102e9674-65d5-45eb-9a6e-f2a5ab976bdc"
      },
      "execution_count": null,
      "outputs": [
        {
          "output_type": "execute_result",
          "data": {
            "text/plain": [
              "'cuda'"
            ],
            "application/vnd.google.colaboratory.intrinsic+json": {
              "type": "string"
            }
          },
          "metadata": {},
          "execution_count": 36
        }
      ]
    },
    {
      "cell_type": "markdown",
      "source": [
        "# Punto 1\n",
        "Descargar el dataset desde el siguiente link. Entrenar el modelo propuesto a continuación de este enunciado. El modelo está haciendo underfitting, overfitting o un fit correcto. ¿Por qué? Explicar el procedimiento realizado.\n"
      ],
      "metadata": {
        "id": "2naEz2L2Wp3I"
      }
    },
    {
      "cell_type": "code",
      "source": [
        "ds=pd.read_csv(\"drive/MyDrive/dataset_1.csv\")\n",
        "ds = ds.rename(columns = {'# X':\"X\", \"Y\":\"y\"})"
      ],
      "metadata": {
        "id": "2_Sz0XlrWUoC"
      },
      "execution_count": null,
      "outputs": []
    },
    {
      "cell_type": "code",
      "source": [
        "ds.head()"
      ],
      "metadata": {
        "colab": {
          "base_uri": "https://localhost:8080/",
          "height": 206
        },
        "id": "CqRDbscaWcGT",
        "outputId": "010be388-fc8c-4ecc-9092-85a3dc4b7387"
      },
      "execution_count": null,
      "outputs": [
        {
          "output_type": "execute_result",
          "data": {
            "text/plain": [
              "          X         y\n",
              "0  1.791979  4.952906\n",
              "1  0.846885  1.424248\n",
              "2  1.000300  0.454364\n",
              "3  1.884188  6.681510\n",
              "4  0.889089  1.211691"
            ],
            "text/html": [
              "\n",
              "  <div id=\"df-3f9ec5d8-136d-4541-9b58-37458ea61433\">\n",
              "    <div class=\"colab-df-container\">\n",
              "      <div>\n",
              "<style scoped>\n",
              "    .dataframe tbody tr th:only-of-type {\n",
              "        vertical-align: middle;\n",
              "    }\n",
              "\n",
              "    .dataframe tbody tr th {\n",
              "        vertical-align: top;\n",
              "    }\n",
              "\n",
              "    .dataframe thead th {\n",
              "        text-align: right;\n",
              "    }\n",
              "</style>\n",
              "<table border=\"1\" class=\"dataframe\">\n",
              "  <thead>\n",
              "    <tr style=\"text-align: right;\">\n",
              "      <th></th>\n",
              "      <th>X</th>\n",
              "      <th>y</th>\n",
              "    </tr>\n",
              "  </thead>\n",
              "  <tbody>\n",
              "    <tr>\n",
              "      <th>0</th>\n",
              "      <td>1.791979</td>\n",
              "      <td>4.952906</td>\n",
              "    </tr>\n",
              "    <tr>\n",
              "      <th>1</th>\n",
              "      <td>0.846885</td>\n",
              "      <td>1.424248</td>\n",
              "    </tr>\n",
              "    <tr>\n",
              "      <th>2</th>\n",
              "      <td>1.000300</td>\n",
              "      <td>0.454364</td>\n",
              "    </tr>\n",
              "    <tr>\n",
              "      <th>3</th>\n",
              "      <td>1.884188</td>\n",
              "      <td>6.681510</td>\n",
              "    </tr>\n",
              "    <tr>\n",
              "      <th>4</th>\n",
              "      <td>0.889089</td>\n",
              "      <td>1.211691</td>\n",
              "    </tr>\n",
              "  </tbody>\n",
              "</table>\n",
              "</div>\n",
              "      <button class=\"colab-df-convert\" onclick=\"convertToInteractive('df-3f9ec5d8-136d-4541-9b58-37458ea61433')\"\n",
              "              title=\"Convert this dataframe to an interactive table.\"\n",
              "              style=\"display:none;\">\n",
              "        \n",
              "  <svg xmlns=\"http://www.w3.org/2000/svg\" height=\"24px\"viewBox=\"0 0 24 24\"\n",
              "       width=\"24px\">\n",
              "    <path d=\"M0 0h24v24H0V0z\" fill=\"none\"/>\n",
              "    <path d=\"M18.56 5.44l.94 2.06.94-2.06 2.06-.94-2.06-.94-.94-2.06-.94 2.06-2.06.94zm-11 1L8.5 8.5l.94-2.06 2.06-.94-2.06-.94L8.5 2.5l-.94 2.06-2.06.94zm10 10l.94 2.06.94-2.06 2.06-.94-2.06-.94-.94-2.06-.94 2.06-2.06.94z\"/><path d=\"M17.41 7.96l-1.37-1.37c-.4-.4-.92-.59-1.43-.59-.52 0-1.04.2-1.43.59L10.3 9.45l-7.72 7.72c-.78.78-.78 2.05 0 2.83L4 21.41c.39.39.9.59 1.41.59.51 0 1.02-.2 1.41-.59l7.78-7.78 2.81-2.81c.8-.78.8-2.07 0-2.86zM5.41 20L4 18.59l7.72-7.72 1.47 1.35L5.41 20z\"/>\n",
              "  </svg>\n",
              "      </button>\n",
              "      \n",
              "  <style>\n",
              "    .colab-df-container {\n",
              "      display:flex;\n",
              "      flex-wrap:wrap;\n",
              "      gap: 12px;\n",
              "    }\n",
              "\n",
              "    .colab-df-convert {\n",
              "      background-color: #E8F0FE;\n",
              "      border: none;\n",
              "      border-radius: 50%;\n",
              "      cursor: pointer;\n",
              "      display: none;\n",
              "      fill: #1967D2;\n",
              "      height: 32px;\n",
              "      padding: 0 0 0 0;\n",
              "      width: 32px;\n",
              "    }\n",
              "\n",
              "    .colab-df-convert:hover {\n",
              "      background-color: #E2EBFA;\n",
              "      box-shadow: 0px 1px 2px rgba(60, 64, 67, 0.3), 0px 1px 3px 1px rgba(60, 64, 67, 0.15);\n",
              "      fill: #174EA6;\n",
              "    }\n",
              "\n",
              "    [theme=dark] .colab-df-convert {\n",
              "      background-color: #3B4455;\n",
              "      fill: #D2E3FC;\n",
              "    }\n",
              "\n",
              "    [theme=dark] .colab-df-convert:hover {\n",
              "      background-color: #434B5C;\n",
              "      box-shadow: 0px 1px 3px 1px rgba(0, 0, 0, 0.15);\n",
              "      filter: drop-shadow(0px 1px 2px rgba(0, 0, 0, 0.3));\n",
              "      fill: #FFFFFF;\n",
              "    }\n",
              "  </style>\n",
              "\n",
              "      <script>\n",
              "        const buttonEl =\n",
              "          document.querySelector('#df-3f9ec5d8-136d-4541-9b58-37458ea61433 button.colab-df-convert');\n",
              "        buttonEl.style.display =\n",
              "          google.colab.kernel.accessAllowed ? 'block' : 'none';\n",
              "\n",
              "        async function convertToInteractive(key) {\n",
              "          const element = document.querySelector('#df-3f9ec5d8-136d-4541-9b58-37458ea61433');\n",
              "          const dataTable =\n",
              "            await google.colab.kernel.invokeFunction('convertToInteractive',\n",
              "                                                     [key], {});\n",
              "          if (!dataTable) return;\n",
              "\n",
              "          const docLinkHtml = 'Like what you see? Visit the ' +\n",
              "            '<a target=\"_blank\" href=https://colab.research.google.com/notebooks/data_table.ipynb>data table notebook</a>'\n",
              "            + ' to learn more about interactive tables.';\n",
              "          element.innerHTML = '';\n",
              "          dataTable['output_type'] = 'display_data';\n",
              "          await google.colab.output.renderOutput(dataTable, element);\n",
              "          const docLink = document.createElement('div');\n",
              "          docLink.innerHTML = docLinkHtml;\n",
              "          element.appendChild(docLink);\n",
              "        }\n",
              "      </script>\n",
              "    </div>\n",
              "  </div>\n",
              "  "
            ]
          },
          "metadata": {},
          "execution_count": 39
        }
      ]
    },
    {
      "cell_type": "code",
      "source": [
        "X = ds[[\"X\"]]\n",
        "Y = ds[[\"y\"]]"
      ],
      "metadata": {
        "id": "-mOQzmvPWiIa"
      },
      "execution_count": null,
      "outputs": []
    },
    {
      "cell_type": "code",
      "source": [
        "random_state=65"
      ],
      "metadata": {
        "id": "KBn7RuanXQMD"
      },
      "execution_count": null,
      "outputs": []
    },
    {
      "cell_type": "code",
      "source": [
        "X_train, X_test, Y_train, Y_test = train_test_split(X, Y, train_size=0.70, random_state=random_state)\n",
        "X_train=np.array(X_train).flatten()\n",
        "X_test=np.array(X_test).flatten()\n",
        "Y_train=np.array(Y_train).flatten()\n",
        "Y_test=np.array(Y_test).flatten()"
      ],
      "metadata": {
        "id": "Xa2-i2yyXGza"
      },
      "execution_count": null,
      "outputs": []
    },
    {
      "cell_type": "code",
      "source": [
        "learningRate=0.0001\n",
        "epochs=300\n",
        "w1=0\n",
        "w2=0\n",
        "bias=0\n",
        "errorList=[]\n",
        "validErrorList=[]"
      ],
      "metadata": {
        "id": "z3OQcGipYhFs"
      },
      "execution_count": null,
      "outputs": []
    },
    {
      "cell_type": "code",
      "source": [
        "for epoch in range(epochs):\n",
        "  currentError=0\n",
        "  epochError=0\n",
        "  for element in range(len(X_train)):\n",
        "    x=X_train[element]\n",
        "    y=Y_train[element]\n",
        "    #Forward\n",
        "    x1, x2, x3 = x, x**2, x**3\n",
        "    pred=w1*x3 + w2*x2 + w1*x1 + bias\n",
        "    error = y - pred\n",
        "    #print(x,y,x1, x2, x3,w1,w2)\n",
        "    epochError = epochError+error**2\n",
        "    \n",
        "\n",
        "    \n",
        "    \n",
        "    #Back\n",
        "    d_prediction = - 2 * error\n",
        "    w1_loss = (d_prediction * (x3 + x1)).sum(axis=0)\n",
        "    w2_loss = (d_prediction * x2).sum(axis=0)\n",
        "    bias_loss = d_prediction.sum(axis=0)\n",
        "\n",
        "    \n",
        "\n",
        "    #Weight\n",
        "    w1 -= learningRate * w1_loss \n",
        "    w2 -= learningRate * w2_loss \n",
        "    bias -= learningRate * bias_loss \n",
        "\n",
        "  #Validation\n",
        "  validError=0\n",
        "  for element in range(len(X_test)):\n",
        "    xT=X_test[element]\n",
        "    yT=Y_test[element]\n",
        "    x1, x2, x3 = xT, xT**2, xT**3\n",
        "    pred=w1*x3 + w2*x2 + w1*x1 + bias\n",
        "    error = yT - pred\n",
        "    validError = validError+error**2\n",
        "\n",
        "  validErrorList.append(validError/len(X_test))\n",
        "  errorList.append(epochError/len(X_train))\n",
        "  print(f\"Epoch {epoch} error {errorList[-1]} valid error {validErrorList[-1]}\")\n",
        "\n",
        "\n",
        "    \n"
      ],
      "metadata": {
        "colab": {
          "base_uri": "https://localhost:8080/"
        },
        "id": "WPQlJC7DYfiX",
        "outputId": "040da943-bba5-4277-c006-fe9181aa297b"
      },
      "execution_count": null,
      "outputs": [
        {
          "output_type": "stream",
          "name": "stdout",
          "text": [
            "Epoch 0 error 0.771982807541607 valid error 0.5964488313947218\n",
            "Epoch 1 error 0.5856022942119175 valid error 0.5768729532367709\n",
            "Epoch 2 error 0.5744097557550619 valid error 0.5699397914961648\n",
            "Epoch 3 error 0.5701628353622279 valid error 0.566743310852872\n",
            "Epoch 4 error 0.5679095499761186 valid error 0.5647082354155423\n",
            "Epoch 5 error 0.5662521758534642 valid error 0.5630713134830193\n",
            "Epoch 6 error 0.5647937533287362 valid error 0.5615966159589829\n",
            "Epoch 7 error 0.5634200296090396 valid error 0.5602061488865093\n",
            "Epoch 8 error 0.562097104291428 valid error 0.5588714963523564\n",
            "Epoch 9 error 0.5608141771703455 valid error 0.5575809326101244\n",
            "Epoch 10 error 0.5595672309463476 valid error 0.556328885750394\n",
            "Epoch 11 error 0.558354318557226 valid error 0.5551122925356676\n",
            "Epoch 12 error 0.5571741698012919 valid error 0.5539292130027778\n",
            "Epoch 13 error 0.5560257627291212 valid error 0.5527782507746652\n",
            "Epoch 14 error 0.5549081833630377 valid error 0.5516582897484968\n",
            "Epoch 15 error 0.5538205756030734 valid error 0.55056836706234\n",
            "Epoch 16 error 0.5527621213282857 valid error 0.5495076092941611\n",
            "Epoch 17 error 0.5517320315474461 valid error 0.5484751995554532\n",
            "Epoch 18 error 0.5507295420100881 valid error 0.5474703601769757\n",
            "Epoch 19 error 0.5497539107891187 valid error 0.5464923434165133\n",
            "Epoch 20 error 0.5488044168001198 valid error 0.5455404263409276\n",
            "Epoch 21 error 0.5478803587898683 valid error 0.5446139078961246\n",
            "Epoch 22 error 0.546981054569681 valid error 0.5437121071303969\n",
            "Epoch 23 error 0.5461058403815341 valid error 0.5428343620297802\n",
            "Epoch 24 error 0.5452540703394981 valid error 0.5419800286812115\n",
            "Epoch 25 error 0.5444251159166904 valid error 0.5411484806141285\n",
            "Epoch 26 error 0.5436183654619264 valid error 0.5403391082417368\n",
            "Epoch 27 error 0.5428332237377745 valid error 0.5395513183604411\n",
            "Epoch 28 error 0.5420691114753877 valid error 0.5387845336854056\n",
            "Epoch 29 error 0.541325464943596 valid error 0.5380381924105158\n",
            "Epoch 30 error 0.5406017355307806 valid error 0.537311747786436\n",
            "Epoch 31 error 0.5398973893385977 valid error 0.5366046677132954\n",
            "Epoch 32 error 0.5392119067869628 valid error 0.5359164343460312\n",
            "Epoch 33 error 0.5385447822297602 valid error 0.5352465437112343\n",
            "Epoch 34 error 0.5378955235810202 valid error 0.5345945053347644\n",
            "Epoch 35 error 0.5372636519511056 valid error 0.5339598418795889\n",
            "Epoch 36 error 0.5366487012927418 valid error 0.5333420887934779\n",
            "Epoch 37 error 0.5360502180565114 valid error 0.5327407939662149\n",
            "Epoch 38 error 0.5354677608556331 valid error 0.532155517396048\n",
            "Epoch 39 error 0.5349009001397106 valid error 0.5315858308650787\n",
            "Epoch 40 error 0.5343492178772462 valid error 0.5310313176233938\n",
            "Epoch 41 error 0.5338123072466802 valid error 0.5304915720816616\n",
            "Epoch 42 error 0.5332897723357021 valid error 0.5299661995119737\n",
            "Epoch 43 error 0.5327812278486397 valid error 0.5294548157567179\n",
            "Epoch 44 error 0.5322862988216959 valid error 0.5289570469452419\n",
            "Epoch 45 error 0.5318046203458257 valid error 0.5284725292181465\n",
            "Epoch 46 error 0.5313358372970415 valid error 0.5280009084589268\n",
            "Epoch 47 error 0.5308796040739602 valid error 0.5275418400328628\n",
            "Epoch 48 error 0.5304355843423852 valid error 0.5270949885328664\n",
            "Epoch 49 error 0.5300034507867486 valid error 0.5266600275321787\n",
            "Epoch 50 error 0.5295828848682033 valid error 0.5262366393436652\n",
            "Epoch 51 error 0.5291735765892279 valid error 0.5258245147855978\n",
            "Epoch 52 error 0.5287752242645337 valid error 0.5254233529536987\n",
            "Epoch 53 error 0.5283875342981111 valid error 0.5250328609992936\n",
            "Epoch 54 error 0.5280102209662633 valid error 0.5246527539134341\n",
            "Epoch 55 error 0.5276430062064714 valid error 0.524282754316787\n",
            "Epoch 56 error 0.5272856194119097 valid error 0.5239225922551639\n",
            "Epoch 57 error 0.52693779723146 valid error 0.5235720050005518\n",
            "Epoch 58 error 0.5265992833751294 valid error 0.5232307368574426\n",
            "Epoch 59 error 0.5262698284246514 valid error 0.5228985389743865\n",
            "Epoch 60 error 0.5259491896491802 valid error 0.5225751691605922\n",
            "Epoch 61 error 0.5256371308259423 valid error 0.5222603917074331\n",
            "Epoch 62 error 0.5253334220656715 valid error 0.521953977214741\n",
            "Epoch 63 error 0.5250378396427519 valid error 0.5216557024217837\n",
            "Epoch 64 error 0.5247501658299004 valid error 0.5213653500427347\n",
            "Epoch 65 error 0.5244701887373019 valid error 0.5210827086065769\n",
            "Epoch 66 error 0.5241977021560336 valid error 0.5208075723013039\n",
            "Epoch 67 error 0.5239325054057162 valid error 0.5205397408222805\n",
            "Epoch 68 error 0.5236744031862338 valid error 0.5202790192246896\n",
            "Epoch 69 error 0.5234232054334347 valid error 0.5200252177799111\n",
            "Epoch 70 error 0.5231787271787123 valid error 0.5197781518357705\n",
            "Epoch 71 error 0.5229407884123427 valid error 0.5195376416805341\n",
            "Epoch 72 error 0.5227092139504973 valid error 0.519303512410537\n",
            "Epoch 73 error 0.5224838333057991 valid error 0.5190755938013678\n",
            "Epoch 74 error 0.5222644805613915 valid error 0.5188537201825163\n",
            "Epoch 75 error 0.5220509942483377 valid error 0.5186377303153609\n",
            "Epoch 76 error 0.5218432172263623 valid error 0.5184274672744457\n",
            "Epoch 77 error 0.5216409965677435 valid error 0.5182227783319299\n",
            "Epoch 78 error 0.5214441834443445 valid error 0.5180235148451444\n",
            "Epoch 79 error 0.5212526330176599 valid error 0.5178295321471525\n",
            "Epoch 80 error 0.52106620433184 valid error 0.5176406894402507\n",
            "Epoch 81 error 0.5208847602095552 valid error 0.5174568496923209\n",
            "Epoch 82 error 0.5207081671506686 valid error 0.5172778795359649\n",
            "Epoch 83 error 0.5205362952336171 valid error 0.5171036491703486\n",
            "Epoch 84 error 0.520369018019443 valid error 0.5169340322656552\n",
            "Epoch 85 error 0.5202062124584105 valid error 0.5167689058701237\n",
            "Epoch 86 error 0.5200477587991087 valid error 0.5166081503195752\n",
            "Epoch 87 error 0.5198935404999935 valid error 0.5164516491493477\n",
            "Epoch 88 error 0.519743444143325 valid error 0.516299289008619\n",
            "Epoch 89 error 0.5195973593513851 valid error 0.5161509595769945\n",
            "Epoch 90 error 0.5194551787049662 valid error 0.5160065534833559\n",
            "Epoch 91 error 0.5193167976640175 valid error 0.5158659662268805\n",
            "Epoch 92 error 0.5191821144904617 valid error 0.5157290961001629\n",
            "Epoch 93 error 0.5190510301730303 valid error 0.5155958441144189\n",
            "Epoch 94 error 0.5189234483541645 valid error 0.5154661139266824\n",
            "Epoch 95 error 0.518799275258845 valid error 0.5153398117689374\n",
            "Epoch 96 error 0.5186784196253421 valid error 0.5152168463791991\n",
            "Epoch 97 error 0.5185607926378136 valid error 0.5150971289343776\n",
            "Epoch 98 error 0.5184463078607402 valid error 0.5149805729849981\n",
            "Epoch 99 error 0.5183348811750664 valid error 0.5148670943916273\n",
            "Epoch 100 error 0.518226430716112 valid error 0.5147566112630395\n",
            "Epoch 101 error 0.5181208768131149 valid error 0.5146490438960065\n",
            "Epoch 102 error 0.5180181419303903 valid error 0.5145443147167339\n",
            "Epoch 103 error 0.5179181506101004 valid error 0.5144423482238434\n",
            "Epoch 104 error 0.5178208294165221 valid error 0.5143430709328827\n",
            "Epoch 105 error 0.5177261068818507 valid error 0.5142464113223455\n",
            "Epoch 106 error 0.5176339134533974 valid error 0.5141522997811141\n",
            "Epoch 107 error 0.5175441814422773 valid error 0.5140606685573185\n",
            "Epoch 108 error 0.5174568449734065 valid error 0.5139714517085757\n",
            "Epoch 109 error 0.5173718399368875 valid error 0.5138845850535455\n",
            "Epoch 110 error 0.5172891039406698 valid error 0.513800006124796\n",
            "Epoch 111 error 0.5172085762644995 valid error 0.5137176541229276\n",
            "Epoch 112 error 0.5171301978150783 valid error 0.5136374698719306\n",
            "Epoch 113 error 0.5170539110824643 valid error 0.5135593957757373\n",
            "Epoch 114 error 0.5169796600976121 valid error 0.5134833757759333\n",
            "Epoch 115 error 0.5169073903910404 valid error 0.5134093553106043\n",
            "Epoch 116 error 0.516837048952658 valid error 0.5133372812742969\n",
            "Epoch 117 error 0.5167685841926203 valid error 0.5132671019790356\n",
            "Epoch 118 error 0.5167019459032475 valid error 0.5131987671163918\n",
            "Epoch 119 error 0.5166370852219755 valid error 0.5131322277205672\n",
            "Epoch 120 error 0.5165739545952956 valid error 0.5130674361324787\n",
            "Epoch 121 error 0.5165125077436484 valid error 0.5130043459647771\n",
            "Epoch 122 error 0.5164526996272875 valid error 0.5129429120678398\n",
            "Epoch 123 error 0.5163944864130254 valid error 0.5128830904966405\n",
            "Epoch 124 error 0.5163378254418881 valid error 0.5128248384785281\n",
            "Epoch 125 error 0.5162826751976447 valid error 0.512768114381866\n",
            "Epoch 126 error 0.516228995276174 valid error 0.5127128776854971\n",
            "Epoch 127 error 0.5161767463556292 valid error 0.5126590889490509\n",
            "Epoch 128 error 0.5161258901674551 valid error 0.512606709784024\n",
            "Epoch 129 error 0.516076389468129 valid error 0.5125557028256436\n",
            "Epoch 130 error 0.5160282080116924 valid error 0.5125060317054941\n",
            "Epoch 131 error 0.5159813105230107 valid error 0.5124576610248549\n",
            "Epoch 132 error 0.51593566267174 valid error 0.5124105563287804\n",
            "Epoch 133 error 0.5158912310470132 valid error 0.5123646840808483\n",
            "Epoch 134 error 0.5158479831327767 valid error 0.5123200116386024\n",
            "Epoch 135 error 0.5158058872838261 valid error 0.5122765072296399\n",
            "Epoch 136 error 0.5157649127024363 valid error 0.5122341399283523\n",
            "Epoch 137 error 0.5157250294156744 valid error 0.5121928796332821\n",
            "Epoch 138 error 0.5156862082532546 valid error 0.5121526970450799\n",
            "Epoch 139 error 0.5156484208260688 valid error 0.5121135636450631\n",
            "Epoch 140 error 0.5156116395052022 valid error 0.5120754516743476\n",
            "Epoch 141 error 0.5155758374015997 valid error 0.5120383341135293\n",
            "Epoch 142 error 0.5155409883462014 valid error 0.5120021846629192\n",
            "Epoch 143 error 0.5155070668706574 valid error 0.5119669777233026\n",
            "Epoch 144 error 0.51547404818856 valid error 0.5119326883772128\n",
            "Epoch 145 error 0.5154419081771382 valid error 0.5118992923707155\n",
            "Epoch 146 error 0.5154106233594948 valid error 0.5118667660956678\n",
            "Epoch 147 error 0.515380170887293 valid error 0.5118350865724622\n",
            "Epoch 148 error 0.5153505285238944 valid error 0.5118042314332206\n",
            "Epoch 149 error 0.51532167462798 valid error 0.5117741789054647\n",
            "Epoch 150 error 0.5152935881375977 valid error 0.5117449077961856\n",
            "Epoch 151 error 0.5152662485546174 valid error 0.5117163974763727\n",
            "Epoch 152 error 0.5152396359296445 valid error 0.5116886278659387\n",
            "Epoch 153 error 0.5152137308472906 valid error 0.5116615794190578\n",
            "Epoch 154 error 0.5151885144118836 valid error 0.5116352331098888\n",
            "Epoch 155 error 0.5151639682335254 valid error 0.5116095704186816\n",
            "Epoch 156 error 0.51514007441455 valid error 0.5115845733182683\n",
            "Epoch 157 error 0.5151168155363207 valid error 0.5115602242608921\n",
            "Epoch 158 error 0.5150941746463994 valid error 0.5115365061654116\n",
            "Epoch 159 error 0.5150721352460615 valid error 0.5115134024048353\n",
            "Epoch 160 error 0.5150506812781261 valid error 0.5114908967941919\n",
            "Epoch 161 error 0.5150297971151256 valid error 0.5114689735787272\n",
            "Epoch 162 error 0.5150094675478095 valid error 0.5114476174224241\n",
            "Epoch 163 error 0.5149896777739068 valid error 0.5114268133967987\n",
            "Epoch 164 error 0.5149704133872515 valid error 0.5114065469700471\n",
            "Epoch 165 error 0.5149516603671468 valid error 0.5113868039964341\n",
            "Epoch 166 error 0.5149334050680578 valid error 0.5113675707059979\n",
            "Epoch 167 error 0.514915634209543 valid error 0.5113488336945136\n",
            "Epoch 168 error 0.5148983348664816 valid error 0.5113305799137328\n",
            "Epoch 169 error 0.514881494459544 valid error 0.511312796661887\n",
            "Epoch 170 error 0.5148651007459467 valid error 0.5112954715744255\n",
            "Epoch 171 error 0.5148491418104145 valid error 0.5112785926150318\n",
            "Epoch 172 error 0.5148336060564174 valid error 0.5112621480668652\n",
            "Epoch 173 error 0.5148184821976307 valid error 0.511246126524014\n",
            "Epoch 174 error 0.5148037592496291 valid error 0.5112305168832328\n",
            "Epoch 175 error 0.514789426521788 valid error 0.511215308335836\n",
            "Epoch 176 error 0.5147754736094189 valid error 0.5112004903598631\n",
            "Epoch 177 error 0.514761890386117 valid error 0.5111860527124181\n",
            "Epoch 178 error 0.5147486669962937 valid error 0.5111719854222261\n",
            "Epoch 179 error 0.5147357938479378 valid error 0.5111582787823972\n",
            "Epoch 180 error 0.5147232616055365 valid error 0.5111449233433685\n",
            "Epoch 181 error 0.5147110611832182 valid error 0.5111319099060412\n",
            "Epoch 182 error 0.5146991837380689 valid error 0.5111192295151078\n",
            "Epoch 183 error 0.5146876206636092 valid error 0.5111068734525489\n",
            "Epoch 184 error 0.5146763635834841 valid error 0.5110948332313082\n",
            "Epoch 185 error 0.514665404345276 valid error 0.5110831005891291\n",
            "Epoch 186 error 0.5146547350145206 valid error 0.511071667482577\n",
            "Epoch 187 error 0.514644347868869 valid error 0.5110605260811923\n",
            "Epoch 188 error 0.5146342353924088 valid error 0.5110496687618207\n",
            "Epoch 189 error 0.5146243902701292 valid error 0.5110390881030945\n",
            "Epoch 190 error 0.5146148053825429 valid error 0.5110287768800421\n",
            "Epoch 191 error 0.5146054738004548 valid error 0.51101872805887\n",
            "Epoch 192 error 0.5145963887798561 valid error 0.5110089347918567\n",
            "Epoch 193 error 0.5145875437569831 valid error 0.5109993904124082\n",
            "Epoch 194 error 0.5145789323434764 valid error 0.5109900884302258\n",
            "Epoch 195 error 0.514570548321682 valid error 0.5109810225266106\n",
            "Epoch 196 error 0.5145623856400965 valid error 0.5109721865499003\n",
            "Epoch 197 error 0.5145544384089009 valid error 0.5109635745110138\n",
            "Epoch 198 error 0.5145467008956447 valid error 0.5109551805791265\n",
            "Epoch 199 error 0.5145391675210241 valid error 0.5109469990774574\n",
            "Epoch 200 error 0.5145318328547881 valid error 0.5109390244791684\n",
            "Epoch 201 error 0.5145246916117422 valid error 0.5109312514033676\n",
            "Epoch 202 error 0.5145177386478751 valid error 0.510923674611235\n",
            "Epoch 203 error 0.5145109689565646 valid error 0.510916289002237\n",
            "Epoch 204 error 0.5145043776649103 valid error 0.5109090896104456\n",
            "Epoch 205 error 0.5144979600301566 valid error 0.5109020716009557\n",
            "Epoch 206 error 0.5144917114361943 valid error 0.5108952302664059\n",
            "Epoch 207 error 0.514485627390192 valid error 0.5108885610235842\n",
            "Epoch 208 error 0.5144797035192763 valid error 0.51088205941012\n",
            "Epoch 209 error 0.5144739355673326 valid error 0.5108757210812794\n",
            "Epoch 210 error 0.5144683193918781 valid error 0.5108695418068272\n",
            "Epoch 211 error 0.5144628509610231 valid error 0.5108635174679937\n",
            "Epoch 212 error 0.5144575263504982 valid error 0.5108576440545068\n",
            "Epoch 213 error 0.5144523417407942 valid error 0.5108519176617028\n",
            "Epoch 214 error 0.5144472934143414 valid error 0.510846334487732\n",
            "Epoch 215 error 0.5144423777528011 valid error 0.5108408908308154\n",
            "Epoch 216 error 0.5144375912343799 valid error 0.5108355830865883\n",
            "Epoch 217 error 0.5144329304312804 valid error 0.5108304077455194\n",
            "Epoch 218 error 0.5144283920071673 valid error 0.5108253613903798\n",
            "Epoch 219 error 0.5144239727147143 valid error 0.5108204406938052\n",
            "Epoch 220 error 0.5144196693932452 valid error 0.5108156424159024\n",
            "Epoch 221 error 0.5144154789663946 valid error 0.5108109634019172\n",
            "Epoch 222 error 0.5144113984398591 valid error 0.5108064005799985\n",
            "Epoch 223 error 0.5144074248992087 valid error 0.5108019509589713\n",
            "Epoch 224 error 0.5144035555077459 valid error 0.5107976116262133\n",
            "Epoch 225 error 0.5143997875044166 valid error 0.5107933797455636\n",
            "Epoch 226 error 0.5143961182018032 valid error 0.5107892525552935\n",
            "Epoch 227 error 0.5143925449841412 valid error 0.5107852273661353\n",
            "Epoch 228 error 0.5143890653054162 valid error 0.5107813015593614\n",
            "Epoch 229 error 0.5143856766874843 valid error 0.5107774725849039\n",
            "Epoch 230 error 0.5143823767182654 valid error 0.5107737379595431\n",
            "Epoch 231 error 0.5143791630499784 valid error 0.5107700952651356\n",
            "Epoch 232 error 0.514376033397414 valid error 0.5107665421468822\n",
            "Epoch 233 error 0.5143729855362704 valid error 0.5107630763116585\n",
            "Epoch 234 error 0.5143700173015139 valid error 0.5107596955263711\n",
            "Epoch 235 error 0.5143671265858055 valid error 0.5107563976163763\n",
            "Epoch 236 error 0.5143643113379459 valid error 0.5107531804639197\n",
            "Epoch 237 error 0.514361569561393 valid error 0.5107500420066453\n",
            "Epoch 238 error 0.5143588993127853 valid error 0.5107469802361102\n",
            "Epoch 239 error 0.5143562987005178 valid error 0.5107439931963765\n",
            "Epoch 240 error 0.5143537658833723 valid error 0.5107410789826055\n",
            "Epoch 241 error 0.514351299069166 valid error 0.5107382357397143\n",
            "Epoch 242 error 0.5143488965134264 valid error 0.5107354616610525\n",
            "Epoch 243 error 0.5143465565181392 valid error 0.5107327549871329\n",
            "Epoch 244 error 0.5143442774304955 valid error 0.5107301140043642\n",
            "Epoch 245 error 0.5143420576416767 valid error 0.5107275370438588\n",
            "Epoch 246 error 0.5143398955856893 valid error 0.5107250224802344\n",
            "Epoch 247 error 0.5143377897382228 valid error 0.5107225687304745\n",
            "Epoch 248 error 0.5143357386155196 valid error 0.5107201742528013\n",
            "Epoch 249 error 0.5143337407733103 valid error 0.5107178375455889\n",
            "Epoch 250 error 0.5143317948057512 valid error 0.5107155571463028\n",
            "Epoch 251 error 0.5143298993443849 valid error 0.5107133316304671\n",
            "Epoch 252 error 0.514328053057177 valid error 0.5107111596106584\n",
            "Epoch 253 error 0.514326254647498 valid error 0.5107090397355276\n",
            "Epoch 254 error 0.5143245028532059 valid error 0.5107069706888513\n",
            "Epoch 255 error 0.5143227964457289 valid error 0.510704951188596\n",
            "Epoch 256 error 0.5143211342291454 valid error 0.5107029799860262\n",
            "Epoch 257 error 0.5143195150393293 valid error 0.510701055864817\n",
            "Epoch 258 error 0.5143179377431029 valid error 0.5106991776402067\n",
            "Epoch 259 error 0.5143164012373982 valid error 0.5106973441581598\n",
            "Epoch 260 error 0.5143149044484632 valid error 0.5106955542945586\n",
            "Epoch 261 error 0.5143134463310698 valid error 0.5106938069544142\n",
            "Epoch 262 error 0.51431202586776 valid error 0.5106921010710967\n",
            "Epoch 263 error 0.5143106420681075 valid error 0.5106904356055926\n",
            "Epoch 264 error 0.5143092939679932 valid error 0.5106888095457792\n",
            "Epoch 265 error 0.5143079806288813 valid error 0.5106872219057023\n",
            "Epoch 266 error 0.5143067011371766 valid error 0.5106856717249062\n",
            "Epoch 267 error 0.5143054546035325 valid error 0.5106841580677501\n",
            "Epoch 268 error 0.5143042401622047 valid error 0.510682680022761\n",
            "Epoch 269 error 0.5143030569704281 valid error 0.5106812367019955\n",
            "Epoch 270 error 0.5143019042078081 valid error 0.5106798272404168\n",
            "Epoch 271 error 0.5143007810757152 valid error 0.5106784507953033\n",
            "Epoch 272 error 0.514299686796697 valid error 0.5106771065456521\n",
            "Epoch 273 error 0.5142986206139387 valid error 0.5106757936916164\n",
            "Epoch 274 error 0.514297581790682 valid error 0.510674511453938\n",
            "Epoch 275 error 0.5142965696097154 valid error 0.5106732590734198\n",
            "Epoch 276 error 0.5142955833728353 valid error 0.5106720358103931\n",
            "Epoch 277 error 0.514294622400353 valid error 0.5106708409441968\n",
            "Epoch 278 error 0.5142936860305888 valid error 0.5106696737726971\n",
            "Epoch 279 error 0.5142927736194012 valid error 0.5106685336117894\n",
            "Epoch 280 error 0.5142918845397142 valid error 0.510667419794923\n",
            "Epoch 281 error 0.5142910181810626 valid error 0.5106663316726487\n",
            "Epoch 282 error 0.5142901739491456 valid error 0.5106652686121599\n",
            "Epoch 283 error 0.5142893512654161 valid error 0.5106642299968787\n",
            "Epoch 284 error 0.5142885495666255 valid error 0.5106632152260032\n",
            "Epoch 285 error 0.5142877683044473 valid error 0.5106622237141096\n",
            "Epoch 286 error 0.5142870069450671 valid error 0.5106612548907489\n",
            "Epoch 287 error 0.5142862649687924 valid error 0.5106603082000539\n",
            "Epoch 288 error 0.5142855418696871 valid error 0.510659383100356\n",
            "Epoch 289 error 0.5142848371551919 valid error 0.5106584790638142\n",
            "Epoch 290 error 0.514284150345779 valid error 0.510657595576055\n",
            "Epoch 291 error 0.5142834809745991 valid error 0.5106567321358199\n",
            "Epoch 292 error 0.5142828285871481 valid error 0.5106558882546263\n",
            "Epoch 293 error 0.5142821927409312 valid error 0.510655063456424\n",
            "Epoch 294 error 0.51428157300515 valid error 0.5106542572772831\n",
            "Epoch 295 error 0.5142809689603849 valid error 0.5106534692650652\n",
            "Epoch 296 error 0.5142803801983069 valid error 0.5106526989791272\n",
            "Epoch 297 error 0.5142798063213574 valid error 0.5106519459900177\n",
            "Epoch 298 error 0.5142792469424841 valid error 0.5106512098791798\n",
            "Epoch 299 error 0.5142787016848543 valid error 0.5106504902386755\n"
          ]
        }
      ]
    },
    {
      "cell_type": "code",
      "source": [
        "plt.figure(figsize=(16,8))\n",
        "plt.plot(errorList, label='Train')\n",
        "plt.plot(validErrorList, label='Test')\n",
        "plt.xlabel(\"Epochs\")\n",
        "plt.ylabel(\"Training MSE\")\n",
        "plt.legend()\n",
        "plt.show()"
      ],
      "metadata": {
        "id": "Aunto_pvYAZV",
        "colab": {
          "base_uri": "https://localhost:8080/",
          "height": 497
        },
        "outputId": "68753c22-016e-4b3f-dc87-d99e423b6ed4"
      },
      "execution_count": null,
      "outputs": [
        {
          "output_type": "display_data",
          "data": {
            "text/plain": [
              "<Figure size 1152x576 with 1 Axes>"
            ],
            "image/png": "[encoded data removed]"
          },
          "metadata": {
            "needs_background": "light"
          }
        }
      ]
    },
    {
      "cell_type": "markdown",
      "source": [
        "En este caso estamos seguros que nuestro modelo no have overfitting ya que la loss de nustro test nunca vuelve a ascender, podemos revisar cuales son los resultados para comparar con nuestro Y original"
      ],
      "metadata": {
        "id": "ACDUSzaBiAup"
      }
    },
    {
      "cell_type": "code",
      "source": [
        "x1, x2, x3 = X_test, X_test**2, X_test**3\n",
        "predTest=w1*x3 + w2*x2 + w1*x1 + bias\n",
        "\n",
        "x1, x2, x3 = X_train, X_train**2, X_train**3\n",
        "predTrain=w1*x3 + w2*x2 + w1*x1 + bias"
      ],
      "metadata": {
        "id": "vXyIdAOHhmZj"
      },
      "execution_count": null,
      "outputs": []
    },
    {
      "cell_type": "code",
      "source": [
        "plt.figure(figsize=(16,8))\n",
        "plt.scatter(X_test,predTest, label='Pred')\n",
        "plt.scatter(X_test,Y_test, label='Test')\n",
        "plt.xlabel(\"X\")\n",
        "plt.ylabel(\"Y\")\n",
        "plt.legend()\n",
        "plt.show()"
      ],
      "metadata": {
        "id": "Du5KRPTdib3v",
        "colab": {
          "base_uri": "https://localhost:8080/",
          "height": 497
        },
        "outputId": "47218d9a-560b-44db-ca08-508f01c9d7e2"
      },
      "execution_count": null,
      "outputs": [
        {
          "output_type": "display_data",
          "data": {
            "text/plain": [
              "<Figure size 1152x576 with 1 Axes>"
            ],
            "image/png": "[encoded data removed]"
          },
          "metadata": {
            "needs_background": "light"
          }
        }
      ]
    },
    {
      "cell_type": "code",
      "source": [
        "plt.figure(figsize=(16,8))\n",
        "plt.scatter(X_train,predTrain, label='Pred')\n",
        "plt.scatter(X_train,Y_train, label='Train')\n",
        "plt.xlabel(\"X\")\n",
        "plt.ylabel(\"Y\")\n",
        "plt.legend()\n",
        "plt.show()"
      ],
      "metadata": {
        "id": "B4KgCedwi-Mz",
        "colab": {
          "base_uri": "https://localhost:8080/",
          "height": 497
        },
        "outputId": "0c67025d-195c-434a-c78b-86aca9f98eab"
      },
      "execution_count": null,
      "outputs": [
        {
          "output_type": "display_data",
          "data": {
            "text/plain": [
              "<Figure size 1152x576 with 1 Axes>"
            ],
            "image/png": "[encoded data removed]"
          },
          "metadata": {
            "needs_background": "light"
          }
        }
      ]
    },
    {
      "cell_type": "markdown",
      "source": [
        "### Si bien nuestro modelo sigue una forma similar a la data original, podemos decir que el modelo esta UNDERFITEADO ya que ni siquiera sobre el set de train podemos ver que fitee correctamente"
      ],
      "metadata": {
        "id": "aeC2My8rit_N"
      }
    },
    {
      "cell_type": "markdown",
      "source": [
        "# Punto 2\n",
        "Utilizando el mismo dataset que en el link anterior, diseñar una red neuronal que haga un overfitting sobre el dataset. ¿Cómo saben que la red neuronal está haciendo overfitting? Agregar regularización y encontrar los parámetros correctos para lograr un buen fit. Explicar el procedimiento realizado.\n"
      ],
      "metadata": {
        "id": "IrmowvrljVZh"
      }
    },
    {
      "cell_type": "code",
      "source": [
        "train_dataset_fulll = TensorDataset( Tensor(X_train), Tensor(Y_train) )\n",
        "test_dataset_fulll = TensorDataset( Tensor(X_test), Tensor(Y_test) )\n"
      ],
      "metadata": {
        "id": "7O_SwyFzjfyc"
      },
      "execution_count": null,
      "outputs": []
    },
    {
      "cell_type": "code",
      "source": [
        "dataloader = {\n",
        "    'train': torch.utils.data.DataLoader(train_dataset_fulll, batch_size=50, shuffle=True, pin_memory=True),\n",
        "    'test': torch.utils.data.DataLoader(test_dataset_fulll, batch_size=50, shuffle=False, pin_memory=True)\n",
        "}"
      ],
      "metadata": {
        "id": "SUsYWOG_mYM1"
      },
      "execution_count": null,
      "outputs": []
    },
    {
      "cell_type": "code",
      "source": [
        "train_loader = torch.utils.data.DataLoader(train_dataset_fulll, batch_size=50, shuffle=True, pin_memory=True)\n",
        "test_loader =  torch.utils.data.DataLoader(test_dataset_fulll, batch_size=50, shuffle=False, pin_memory=True)\n"
      ],
      "metadata": {
        "id": "edDe9Lg9mw6i"
      },
      "execution_count": null,
      "outputs": []
    },
    {
      "cell_type": "code",
      "source": [
        "class Net(nn.Module):\n",
        "\n",
        "    def __init__(self):\n",
        "        super(Net, self).__init__()\n",
        "        self.fc1 = nn.Linear(50, 120) \n",
        "        self.fc2 = nn.Linear(120, 84)\n",
        "        self.fc3 = nn.Linear(84, 50)\n",
        "\n",
        "    def forward(self, x):\n",
        "        x = F.relu(self.fc1(x))\n",
        "        x = F.relu(self.fc2(x))\n",
        "        x = self.fc3(x)\n",
        "        return x\n",
        "\n",
        "\n",
        "\n"
      ],
      "metadata": {
        "id": "GTLpFUjMleQ2"
      },
      "execution_count": null,
      "outputs": []
    },
    {
      "cell_type": "code",
      "source": [
        "net = Net()\n",
        "print(net)\n",
        "learning_rate=0.001"
      ],
      "metadata": {
        "id": "9lXFyvhlnC0a",
        "colab": {
          "base_uri": "https://localhost:8080/"
        },
        "outputId": "23d540e1-3d20-4805-9d94-b2dc1adf8e97"
      },
      "execution_count": null,
      "outputs": [
        {
          "output_type": "stream",
          "name": "stdout",
          "text": [
            "Net(\n",
            "  (fc1): Linear(in_features=50, out_features=120, bias=True)\n",
            "  (fc2): Linear(in_features=120, out_features=84, bias=True)\n",
            "  (fc3): Linear(in_features=84, out_features=50, bias=True)\n",
            ")\n"
          ]
        }
      ]
    },
    {
      "cell_type": "markdown",
      "source": [
        "## NNet sin regularizaion"
      ],
      "metadata": {
        "id": "zSkyEu9lr8Id"
      }
    },
    {
      "cell_type": "code",
      "source": [
        "#optimizer=torch.optim.Adam(net.parameters(), lr=learning_rate,weight_decay=1e-5)\n",
        "optimizer=torch.optim.Adam(net.parameters(), lr=learning_rate)\n",
        "criterion=nn.MSELoss()"
      ],
      "metadata": {
        "id": "FNK4fSHYm9rU"
      },
      "execution_count": null,
      "outputs": []
    },
    {
      "cell_type": "code",
      "source": [
        "def early_stopping(train_loss, validation_loss, min_delta, tolerance):\n",
        "\n",
        "    counter = 0\n",
        "    if (validation_loss - train_loss) > min_delta:\n",
        "        counter +=1\n",
        "        if counter >= tolerance:\n",
        "          return True"
      ],
      "metadata": {
        "id": "DalK-LI5nsfD"
      },
      "execution_count": null,
      "outputs": []
    },
    {
      "cell_type": "code",
      "source": [
        "def fit(model, dataloader,criterion,optimizer, epochs=5):\n",
        "    model.to(device)\n",
        "    losses = []\n",
        "    val_losses = []\n",
        "    for epoch in range(1, epochs+1):\n",
        "        model.train()\n",
        "        train_loss, train_acc = [], []\n",
        "        bar = tqdm(dataloader['train'])\n",
        "        for batch in bar:\n",
        "            X, y = batch\n",
        "            #X = X.float()\n",
        "            X, y = X.to(device), y.to(device)\n",
        "            optimizer.zero_grad()\n",
        "            y_hat = model(X)\n",
        "            loss = criterion(y_hat, y)\n",
        "            loss.backward()\n",
        "            optimizer.step()\n",
        "            train_loss.append(loss.item())\n",
        "            ####\n",
        "        bar = tqdm(dataloader['test'])\n",
        "        val_loss, val_acc = [], []\n",
        "        model.eval()\n",
        "        with torch.no_grad():\n",
        "            for batch in bar:\n",
        "                X, y = batch\n",
        "                #X = X.float()\n",
        "                X, y = X.to(device), y.to(device)\n",
        "                y_hat = model(X)\n",
        "                loss = criterion(y_hat, y)\n",
        "                val_loss.append(loss.item())\n",
        "         # early stopping\n",
        "        #if early_stopping(train_loss[-1], val_loss[-1], min_delta=10, tolerance = 20):\n",
        "        #  print(\"We are at epoch:\", epoch)\n",
        "        #  break\n",
        "        losses.append(np.mean(train_loss))\n",
        "        val_losses.append(np.mean(val_loss))\n",
        "        print(f\"Epoch {epoch}/{epochs} loss {np.mean(train_loss):.5f} val_loss {np.mean(val_loss):.5f}\")\n",
        "    return losses,val_losses"
      ],
      "metadata": {
        "id": "dYg8_lElncks"
      },
      "execution_count": null,
      "outputs": []
    },
    {
      "cell_type": "code",
      "source": [
        "losses,val_losses=fit(net, dataloader ,criterion , optimizer, epochs=150)"
      ],
      "metadata": {
        "id": "ejAJdwGSnjhI",
        "colab": {
          "base_uri": "https://localhost:8080/"
        },
        "outputId": "b50eeb9e-fb36-4e4d-9aa0-3193cd78c5b0"
      },
      "execution_count": null,
      "outputs": [
        {
          "output_type": "stream",
          "name": "stderr",
          "text": [
            "100%|██████████| 140/140 [00:00<00:00, 488.08it/s]\n",
            "100%|██████████| 60/60 [00:00<00:00, 1500.83it/s]\n"
          ]
        },
        {
          "output_type": "stream",
          "name": "stdout",
          "text": [
            "Epoch 1/150 loss 5.95311 val_loss 5.33415\n"
          ]
        },
        {
          "output_type": "stream",
          "name": "stderr",
          "text": [
            "100%|██████████| 140/140 [00:00<00:00, 493.58it/s]\n",
            "100%|██████████| 60/60 [00:00<00:00, 1355.52it/s]\n"
          ]
        },
        {
          "output_type": "stream",
          "name": "stdout",
          "text": [
            "Epoch 2/150 loss 5.27354 val_loss 5.24368\n"
          ]
        },
        {
          "output_type": "stream",
          "name": "stderr",
          "text": [
            "100%|██████████| 140/140 [00:00<00:00, 485.06it/s]\n",
            "100%|██████████| 60/60 [00:00<00:00, 1380.12it/s]\n"
          ]
        },
        {
          "output_type": "stream",
          "name": "stdout",
          "text": [
            "Epoch 3/150 loss 5.16110 val_loss 5.20990\n"
          ]
        },
        {
          "output_type": "stream",
          "name": "stderr",
          "text": [
            "100%|██████████| 140/140 [00:00<00:00, 488.82it/s]\n",
            "100%|██████████| 60/60 [00:00<00:00, 1452.65it/s]\n"
          ]
        },
        {
          "output_type": "stream",
          "name": "stdout",
          "text": [
            "Epoch 4/150 loss 5.12184 val_loss 5.09667\n"
          ]
        },
        {
          "output_type": "stream",
          "name": "stderr",
          "text": [
            "100%|██████████| 140/140 [00:00<00:00, 502.82it/s]\n",
            "100%|██████████| 60/60 [00:00<00:00, 1582.34it/s]\n"
          ]
        },
        {
          "output_type": "stream",
          "name": "stdout",
          "text": [
            "Epoch 5/150 loss 4.96891 val_loss 4.96245\n"
          ]
        },
        {
          "output_type": "stream",
          "name": "stderr",
          "text": [
            "100%|██████████| 140/140 [00:00<00:00, 493.03it/s]\n",
            "100%|██████████| 60/60 [00:00<00:00, 1479.25it/s]\n"
          ]
        },
        {
          "output_type": "stream",
          "name": "stdout",
          "text": [
            "Epoch 6/150 loss 4.85814 val_loss 4.82302\n"
          ]
        },
        {
          "output_type": "stream",
          "name": "stderr",
          "text": [
            "100%|██████████| 140/140 [00:00<00:00, 495.05it/s]\n",
            "100%|██████████| 60/60 [00:00<00:00, 1138.33it/s]\n"
          ]
        },
        {
          "output_type": "stream",
          "name": "stdout",
          "text": [
            "Epoch 7/150 loss 4.77456 val_loss 4.80750\n"
          ]
        },
        {
          "output_type": "stream",
          "name": "stderr",
          "text": [
            "100%|██████████| 140/140 [00:00<00:00, 473.27it/s]\n",
            "100%|██████████| 60/60 [00:00<00:00, 1471.21it/s]\n"
          ]
        },
        {
          "output_type": "stream",
          "name": "stdout",
          "text": [
            "Epoch 8/150 loss 4.61644 val_loss 4.61827\n"
          ]
        },
        {
          "output_type": "stream",
          "name": "stderr",
          "text": [
            "100%|██████████| 140/140 [00:00<00:00, 521.19it/s]\n",
            "100%|██████████| 60/60 [00:00<00:00, 1422.68it/s]\n"
          ]
        },
        {
          "output_type": "stream",
          "name": "stdout",
          "text": [
            "Epoch 9/150 loss 4.55802 val_loss 4.53469\n"
          ]
        },
        {
          "output_type": "stream",
          "name": "stderr",
          "text": [
            "100%|██████████| 140/140 [00:00<00:00, 504.75it/s]\n",
            "100%|██████████| 60/60 [00:00<00:00, 1567.84it/s]\n"
          ]
        },
        {
          "output_type": "stream",
          "name": "stdout",
          "text": [
            "Epoch 10/150 loss 4.40604 val_loss 4.43134\n"
          ]
        },
        {
          "output_type": "stream",
          "name": "stderr",
          "text": [
            "100%|██████████| 140/140 [00:00<00:00, 503.25it/s]\n",
            "100%|██████████| 60/60 [00:00<00:00, 1300.78it/s]\n"
          ]
        },
        {
          "output_type": "stream",
          "name": "stdout",
          "text": [
            "Epoch 11/150 loss 4.31593 val_loss 4.26739\n"
          ]
        },
        {
          "output_type": "stream",
          "name": "stderr",
          "text": [
            "100%|██████████| 140/140 [00:00<00:00, 485.97it/s]\n",
            "100%|██████████| 60/60 [00:00<00:00, 1385.91it/s]\n"
          ]
        },
        {
          "output_type": "stream",
          "name": "stdout",
          "text": [
            "Epoch 12/150 loss 4.16544 val_loss 4.22308\n"
          ]
        },
        {
          "output_type": "stream",
          "name": "stderr",
          "text": [
            "100%|██████████| 140/140 [00:00<00:00, 503.17it/s]\n",
            "100%|██████████| 60/60 [00:00<00:00, 1551.30it/s]\n"
          ]
        },
        {
          "output_type": "stream",
          "name": "stdout",
          "text": [
            "Epoch 13/150 loss 4.06356 val_loss 4.12582\n"
          ]
        },
        {
          "output_type": "stream",
          "name": "stderr",
          "text": [
            "100%|██████████| 140/140 [00:00<00:00, 504.94it/s]\n",
            "100%|██████████| 60/60 [00:00<00:00, 1492.71it/s]\n"
          ]
        },
        {
          "output_type": "stream",
          "name": "stdout",
          "text": [
            "Epoch 14/150 loss 4.00717 val_loss 4.05951\n"
          ]
        },
        {
          "output_type": "stream",
          "name": "stderr",
          "text": [
            "100%|██████████| 140/140 [00:00<00:00, 475.13it/s]\n",
            "100%|██████████| 60/60 [00:00<00:00, 1499.20it/s]\n"
          ]
        },
        {
          "output_type": "stream",
          "name": "stdout",
          "text": [
            "Epoch 15/150 loss 3.92104 val_loss 3.90353\n"
          ]
        },
        {
          "output_type": "stream",
          "name": "stderr",
          "text": [
            "100%|██████████| 140/140 [00:00<00:00, 509.23it/s]\n",
            "100%|██████████| 60/60 [00:00<00:00, 1393.67it/s]\n"
          ]
        },
        {
          "output_type": "stream",
          "name": "stdout",
          "text": [
            "Epoch 16/150 loss 3.79860 val_loss 3.79042\n"
          ]
        },
        {
          "output_type": "stream",
          "name": "stderr",
          "text": [
            "100%|██████████| 140/140 [00:00<00:00, 497.40it/s]\n",
            "100%|██████████| 60/60 [00:00<00:00, 1442.66it/s]\n"
          ]
        },
        {
          "output_type": "stream",
          "name": "stdout",
          "text": [
            "Epoch 17/150 loss 3.72284 val_loss 3.67894\n"
          ]
        },
        {
          "output_type": "stream",
          "name": "stderr",
          "text": [
            "100%|██████████| 140/140 [00:00<00:00, 504.24it/s]\n",
            "100%|██████████| 60/60 [00:00<00:00, 1610.83it/s]\n"
          ]
        },
        {
          "output_type": "stream",
          "name": "stdout",
          "text": [
            "Epoch 18/150 loss 3.70345 val_loss 3.64112\n"
          ]
        },
        {
          "output_type": "stream",
          "name": "stderr",
          "text": [
            "100%|██████████| 140/140 [00:00<00:00, 516.56it/s]\n",
            "100%|██████████| 60/60 [00:00<00:00, 1455.49it/s]\n"
          ]
        },
        {
          "output_type": "stream",
          "name": "stdout",
          "text": [
            "Epoch 19/150 loss 3.53885 val_loss 3.63225\n"
          ]
        },
        {
          "output_type": "stream",
          "name": "stderr",
          "text": [
            "100%|██████████| 140/140 [00:00<00:00, 473.50it/s]\n",
            "100%|██████████| 60/60 [00:00<00:00, 1553.93it/s]\n"
          ]
        },
        {
          "output_type": "stream",
          "name": "stdout",
          "text": [
            "Epoch 20/150 loss 3.53201 val_loss 3.46079\n"
          ]
        },
        {
          "output_type": "stream",
          "name": "stderr",
          "text": [
            "100%|██████████| 140/140 [00:00<00:00, 521.21it/s]\n",
            "100%|██████████| 60/60 [00:00<00:00, 1618.58it/s]\n"
          ]
        },
        {
          "output_type": "stream",
          "name": "stdout",
          "text": [
            "Epoch 21/150 loss 3.49928 val_loss 3.50132\n"
          ]
        },
        {
          "output_type": "stream",
          "name": "stderr",
          "text": [
            "100%|██████████| 140/140 [00:00<00:00, 512.62it/s]\n",
            "100%|██████████| 60/60 [00:00<00:00, 1470.65it/s]\n"
          ]
        },
        {
          "output_type": "stream",
          "name": "stdout",
          "text": [
            "Epoch 22/150 loss 3.38677 val_loss 3.46254\n"
          ]
        },
        {
          "output_type": "stream",
          "name": "stderr",
          "text": [
            "100%|██████████| 140/140 [00:00<00:00, 506.35it/s]\n",
            "100%|██████████| 60/60 [00:00<00:00, 1446.43it/s]\n"
          ]
        },
        {
          "output_type": "stream",
          "name": "stdout",
          "text": [
            "Epoch 23/150 loss 3.35795 val_loss 3.30940\n"
          ]
        },
        {
          "output_type": "stream",
          "name": "stderr",
          "text": [
            "100%|██████████| 140/140 [00:00<00:00, 521.88it/s]\n",
            "100%|██████████| 60/60 [00:00<00:00, 1544.62it/s]\n"
          ]
        },
        {
          "output_type": "stream",
          "name": "stdout",
          "text": [
            "Epoch 24/150 loss 3.33307 val_loss 3.30850\n"
          ]
        },
        {
          "output_type": "stream",
          "name": "stderr",
          "text": [
            "100%|██████████| 140/140 [00:00<00:00, 495.58it/s]\n",
            "100%|██████████| 60/60 [00:00<00:00, 1449.44it/s]\n"
          ]
        },
        {
          "output_type": "stream",
          "name": "stdout",
          "text": [
            "Epoch 25/150 loss 3.35635 val_loss 3.28731\n"
          ]
        },
        {
          "output_type": "stream",
          "name": "stderr",
          "text": [
            "100%|██████████| 140/140 [00:00<00:00, 474.48it/s]\n",
            "100%|██████████| 60/60 [00:00<00:00, 1497.73it/s]\n"
          ]
        },
        {
          "output_type": "stream",
          "name": "stdout",
          "text": [
            "Epoch 26/150 loss 3.19917 val_loss 3.23980\n"
          ]
        },
        {
          "output_type": "stream",
          "name": "stderr",
          "text": [
            "100%|██████████| 140/140 [00:00<00:00, 524.32it/s]\n",
            "100%|██████████| 60/60 [00:00<00:00, 1391.29it/s]\n"
          ]
        },
        {
          "output_type": "stream",
          "name": "stdout",
          "text": [
            "Epoch 27/150 loss 3.25435 val_loss 3.14055\n"
          ]
        },
        {
          "output_type": "stream",
          "name": "stderr",
          "text": [
            "100%|██████████| 140/140 [00:00<00:00, 522.04it/s]\n",
            "100%|██████████| 60/60 [00:00<00:00, 1559.31it/s]\n"
          ]
        },
        {
          "output_type": "stream",
          "name": "stdout",
          "text": [
            "Epoch 28/150 loss 3.07589 val_loss 3.17627\n"
          ]
        },
        {
          "output_type": "stream",
          "name": "stderr",
          "text": [
            "100%|██████████| 140/140 [00:00<00:00, 492.55it/s]\n",
            "100%|██████████| 60/60 [00:00<00:00, 1234.50it/s]\n"
          ]
        },
        {
          "output_type": "stream",
          "name": "stdout",
          "text": [
            "Epoch 29/150 loss 3.13148 val_loss 3.08510\n"
          ]
        },
        {
          "output_type": "stream",
          "name": "stderr",
          "text": [
            "100%|██████████| 140/140 [00:00<00:00, 496.72it/s]\n",
            "100%|██████████| 60/60 [00:00<00:00, 1493.51it/s]\n"
          ]
        },
        {
          "output_type": "stream",
          "name": "stdout",
          "text": [
            "Epoch 30/150 loss 3.10041 val_loss 3.06679\n"
          ]
        },
        {
          "output_type": "stream",
          "name": "stderr",
          "text": [
            "100%|██████████| 140/140 [00:00<00:00, 494.97it/s]\n",
            "100%|██████████| 60/60 [00:00<00:00, 1333.00it/s]\n"
          ]
        },
        {
          "output_type": "stream",
          "name": "stdout",
          "text": [
            "Epoch 31/150 loss 3.03342 val_loss 3.08913\n"
          ]
        },
        {
          "output_type": "stream",
          "name": "stderr",
          "text": [
            "100%|██████████| 140/140 [00:00<00:00, 485.28it/s]\n",
            "100%|██████████| 60/60 [00:00<00:00, 1428.72it/s]\n"
          ]
        },
        {
          "output_type": "stream",
          "name": "stdout",
          "text": [
            "Epoch 32/150 loss 2.94436 val_loss 2.96830\n"
          ]
        },
        {
          "output_type": "stream",
          "name": "stderr",
          "text": [
            "100%|██████████| 140/140 [00:00<00:00, 510.79it/s]\n",
            "100%|██████████| 60/60 [00:00<00:00, 1332.58it/s]\n"
          ]
        },
        {
          "output_type": "stream",
          "name": "stdout",
          "text": [
            "Epoch 33/150 loss 2.91675 val_loss 2.93763\n"
          ]
        },
        {
          "output_type": "stream",
          "name": "stderr",
          "text": [
            "100%|██████████| 140/140 [00:00<00:00, 523.96it/s]\n",
            "100%|██████████| 60/60 [00:00<00:00, 1430.04it/s]\n"
          ]
        },
        {
          "output_type": "stream",
          "name": "stdout",
          "text": [
            "Epoch 34/150 loss 2.92787 val_loss 2.87647\n"
          ]
        },
        {
          "output_type": "stream",
          "name": "stderr",
          "text": [
            "100%|██████████| 140/140 [00:00<00:00, 508.64it/s]\n",
            "100%|██████████| 60/60 [00:00<00:00, 1594.61it/s]\n"
          ]
        },
        {
          "output_type": "stream",
          "name": "stdout",
          "text": [
            "Epoch 35/150 loss 2.92305 val_loss 2.86888\n"
          ]
        },
        {
          "output_type": "stream",
          "name": "stderr",
          "text": [
            "100%|██████████| 140/140 [00:00<00:00, 489.32it/s]\n",
            "100%|██████████| 60/60 [00:00<00:00, 1654.17it/s]\n"
          ]
        },
        {
          "output_type": "stream",
          "name": "stdout",
          "text": [
            "Epoch 36/150 loss 2.78024 val_loss 3.03937\n"
          ]
        },
        {
          "output_type": "stream",
          "name": "stderr",
          "text": [
            "100%|██████████| 140/140 [00:00<00:00, 497.30it/s]\n",
            "100%|██████████| 60/60 [00:00<00:00, 1436.54it/s]\n"
          ]
        },
        {
          "output_type": "stream",
          "name": "stdout",
          "text": [
            "Epoch 37/150 loss 2.86612 val_loss 2.87510\n"
          ]
        },
        {
          "output_type": "stream",
          "name": "stderr",
          "text": [
            "100%|██████████| 140/140 [00:00<00:00, 479.45it/s]\n",
            "100%|██████████| 60/60 [00:00<00:00, 1432.85it/s]\n"
          ]
        },
        {
          "output_type": "stream",
          "name": "stdout",
          "text": [
            "Epoch 38/150 loss 2.80917 val_loss 2.85851\n"
          ]
        },
        {
          "output_type": "stream",
          "name": "stderr",
          "text": [
            "100%|██████████| 140/140 [00:00<00:00, 485.44it/s]\n",
            "100%|██████████| 60/60 [00:00<00:00, 1437.47it/s]\n"
          ]
        },
        {
          "output_type": "stream",
          "name": "stdout",
          "text": [
            "Epoch 39/150 loss 2.79586 val_loss 2.78975\n"
          ]
        },
        {
          "output_type": "stream",
          "name": "stderr",
          "text": [
            "100%|██████████| 140/140 [00:00<00:00, 498.86it/s]\n",
            "100%|██████████| 60/60 [00:00<00:00, 1282.84it/s]\n"
          ]
        },
        {
          "output_type": "stream",
          "name": "stdout",
          "text": [
            "Epoch 40/150 loss 2.68438 val_loss 2.76523\n"
          ]
        },
        {
          "output_type": "stream",
          "name": "stderr",
          "text": [
            "100%|██████████| 140/140 [00:00<00:00, 457.63it/s]\n",
            "100%|██████████| 60/60 [00:00<00:00, 1391.28it/s]\n"
          ]
        },
        {
          "output_type": "stream",
          "name": "stdout",
          "text": [
            "Epoch 41/150 loss 2.68390 val_loss 2.81470\n"
          ]
        },
        {
          "output_type": "stream",
          "name": "stderr",
          "text": [
            "100%|██████████| 140/140 [00:00<00:00, 449.69it/s]\n",
            "100%|██████████| 60/60 [00:00<00:00, 1365.79it/s]\n"
          ]
        },
        {
          "output_type": "stream",
          "name": "stdout",
          "text": [
            "Epoch 42/150 loss 2.72015 val_loss 2.78059\n"
          ]
        },
        {
          "output_type": "stream",
          "name": "stderr",
          "text": [
            "100%|██████████| 140/140 [00:00<00:00, 466.27it/s]\n",
            "100%|██████████| 60/60 [00:00<00:00, 1512.05it/s]\n"
          ]
        },
        {
          "output_type": "stream",
          "name": "stdout",
          "text": [
            "Epoch 43/150 loss 2.66586 val_loss 2.77237\n"
          ]
        },
        {
          "output_type": "stream",
          "name": "stderr",
          "text": [
            "100%|██████████| 140/140 [00:00<00:00, 490.06it/s]\n",
            "100%|██████████| 60/60 [00:00<00:00, 1406.13it/s]\n"
          ]
        },
        {
          "output_type": "stream",
          "name": "stdout",
          "text": [
            "Epoch 44/150 loss 2.67666 val_loss 2.64088\n"
          ]
        },
        {
          "output_type": "stream",
          "name": "stderr",
          "text": [
            "100%|██████████| 140/140 [00:00<00:00, 492.27it/s]\n",
            "100%|██████████| 60/60 [00:00<00:00, 1475.05it/s]\n"
          ]
        },
        {
          "output_type": "stream",
          "name": "stdout",
          "text": [
            "Epoch 45/150 loss 2.65331 val_loss 2.73144\n"
          ]
        },
        {
          "output_type": "stream",
          "name": "stderr",
          "text": [
            "100%|██████████| 140/140 [00:00<00:00, 487.84it/s]\n",
            "100%|██████████| 60/60 [00:00<00:00, 1528.43it/s]\n"
          ]
        },
        {
          "output_type": "stream",
          "name": "stdout",
          "text": [
            "Epoch 46/150 loss 2.58552 val_loss 2.68243\n"
          ]
        },
        {
          "output_type": "stream",
          "name": "stderr",
          "text": [
            "100%|██████████| 140/140 [00:00<00:00, 506.37it/s]\n",
            "100%|██████████| 60/60 [00:00<00:00, 1459.68it/s]\n"
          ]
        },
        {
          "output_type": "stream",
          "name": "stdout",
          "text": [
            "Epoch 47/150 loss 2.62098 val_loss 2.68299\n"
          ]
        },
        {
          "output_type": "stream",
          "name": "stderr",
          "text": [
            "100%|██████████| 140/140 [00:00<00:00, 503.02it/s]\n",
            "100%|██████████| 60/60 [00:00<00:00, 1463.28it/s]\n"
          ]
        },
        {
          "output_type": "stream",
          "name": "stdout",
          "text": [
            "Epoch 48/150 loss 2.59643 val_loss 2.66594\n"
          ]
        },
        {
          "output_type": "stream",
          "name": "stderr",
          "text": [
            "100%|██████████| 140/140 [00:00<00:00, 474.19it/s]\n",
            "100%|██████████| 60/60 [00:00<00:00, 1390.91it/s]\n"
          ]
        },
        {
          "output_type": "stream",
          "name": "stdout",
          "text": [
            "Epoch 49/150 loss 2.68671 val_loss 2.52915\n"
          ]
        },
        {
          "output_type": "stream",
          "name": "stderr",
          "text": [
            "100%|██████████| 140/140 [00:00<00:00, 491.02it/s]\n",
            "100%|██████████| 60/60 [00:00<00:00, 1409.67it/s]\n"
          ]
        },
        {
          "output_type": "stream",
          "name": "stdout",
          "text": [
            "Epoch 50/150 loss 2.58268 val_loss 2.58471\n"
          ]
        },
        {
          "output_type": "stream",
          "name": "stderr",
          "text": [
            "100%|██████████| 140/140 [00:00<00:00, 494.96it/s]\n",
            "100%|██████████| 60/60 [00:00<00:00, 1499.58it/s]\n"
          ]
        },
        {
          "output_type": "stream",
          "name": "stdout",
          "text": [
            "Epoch 51/150 loss 2.57947 val_loss 2.55386\n"
          ]
        },
        {
          "output_type": "stream",
          "name": "stderr",
          "text": [
            "100%|██████████| 140/140 [00:00<00:00, 475.63it/s]\n",
            "100%|██████████| 60/60 [00:00<00:00, 1461.12it/s]\n"
          ]
        },
        {
          "output_type": "stream",
          "name": "stdout",
          "text": [
            "Epoch 52/150 loss 2.51377 val_loss 2.60827\n"
          ]
        },
        {
          "output_type": "stream",
          "name": "stderr",
          "text": [
            "100%|██████████| 140/140 [00:00<00:00, 504.37it/s]\n",
            "100%|██████████| 60/60 [00:00<00:00, 1488.01it/s]\n"
          ]
        },
        {
          "output_type": "stream",
          "name": "stdout",
          "text": [
            "Epoch 53/150 loss 2.55456 val_loss 2.47080\n"
          ]
        },
        {
          "output_type": "stream",
          "name": "stderr",
          "text": [
            "100%|██████████| 140/140 [00:00<00:00, 494.65it/s]\n",
            "100%|██████████| 60/60 [00:00<00:00, 1297.90it/s]\n"
          ]
        },
        {
          "output_type": "stream",
          "name": "stdout",
          "text": [
            "Epoch 54/150 loss 2.47682 val_loss 2.45065\n"
          ]
        },
        {
          "output_type": "stream",
          "name": "stderr",
          "text": [
            "100%|██████████| 140/140 [00:00<00:00, 473.72it/s]\n",
            "100%|██████████| 60/60 [00:00<00:00, 1342.16it/s]\n"
          ]
        },
        {
          "output_type": "stream",
          "name": "stdout",
          "text": [
            "Epoch 55/150 loss 2.40035 val_loss 2.41697\n"
          ]
        },
        {
          "output_type": "stream",
          "name": "stderr",
          "text": [
            "100%|██████████| 140/140 [00:00<00:00, 501.02it/s]\n",
            "100%|██████████| 60/60 [00:00<00:00, 1467.39it/s]\n"
          ]
        },
        {
          "output_type": "stream",
          "name": "stdout",
          "text": [
            "Epoch 56/150 loss 2.40653 val_loss 2.52381\n"
          ]
        },
        {
          "output_type": "stream",
          "name": "stderr",
          "text": [
            "100%|██████████| 140/140 [00:00<00:00, 486.44it/s]\n",
            "100%|██████████| 60/60 [00:00<00:00, 1347.86it/s]\n"
          ]
        },
        {
          "output_type": "stream",
          "name": "stdout",
          "text": [
            "Epoch 57/150 loss 2.46018 val_loss 2.45241\n"
          ]
        },
        {
          "output_type": "stream",
          "name": "stderr",
          "text": [
            "100%|██████████| 140/140 [00:00<00:00, 448.31it/s]\n",
            "100%|██████████| 60/60 [00:00<00:00, 1435.08it/s]\n"
          ]
        },
        {
          "output_type": "stream",
          "name": "stdout",
          "text": [
            "Epoch 58/150 loss 2.39071 val_loss 2.42767\n"
          ]
        },
        {
          "output_type": "stream",
          "name": "stderr",
          "text": [
            "100%|██████████| 140/140 [00:00<00:00, 494.74it/s]\n",
            "100%|██████████| 60/60 [00:00<00:00, 1503.79it/s]\n"
          ]
        },
        {
          "output_type": "stream",
          "name": "stdout",
          "text": [
            "Epoch 59/150 loss 2.46415 val_loss 2.49562\n"
          ]
        },
        {
          "output_type": "stream",
          "name": "stderr",
          "text": [
            "100%|██████████| 140/140 [00:00<00:00, 498.65it/s]\n",
            "100%|██████████| 60/60 [00:00<00:00, 1333.44it/s]\n"
          ]
        },
        {
          "output_type": "stream",
          "name": "stdout",
          "text": [
            "Epoch 60/150 loss 2.40841 val_loss 2.45598\n"
          ]
        },
        {
          "output_type": "stream",
          "name": "stderr",
          "text": [
            "100%|██████████| 140/140 [00:00<00:00, 463.41it/s]\n",
            "100%|██████████| 60/60 [00:00<00:00, 1556.48it/s]\n"
          ]
        },
        {
          "output_type": "stream",
          "name": "stdout",
          "text": [
            "Epoch 61/150 loss 2.40825 val_loss 2.38732\n"
          ]
        },
        {
          "output_type": "stream",
          "name": "stderr",
          "text": [
            "100%|██████████| 140/140 [00:00<00:00, 490.05it/s]\n",
            "100%|██████████| 60/60 [00:00<00:00, 1444.96it/s]\n"
          ]
        },
        {
          "output_type": "stream",
          "name": "stdout",
          "text": [
            "Epoch 62/150 loss 2.38229 val_loss 2.40720\n"
          ]
        },
        {
          "output_type": "stream",
          "name": "stderr",
          "text": [
            "100%|██████████| 140/140 [00:00<00:00, 497.30it/s]\n",
            "100%|██████████| 60/60 [00:00<00:00, 1480.24it/s]\n"
          ]
        },
        {
          "output_type": "stream",
          "name": "stdout",
          "text": [
            "Epoch 63/150 loss 2.41332 val_loss 2.41846\n"
          ]
        },
        {
          "output_type": "stream",
          "name": "stderr",
          "text": [
            "100%|██████████| 140/140 [00:00<00:00, 484.83it/s]\n",
            "100%|██████████| 60/60 [00:00<00:00, 1396.20it/s]\n"
          ]
        },
        {
          "output_type": "stream",
          "name": "stdout",
          "text": [
            "Epoch 64/150 loss 2.36910 val_loss 2.50955\n"
          ]
        },
        {
          "output_type": "stream",
          "name": "stderr",
          "text": [
            "100%|██████████| 140/140 [00:00<00:00, 490.49it/s]\n",
            "100%|██████████| 60/60 [00:00<00:00, 1486.62it/s]\n"
          ]
        },
        {
          "output_type": "stream",
          "name": "stdout",
          "text": [
            "Epoch 65/150 loss 2.40075 val_loss 2.38516\n"
          ]
        },
        {
          "output_type": "stream",
          "name": "stderr",
          "text": [
            "100%|██████████| 140/140 [00:00<00:00, 509.28it/s]\n",
            "100%|██████████| 60/60 [00:00<00:00, 1304.89it/s]\n"
          ]
        },
        {
          "output_type": "stream",
          "name": "stdout",
          "text": [
            "Epoch 66/150 loss 2.41419 val_loss 2.46774\n"
          ]
        },
        {
          "output_type": "stream",
          "name": "stderr",
          "text": [
            "100%|██████████| 140/140 [00:00<00:00, 441.35it/s]\n",
            "100%|██████████| 60/60 [00:00<00:00, 1390.69it/s]\n"
          ]
        },
        {
          "output_type": "stream",
          "name": "stdout",
          "text": [
            "Epoch 67/150 loss 2.35688 val_loss 2.35441\n"
          ]
        },
        {
          "output_type": "stream",
          "name": "stderr",
          "text": [
            "100%|██████████| 140/140 [00:00<00:00, 447.73it/s]\n",
            "100%|██████████| 60/60 [00:00<00:00, 1468.42it/s]\n"
          ]
        },
        {
          "output_type": "stream",
          "name": "stdout",
          "text": [
            "Epoch 68/150 loss 2.34595 val_loss 2.34369\n"
          ]
        },
        {
          "output_type": "stream",
          "name": "stderr",
          "text": [
            "100%|██████████| 140/140 [00:00<00:00, 478.27it/s]\n",
            "100%|██████████| 60/60 [00:00<00:00, 1461.20it/s]\n"
          ]
        },
        {
          "output_type": "stream",
          "name": "stdout",
          "text": [
            "Epoch 69/150 loss 2.31886 val_loss 2.37059\n"
          ]
        },
        {
          "output_type": "stream",
          "name": "stderr",
          "text": [
            "100%|██████████| 140/140 [00:00<00:00, 498.88it/s]\n",
            "100%|██████████| 60/60 [00:00<00:00, 1446.69it/s]\n"
          ]
        },
        {
          "output_type": "stream",
          "name": "stdout",
          "text": [
            "Epoch 70/150 loss 2.27385 val_loss 2.41972\n"
          ]
        },
        {
          "output_type": "stream",
          "name": "stderr",
          "text": [
            "100%|██████████| 140/140 [00:00<00:00, 475.07it/s]\n",
            "100%|██████████| 60/60 [00:00<00:00, 1354.41it/s]\n"
          ]
        },
        {
          "output_type": "stream",
          "name": "stdout",
          "text": [
            "Epoch 71/150 loss 2.31897 val_loss 2.23838\n"
          ]
        },
        {
          "output_type": "stream",
          "name": "stderr",
          "text": [
            "100%|██████████| 140/140 [00:00<00:00, 474.62it/s]\n",
            "100%|██████████| 60/60 [00:00<00:00, 1363.05it/s]\n"
          ]
        },
        {
          "output_type": "stream",
          "name": "stdout",
          "text": [
            "Epoch 72/150 loss 2.33884 val_loss 2.46225\n"
          ]
        },
        {
          "output_type": "stream",
          "name": "stderr",
          "text": [
            "100%|██████████| 140/140 [00:00<00:00, 476.13it/s]\n",
            "100%|██████████| 60/60 [00:00<00:00, 1278.58it/s]\n"
          ]
        },
        {
          "output_type": "stream",
          "name": "stdout",
          "text": [
            "Epoch 73/150 loss 2.32168 val_loss 2.30650\n"
          ]
        },
        {
          "output_type": "stream",
          "name": "stderr",
          "text": [
            "100%|██████████| 140/140 [00:00<00:00, 499.27it/s]\n",
            "100%|██████████| 60/60 [00:00<00:00, 1308.00it/s]\n"
          ]
        },
        {
          "output_type": "stream",
          "name": "stdout",
          "text": [
            "Epoch 74/150 loss 2.29898 val_loss 2.41093\n"
          ]
        },
        {
          "output_type": "stream",
          "name": "stderr",
          "text": [
            "100%|██████████| 140/140 [00:00<00:00, 478.26it/s]\n",
            "100%|██████████| 60/60 [00:00<00:00, 1361.56it/s]\n"
          ]
        },
        {
          "output_type": "stream",
          "name": "stdout",
          "text": [
            "Epoch 75/150 loss 2.30393 val_loss 2.39139\n"
          ]
        },
        {
          "output_type": "stream",
          "name": "stderr",
          "text": [
            "100%|██████████| 140/140 [00:00<00:00, 499.86it/s]\n",
            "100%|██████████| 60/60 [00:00<00:00, 1372.00it/s]\n"
          ]
        },
        {
          "output_type": "stream",
          "name": "stdout",
          "text": [
            "Epoch 76/150 loss 2.25118 val_loss 2.26493\n"
          ]
        },
        {
          "output_type": "stream",
          "name": "stderr",
          "text": [
            "100%|██████████| 140/140 [00:00<00:00, 506.60it/s]\n",
            "100%|██████████| 60/60 [00:00<00:00, 1385.45it/s]\n"
          ]
        },
        {
          "output_type": "stream",
          "name": "stdout",
          "text": [
            "Epoch 77/150 loss 2.23101 val_loss 2.26864\n"
          ]
        },
        {
          "output_type": "stream",
          "name": "stderr",
          "text": [
            "100%|██████████| 140/140 [00:00<00:00, 477.18it/s]\n",
            "100%|██████████| 60/60 [00:00<00:00, 1371.13it/s]\n"
          ]
        },
        {
          "output_type": "stream",
          "name": "stdout",
          "text": [
            "Epoch 78/150 loss 2.29921 val_loss 2.41527\n"
          ]
        },
        {
          "output_type": "stream",
          "name": "stderr",
          "text": [
            "100%|██████████| 140/140 [00:00<00:00, 491.48it/s]\n",
            "100%|██████████| 60/60 [00:00<00:00, 1313.14it/s]\n"
          ]
        },
        {
          "output_type": "stream",
          "name": "stdout",
          "text": [
            "Epoch 79/150 loss 2.29717 val_loss 2.30571\n"
          ]
        },
        {
          "output_type": "stream",
          "name": "stderr",
          "text": [
            "100%|██████████| 140/140 [00:00<00:00, 486.50it/s]\n",
            "100%|██████████| 60/60 [00:00<00:00, 1471.92it/s]\n"
          ]
        },
        {
          "output_type": "stream",
          "name": "stdout",
          "text": [
            "Epoch 80/150 loss 2.25735 val_loss 2.32140\n"
          ]
        },
        {
          "output_type": "stream",
          "name": "stderr",
          "text": [
            "100%|██████████| 140/140 [00:00<00:00, 487.74it/s]\n",
            "100%|██████████| 60/60 [00:00<00:00, 1517.24it/s]\n"
          ]
        },
        {
          "output_type": "stream",
          "name": "stdout",
          "text": [
            "Epoch 81/150 loss 2.26714 val_loss 2.29434\n"
          ]
        },
        {
          "output_type": "stream",
          "name": "stderr",
          "text": [
            "100%|██████████| 140/140 [00:00<00:00, 484.62it/s]\n",
            "100%|██████████| 60/60 [00:00<00:00, 1528.96it/s]\n"
          ]
        },
        {
          "output_type": "stream",
          "name": "stdout",
          "text": [
            "Epoch 82/150 loss 2.22352 val_loss 2.33094\n"
          ]
        },
        {
          "output_type": "stream",
          "name": "stderr",
          "text": [
            "100%|██████████| 140/140 [00:00<00:00, 492.78it/s]\n",
            "100%|██████████| 60/60 [00:00<00:00, 1374.37it/s]\n"
          ]
        },
        {
          "output_type": "stream",
          "name": "stdout",
          "text": [
            "Epoch 83/150 loss 2.23782 val_loss 2.27722\n"
          ]
        },
        {
          "output_type": "stream",
          "name": "stderr",
          "text": [
            "100%|██████████| 140/140 [00:00<00:00, 472.40it/s]\n",
            "100%|██████████| 60/60 [00:00<00:00, 1490.67it/s]\n"
          ]
        },
        {
          "output_type": "stream",
          "name": "stdout",
          "text": [
            "Epoch 84/150 loss 2.24963 val_loss 2.23212\n"
          ]
        },
        {
          "output_type": "stream",
          "name": "stderr",
          "text": [
            "100%|██████████| 140/140 [00:00<00:00, 499.42it/s]\n",
            "100%|██████████| 60/60 [00:00<00:00, 1570.76it/s]\n"
          ]
        },
        {
          "output_type": "stream",
          "name": "stdout",
          "text": [
            "Epoch 85/150 loss 2.25230 val_loss 2.28413\n"
          ]
        },
        {
          "output_type": "stream",
          "name": "stderr",
          "text": [
            "100%|██████████| 140/140 [00:00<00:00, 485.64it/s]\n",
            "100%|██████████| 60/60 [00:00<00:00, 1302.34it/s]\n"
          ]
        },
        {
          "output_type": "stream",
          "name": "stdout",
          "text": [
            "Epoch 86/150 loss 2.27017 val_loss 2.28803\n"
          ]
        },
        {
          "output_type": "stream",
          "name": "stderr",
          "text": [
            "100%|██████████| 140/140 [00:00<00:00, 459.79it/s]\n",
            "100%|██████████| 60/60 [00:00<00:00, 1432.42it/s]\n"
          ]
        },
        {
          "output_type": "stream",
          "name": "stdout",
          "text": [
            "Epoch 87/150 loss 2.24539 val_loss 2.19034\n"
          ]
        },
        {
          "output_type": "stream",
          "name": "stderr",
          "text": [
            "100%|██████████| 140/140 [00:00<00:00, 479.53it/s]\n",
            "100%|██████████| 60/60 [00:00<00:00, 1461.80it/s]\n"
          ]
        },
        {
          "output_type": "stream",
          "name": "stdout",
          "text": [
            "Epoch 88/150 loss 2.24282 val_loss 2.23553\n"
          ]
        },
        {
          "output_type": "stream",
          "name": "stderr",
          "text": [
            "100%|██████████| 140/140 [00:00<00:00, 514.76it/s]\n",
            "100%|██████████| 60/60 [00:00<00:00, 1211.08it/s]\n"
          ]
        },
        {
          "output_type": "stream",
          "name": "stdout",
          "text": [
            "Epoch 89/150 loss 2.27126 val_loss 2.22060\n"
          ]
        },
        {
          "output_type": "stream",
          "name": "stderr",
          "text": [
            "100%|██████████| 140/140 [00:00<00:00, 500.23it/s]\n",
            "100%|██████████| 60/60 [00:00<00:00, 1585.59it/s]\n"
          ]
        },
        {
          "output_type": "stream",
          "name": "stdout",
          "text": [
            "Epoch 90/150 loss 2.25242 val_loss 2.24162\n"
          ]
        },
        {
          "output_type": "stream",
          "name": "stderr",
          "text": [
            "100%|██████████| 140/140 [00:00<00:00, 493.71it/s]\n",
            "100%|██████████| 60/60 [00:00<00:00, 1407.13it/s]\n"
          ]
        },
        {
          "output_type": "stream",
          "name": "stdout",
          "text": [
            "Epoch 91/150 loss 2.26974 val_loss 2.30634\n"
          ]
        },
        {
          "output_type": "stream",
          "name": "stderr",
          "text": [
            "100%|██████████| 140/140 [00:00<00:00, 492.56it/s]\n",
            "100%|██████████| 60/60 [00:00<00:00, 1148.36it/s]\n"
          ]
        },
        {
          "output_type": "stream",
          "name": "stdout",
          "text": [
            "Epoch 92/150 loss 2.22868 val_loss 2.25397\n"
          ]
        },
        {
          "output_type": "stream",
          "name": "stderr",
          "text": [
            "100%|██████████| 140/140 [00:00<00:00, 511.41it/s]\n",
            "100%|██████████| 60/60 [00:00<00:00, 1409.82it/s]\n"
          ]
        },
        {
          "output_type": "stream",
          "name": "stdout",
          "text": [
            "Epoch 93/150 loss 2.21709 val_loss 2.21479\n"
          ]
        },
        {
          "output_type": "stream",
          "name": "stderr",
          "text": [
            "100%|██████████| 140/140 [00:00<00:00, 500.74it/s]\n",
            "100%|██████████| 60/60 [00:00<00:00, 1484.53it/s]\n"
          ]
        },
        {
          "output_type": "stream",
          "name": "stdout",
          "text": [
            "Epoch 94/150 loss 2.26990 val_loss 2.20987\n"
          ]
        },
        {
          "output_type": "stream",
          "name": "stderr",
          "text": [
            "100%|██████████| 140/140 [00:00<00:00, 472.52it/s]\n",
            "100%|██████████| 60/60 [00:00<00:00, 1500.87it/s]\n"
          ]
        },
        {
          "output_type": "stream",
          "name": "stdout",
          "text": [
            "Epoch 95/150 loss 2.26405 val_loss 2.28073\n"
          ]
        },
        {
          "output_type": "stream",
          "name": "stderr",
          "text": [
            "100%|██████████| 140/140 [00:00<00:00, 492.21it/s]\n",
            "100%|██████████| 60/60 [00:00<00:00, 1240.34it/s]\n"
          ]
        },
        {
          "output_type": "stream",
          "name": "stdout",
          "text": [
            "Epoch 96/150 loss 2.17509 val_loss 2.23554\n"
          ]
        },
        {
          "output_type": "stream",
          "name": "stderr",
          "text": [
            "100%|██████████| 140/140 [00:00<00:00, 496.37it/s]\n",
            "100%|██████████| 60/60 [00:00<00:00, 1462.42it/s]\n"
          ]
        },
        {
          "output_type": "stream",
          "name": "stdout",
          "text": [
            "Epoch 97/150 loss 2.24857 val_loss 2.22926\n"
          ]
        },
        {
          "output_type": "stream",
          "name": "stderr",
          "text": [
            "100%|██████████| 140/140 [00:00<00:00, 483.49it/s]\n",
            "100%|██████████| 60/60 [00:00<00:00, 1395.55it/s]\n"
          ]
        },
        {
          "output_type": "stream",
          "name": "stdout",
          "text": [
            "Epoch 98/150 loss 2.22008 val_loss 2.27849\n"
          ]
        },
        {
          "output_type": "stream",
          "name": "stderr",
          "text": [
            "100%|██████████| 140/140 [00:00<00:00, 499.01it/s]\n",
            "100%|██████████| 60/60 [00:00<00:00, 1452.13it/s]\n"
          ]
        },
        {
          "output_type": "stream",
          "name": "stdout",
          "text": [
            "Epoch 99/150 loss 2.24119 val_loss 2.19530\n"
          ]
        },
        {
          "output_type": "stream",
          "name": "stderr",
          "text": [
            "100%|██████████| 140/140 [00:00<00:00, 496.58it/s]\n",
            "100%|██████████| 60/60 [00:00<00:00, 1507.23it/s]\n"
          ]
        },
        {
          "output_type": "stream",
          "name": "stdout",
          "text": [
            "Epoch 100/150 loss 2.19206 val_loss 2.27117\n"
          ]
        },
        {
          "output_type": "stream",
          "name": "stderr",
          "text": [
            "100%|██████████| 140/140 [00:00<00:00, 481.27it/s]\n",
            "100%|██████████| 60/60 [00:00<00:00, 1480.76it/s]\n"
          ]
        },
        {
          "output_type": "stream",
          "name": "stdout",
          "text": [
            "Epoch 101/150 loss 2.21930 val_loss 2.15029\n"
          ]
        },
        {
          "output_type": "stream",
          "name": "stderr",
          "text": [
            "100%|██████████| 140/140 [00:00<00:00, 511.80it/s]\n",
            "100%|██████████| 60/60 [00:00<00:00, 1277.82it/s]\n"
          ]
        },
        {
          "output_type": "stream",
          "name": "stdout",
          "text": [
            "Epoch 102/150 loss 2.20751 val_loss 2.23440\n"
          ]
        },
        {
          "output_type": "stream",
          "name": "stderr",
          "text": [
            "100%|██████████| 140/140 [00:00<00:00, 492.11it/s]\n",
            "100%|██████████| 60/60 [00:00<00:00, 1497.12it/s]\n"
          ]
        },
        {
          "output_type": "stream",
          "name": "stdout",
          "text": [
            "Epoch 103/150 loss 2.21333 val_loss 2.20638\n"
          ]
        },
        {
          "output_type": "stream",
          "name": "stderr",
          "text": [
            "100%|██████████| 140/140 [00:00<00:00, 473.53it/s]\n",
            "100%|██████████| 60/60 [00:00<00:00, 1439.76it/s]\n"
          ]
        },
        {
          "output_type": "stream",
          "name": "stdout",
          "text": [
            "Epoch 104/150 loss 2.20678 val_loss 2.17360\n"
          ]
        },
        {
          "output_type": "stream",
          "name": "stderr",
          "text": [
            "100%|██████████| 140/140 [00:00<00:00, 496.66it/s]\n",
            "100%|██████████| 60/60 [00:00<00:00, 1441.66it/s]\n"
          ]
        },
        {
          "output_type": "stream",
          "name": "stdout",
          "text": [
            "Epoch 105/150 loss 2.21802 val_loss 2.20946\n"
          ]
        },
        {
          "output_type": "stream",
          "name": "stderr",
          "text": [
            "100%|██████████| 140/140 [00:00<00:00, 495.78it/s]\n",
            "100%|██████████| 60/60 [00:00<00:00, 1274.35it/s]\n"
          ]
        },
        {
          "output_type": "stream",
          "name": "stdout",
          "text": [
            "Epoch 106/150 loss 2.21680 val_loss 2.18160\n"
          ]
        },
        {
          "output_type": "stream",
          "name": "stderr",
          "text": [
            "100%|██████████| 140/140 [00:00<00:00, 497.72it/s]\n",
            "100%|██████████| 60/60 [00:00<00:00, 1431.96it/s]\n"
          ]
        },
        {
          "output_type": "stream",
          "name": "stdout",
          "text": [
            "Epoch 107/150 loss 2.28613 val_loss 2.16146\n"
          ]
        },
        {
          "output_type": "stream",
          "name": "stderr",
          "text": [
            "100%|██████████| 140/140 [00:00<00:00, 492.85it/s]\n",
            "100%|██████████| 60/60 [00:00<00:00, 1310.67it/s]\n"
          ]
        },
        {
          "output_type": "stream",
          "name": "stdout",
          "text": [
            "Epoch 108/150 loss 2.17900 val_loss 2.23090\n"
          ]
        },
        {
          "output_type": "stream",
          "name": "stderr",
          "text": [
            "100%|██████████| 140/140 [00:00<00:00, 492.88it/s]\n",
            "100%|██████████| 60/60 [00:00<00:00, 1322.05it/s]\n"
          ]
        },
        {
          "output_type": "stream",
          "name": "stdout",
          "text": [
            "Epoch 109/150 loss 2.18011 val_loss 2.13880\n"
          ]
        },
        {
          "output_type": "stream",
          "name": "stderr",
          "text": [
            "100%|██████████| 140/140 [00:00<00:00, 473.72it/s]\n",
            "100%|██████████| 60/60 [00:00<00:00, 1354.39it/s]\n"
          ]
        },
        {
          "output_type": "stream",
          "name": "stdout",
          "text": [
            "Epoch 110/150 loss 2.25046 val_loss 2.22095\n"
          ]
        },
        {
          "output_type": "stream",
          "name": "stderr",
          "text": [
            "100%|██████████| 140/140 [00:00<00:00, 490.58it/s]\n",
            "100%|██████████| 60/60 [00:00<00:00, 1325.51it/s]\n"
          ]
        },
        {
          "output_type": "stream",
          "name": "stdout",
          "text": [
            "Epoch 111/150 loss 2.22295 val_loss 2.26228\n"
          ]
        },
        {
          "output_type": "stream",
          "name": "stderr",
          "text": [
            "100%|██████████| 140/140 [00:00<00:00, 470.51it/s]\n",
            "100%|██████████| 60/60 [00:00<00:00, 1375.58it/s]\n"
          ]
        },
        {
          "output_type": "stream",
          "name": "stdout",
          "text": [
            "Epoch 112/150 loss 2.19957 val_loss 2.13429\n"
          ]
        },
        {
          "output_type": "stream",
          "name": "stderr",
          "text": [
            "100%|██████████| 140/140 [00:00<00:00, 365.60it/s]\n",
            "100%|██████████| 60/60 [00:00<00:00, 838.18it/s]\n"
          ]
        },
        {
          "output_type": "stream",
          "name": "stdout",
          "text": [
            "Epoch 113/150 loss 2.26892 val_loss 2.08118\n"
          ]
        },
        {
          "output_type": "stream",
          "name": "stderr",
          "text": [
            "100%|██████████| 140/140 [00:00<00:00, 358.57it/s]\n",
            "100%|██████████| 60/60 [00:00<00:00, 908.74it/s]\n"
          ]
        },
        {
          "output_type": "stream",
          "name": "stdout",
          "text": [
            "Epoch 114/150 loss 2.21447 val_loss 2.16756\n"
          ]
        },
        {
          "output_type": "stream",
          "name": "stderr",
          "text": [
            "100%|██████████| 140/140 [00:00<00:00, 353.21it/s]\n",
            "100%|██████████| 60/60 [00:00<00:00, 950.30it/s]\n"
          ]
        },
        {
          "output_type": "stream",
          "name": "stdout",
          "text": [
            "Epoch 115/150 loss 2.17413 val_loss 2.16905\n"
          ]
        },
        {
          "output_type": "stream",
          "name": "stderr",
          "text": [
            "100%|██████████| 140/140 [00:00<00:00, 358.54it/s]\n",
            "100%|██████████| 60/60 [00:00<00:00, 916.41it/s]\n"
          ]
        },
        {
          "output_type": "stream",
          "name": "stdout",
          "text": [
            "Epoch 116/150 loss 2.17621 val_loss 2.13552\n"
          ]
        },
        {
          "output_type": "stream",
          "name": "stderr",
          "text": [
            "100%|██████████| 140/140 [00:00<00:00, 380.51it/s]\n",
            "100%|██████████| 60/60 [00:00<00:00, 1046.70it/s]\n"
          ]
        },
        {
          "output_type": "stream",
          "name": "stdout",
          "text": [
            "Epoch 117/150 loss 2.18234 val_loss 2.17021\n"
          ]
        },
        {
          "output_type": "stream",
          "name": "stderr",
          "text": [
            "100%|██████████| 140/140 [00:00<00:00, 365.33it/s]\n",
            "100%|██████████| 60/60 [00:00<00:00, 1046.00it/s]\n"
          ]
        },
        {
          "output_type": "stream",
          "name": "stdout",
          "text": [
            "Epoch 118/150 loss 2.20954 val_loss 2.12418\n"
          ]
        },
        {
          "output_type": "stream",
          "name": "stderr",
          "text": [
            "100%|██████████| 140/140 [00:00<00:00, 373.08it/s]\n",
            "100%|██████████| 60/60 [00:00<00:00, 891.59it/s]\n"
          ]
        },
        {
          "output_type": "stream",
          "name": "stdout",
          "text": [
            "Epoch 119/150 loss 2.19708 val_loss 2.19030\n"
          ]
        },
        {
          "output_type": "stream",
          "name": "stderr",
          "text": [
            "100%|██████████| 140/140 [00:00<00:00, 363.28it/s]\n",
            "100%|██████████| 60/60 [00:00<00:00, 1288.61it/s]\n"
          ]
        },
        {
          "output_type": "stream",
          "name": "stdout",
          "text": [
            "Epoch 120/150 loss 2.19136 val_loss 2.14971\n"
          ]
        },
        {
          "output_type": "stream",
          "name": "stderr",
          "text": [
            "100%|██████████| 140/140 [00:00<00:00, 498.67it/s]\n",
            "100%|██████████| 60/60 [00:00<00:00, 1445.22it/s]\n"
          ]
        },
        {
          "output_type": "stream",
          "name": "stdout",
          "text": [
            "Epoch 121/150 loss 2.15609 val_loss 2.16483\n"
          ]
        },
        {
          "output_type": "stream",
          "name": "stderr",
          "text": [
            "100%|██████████| 140/140 [00:00<00:00, 480.16it/s]\n",
            "100%|██████████| 60/60 [00:00<00:00, 1504.81it/s]\n"
          ]
        },
        {
          "output_type": "stream",
          "name": "stdout",
          "text": [
            "Epoch 122/150 loss 2.15326 val_loss 2.21495\n"
          ]
        },
        {
          "output_type": "stream",
          "name": "stderr",
          "text": [
            "100%|██████████| 140/140 [00:00<00:00, 490.58it/s]\n",
            "100%|██████████| 60/60 [00:00<00:00, 1474.19it/s]\n"
          ]
        },
        {
          "output_type": "stream",
          "name": "stdout",
          "text": [
            "Epoch 123/150 loss 2.18637 val_loss 2.13464\n"
          ]
        },
        {
          "output_type": "stream",
          "name": "stderr",
          "text": [
            "100%|██████████| 140/140 [00:00<00:00, 474.07it/s]\n",
            "100%|██████████| 60/60 [00:00<00:00, 1453.64it/s]\n"
          ]
        },
        {
          "output_type": "stream",
          "name": "stdout",
          "text": [
            "Epoch 124/150 loss 2.17695 val_loss 2.09984\n"
          ]
        },
        {
          "output_type": "stream",
          "name": "stderr",
          "text": [
            "100%|██████████| 140/140 [00:00<00:00, 481.00it/s]\n",
            "100%|██████████| 60/60 [00:00<00:00, 1319.18it/s]\n"
          ]
        },
        {
          "output_type": "stream",
          "name": "stdout",
          "text": [
            "Epoch 125/150 loss 2.18770 val_loss 2.06982\n"
          ]
        },
        {
          "output_type": "stream",
          "name": "stderr",
          "text": [
            "100%|██████████| 140/140 [00:00<00:00, 451.75it/s]\n",
            "100%|██████████| 60/60 [00:00<00:00, 1337.85it/s]\n"
          ]
        },
        {
          "output_type": "stream",
          "name": "stdout",
          "text": [
            "Epoch 126/150 loss 2.11198 val_loss 2.15395\n"
          ]
        },
        {
          "output_type": "stream",
          "name": "stderr",
          "text": [
            "100%|██████████| 140/140 [00:00<00:00, 449.78it/s]\n",
            "100%|██████████| 60/60 [00:00<00:00, 1366.65it/s]\n"
          ]
        },
        {
          "output_type": "stream",
          "name": "stdout",
          "text": [
            "Epoch 127/150 loss 2.14576 val_loss 2.08235\n"
          ]
        },
        {
          "output_type": "stream",
          "name": "stderr",
          "text": [
            "100%|██████████| 140/140 [00:00<00:00, 471.36it/s]\n",
            "100%|██████████| 60/60 [00:00<00:00, 1413.24it/s]\n"
          ]
        },
        {
          "output_type": "stream",
          "name": "stdout",
          "text": [
            "Epoch 128/150 loss 2.12361 val_loss 2.07148\n"
          ]
        },
        {
          "output_type": "stream",
          "name": "stderr",
          "text": [
            "100%|██████████| 140/140 [00:00<00:00, 485.30it/s]\n",
            "100%|██████████| 60/60 [00:00<00:00, 1434.53it/s]\n"
          ]
        },
        {
          "output_type": "stream",
          "name": "stdout",
          "text": [
            "Epoch 129/150 loss 2.11154 val_loss 2.14118\n"
          ]
        },
        {
          "output_type": "stream",
          "name": "stderr",
          "text": [
            "100%|██████████| 140/140 [00:00<00:00, 479.51it/s]\n",
            "100%|██████████| 60/60 [00:00<00:00, 1194.38it/s]\n"
          ]
        },
        {
          "output_type": "stream",
          "name": "stdout",
          "text": [
            "Epoch 130/150 loss 2.13048 val_loss 2.01007\n"
          ]
        },
        {
          "output_type": "stream",
          "name": "stderr",
          "text": [
            "100%|██████████| 140/140 [00:00<00:00, 482.55it/s]\n",
            "100%|██████████| 60/60 [00:00<00:00, 1470.83it/s]\n"
          ]
        },
        {
          "output_type": "stream",
          "name": "stdout",
          "text": [
            "Epoch 131/150 loss 2.16209 val_loss 2.12615\n"
          ]
        },
        {
          "output_type": "stream",
          "name": "stderr",
          "text": [
            "100%|██████████| 140/140 [00:00<00:00, 495.37it/s]\n",
            "100%|██████████| 60/60 [00:00<00:00, 1262.70it/s]\n"
          ]
        },
        {
          "output_type": "stream",
          "name": "stdout",
          "text": [
            "Epoch 132/150 loss 2.14869 val_loss 2.11016\n"
          ]
        },
        {
          "output_type": "stream",
          "name": "stderr",
          "text": [
            "100%|██████████| 140/140 [00:00<00:00, 503.22it/s]\n",
            "100%|██████████| 60/60 [00:00<00:00, 1185.37it/s]\n"
          ]
        },
        {
          "output_type": "stream",
          "name": "stdout",
          "text": [
            "Epoch 133/150 loss 2.09124 val_loss 2.03061\n"
          ]
        },
        {
          "output_type": "stream",
          "name": "stderr",
          "text": [
            "100%|██████████| 140/140 [00:00<00:00, 491.60it/s]\n",
            "100%|██████████| 60/60 [00:00<00:00, 1349.40it/s]\n"
          ]
        },
        {
          "output_type": "stream",
          "name": "stdout",
          "text": [
            "Epoch 134/150 loss 2.13266 val_loss 2.09578\n"
          ]
        },
        {
          "output_type": "stream",
          "name": "stderr",
          "text": [
            "100%|██████████| 140/140 [00:00<00:00, 487.30it/s]\n",
            "100%|██████████| 60/60 [00:00<00:00, 1422.40it/s]\n"
          ]
        },
        {
          "output_type": "stream",
          "name": "stdout",
          "text": [
            "Epoch 135/150 loss 2.11174 val_loss 2.20789\n"
          ]
        },
        {
          "output_type": "stream",
          "name": "stderr",
          "text": [
            "100%|██████████| 140/140 [00:00<00:00, 482.21it/s]\n",
            "100%|██████████| 60/60 [00:00<00:00, 1441.37it/s]\n"
          ]
        },
        {
          "output_type": "stream",
          "name": "stdout",
          "text": [
            "Epoch 136/150 loss 2.15777 val_loss 2.20529\n"
          ]
        },
        {
          "output_type": "stream",
          "name": "stderr",
          "text": [
            "100%|██████████| 140/140 [00:00<00:00, 489.18it/s]\n",
            "100%|██████████| 60/60 [00:00<00:00, 1436.73it/s]\n"
          ]
        },
        {
          "output_type": "stream",
          "name": "stdout",
          "text": [
            "Epoch 137/150 loss 2.08961 val_loss 2.13645\n"
          ]
        },
        {
          "output_type": "stream",
          "name": "stderr",
          "text": [
            "100%|██████████| 140/140 [00:00<00:00, 489.67it/s]\n",
            "100%|██████████| 60/60 [00:00<00:00, 1360.68it/s]\n"
          ]
        },
        {
          "output_type": "stream",
          "name": "stdout",
          "text": [
            "Epoch 138/150 loss 2.10059 val_loss 2.13644\n"
          ]
        },
        {
          "output_type": "stream",
          "name": "stderr",
          "text": [
            "100%|██████████| 140/140 [00:00<00:00, 480.36it/s]\n",
            "100%|██████████| 60/60 [00:00<00:00, 1300.11it/s]\n"
          ]
        },
        {
          "output_type": "stream",
          "name": "stdout",
          "text": [
            "Epoch 139/150 loss 2.08044 val_loss 2.18381\n"
          ]
        },
        {
          "output_type": "stream",
          "name": "stderr",
          "text": [
            "100%|██████████| 140/140 [00:00<00:00, 474.15it/s]\n",
            "100%|██████████| 60/60 [00:00<00:00, 1394.59it/s]\n"
          ]
        },
        {
          "output_type": "stream",
          "name": "stdout",
          "text": [
            "Epoch 140/150 loss 2.11045 val_loss 2.11037\n"
          ]
        },
        {
          "output_type": "stream",
          "name": "stderr",
          "text": [
            "100%|██████████| 140/140 [00:00<00:00, 466.05it/s]\n",
            "100%|██████████| 60/60 [00:00<00:00, 1366.22it/s]\n"
          ]
        },
        {
          "output_type": "stream",
          "name": "stdout",
          "text": [
            "Epoch 141/150 loss 2.14460 val_loss 2.03731\n"
          ]
        },
        {
          "output_type": "stream",
          "name": "stderr",
          "text": [
            "100%|██████████| 140/140 [00:00<00:00, 469.53it/s]\n",
            "100%|██████████| 60/60 [00:00<00:00, 1420.39it/s]\n"
          ]
        },
        {
          "output_type": "stream",
          "name": "stdout",
          "text": [
            "Epoch 142/150 loss 2.04123 val_loss 2.04539\n"
          ]
        },
        {
          "output_type": "stream",
          "name": "stderr",
          "text": [
            "100%|██████████| 140/140 [00:00<00:00, 492.24it/s]\n",
            "100%|██████████| 60/60 [00:00<00:00, 1264.72it/s]\n"
          ]
        },
        {
          "output_type": "stream",
          "name": "stdout",
          "text": [
            "Epoch 143/150 loss 2.09163 val_loss 2.09682\n"
          ]
        },
        {
          "output_type": "stream",
          "name": "stderr",
          "text": [
            "100%|██████████| 140/140 [00:00<00:00, 502.82it/s]\n",
            "100%|██████████| 60/60 [00:00<00:00, 1426.54it/s]\n"
          ]
        },
        {
          "output_type": "stream",
          "name": "stdout",
          "text": [
            "Epoch 144/150 loss 2.11304 val_loss 2.03663\n"
          ]
        },
        {
          "output_type": "stream",
          "name": "stderr",
          "text": [
            "100%|██████████| 140/140 [00:00<00:00, 486.96it/s]\n",
            "100%|██████████| 60/60 [00:00<00:00, 1412.40it/s]\n"
          ]
        },
        {
          "output_type": "stream",
          "name": "stdout",
          "text": [
            "Epoch 145/150 loss 2.05712 val_loss 2.05040\n"
          ]
        },
        {
          "output_type": "stream",
          "name": "stderr",
          "text": [
            "100%|██████████| 140/140 [00:00<00:00, 494.74it/s]\n",
            "100%|██████████| 60/60 [00:00<00:00, 1481.01it/s]\n"
          ]
        },
        {
          "output_type": "stream",
          "name": "stdout",
          "text": [
            "Epoch 146/150 loss 2.05445 val_loss 2.03175\n"
          ]
        },
        {
          "output_type": "stream",
          "name": "stderr",
          "text": [
            "100%|██████████| 140/140 [00:00<00:00, 506.74it/s]\n",
            "100%|██████████| 60/60 [00:00<00:00, 1481.90it/s]\n"
          ]
        },
        {
          "output_type": "stream",
          "name": "stdout",
          "text": [
            "Epoch 147/150 loss 2.06017 val_loss 2.14484\n"
          ]
        },
        {
          "output_type": "stream",
          "name": "stderr",
          "text": [
            "100%|██████████| 140/140 [00:00<00:00, 441.69it/s]\n",
            "100%|██████████| 60/60 [00:00<00:00, 1313.93it/s]\n"
          ]
        },
        {
          "output_type": "stream",
          "name": "stdout",
          "text": [
            "Epoch 148/150 loss 2.08922 val_loss 2.19523\n"
          ]
        },
        {
          "output_type": "stream",
          "name": "stderr",
          "text": [
            "100%|██████████| 140/140 [00:00<00:00, 469.60it/s]\n",
            "100%|██████████| 60/60 [00:00<00:00, 1419.38it/s]\n"
          ]
        },
        {
          "output_type": "stream",
          "name": "stdout",
          "text": [
            "Epoch 149/150 loss 2.06245 val_loss 2.07017\n"
          ]
        },
        {
          "output_type": "stream",
          "name": "stderr",
          "text": [
            "100%|██████████| 140/140 [00:00<00:00, 480.72it/s]\n",
            "100%|██████████| 60/60 [00:00<00:00, 1449.44it/s]"
          ]
        },
        {
          "output_type": "stream",
          "name": "stdout",
          "text": [
            "Epoch 150/150 loss 2.16098 val_loss 2.10515\n"
          ]
        },
        {
          "output_type": "stream",
          "name": "stderr",
          "text": [
            "\n"
          ]
        }
      ]
    },
    {
      "cell_type": "code",
      "source": [
        "plt.figure(figsize=(16,8))\n",
        "plt.plot(losses, label='Train')\n",
        "plt.plot(val_losses, label='Val')\n",
        "plt.xlabel(\"Epochs\")\n",
        "plt.ylabel(\"Training MSE\")\n",
        "plt.legend()\n",
        "plt.show()"
      ],
      "metadata": {
        "id": "oXP7ufqgjHVb",
        "colab": {
          "base_uri": "https://localhost:8080/",
          "height": 497
        },
        "outputId": "aec0d905-724c-45f6-d1e1-ccd19ee6f6c0"
      },
      "execution_count": null,
      "outputs": [
        {
          "output_type": "display_data",
          "data": {
            "text/plain": [
              "<Figure size 1152x576 with 1 Axes>"
            ],
            "image/png": "[encoded data removed]"
          },
          "metadata": {
            "needs_background": "light"
          }
        }
      ]
    },
    {
      "cell_type": "markdown",
      "source": [
        "Como la funcion es relativamente simple, le alcanza con los datos de training para capturar al maximo la funcion, como podemos ver en el grafico no notamos que la validation loss suba por lo tanto no podemos conseguir un overfitting"
      ],
      "metadata": {
        "id": "1mZRkrrWrq9Y"
      }
    },
    {
      "cell_type": "markdown",
      "source": [
        "## Nnet con regularizacion"
      ],
      "metadata": {
        "id": "7bfMJrgOsAZd"
      }
    },
    {
      "cell_type": "code",
      "source": [
        "net = Net()\n",
        "print(net)\n",
        "optimizer=torch.optim.Adam(net.parameters(), lr=learning_rate,weight_decay=1e-5)\n",
        "criterion=nn.MSELoss()\n"
      ],
      "metadata": {
        "id": "I6ohVgHTsFWV",
        "colab": {
          "base_uri": "https://localhost:8080/"
        },
        "outputId": "977d7de3-a7c2-4de9-b2aa-5cdd41ace267"
      },
      "execution_count": null,
      "outputs": [
        {
          "output_type": "stream",
          "name": "stdout",
          "text": [
            "Net(\n",
            "  (fc1): Linear(in_features=50, out_features=120, bias=True)\n",
            "  (fc2): Linear(in_features=120, out_features=84, bias=True)\n",
            "  (fc3): Linear(in_features=84, out_features=50, bias=True)\n",
            ")\n"
          ]
        }
      ]
    },
    {
      "cell_type": "code",
      "source": [
        "losses,val_losses=fit(net, dataloader,criterion,optimizer, epochs=150)"
      ],
      "metadata": {
        "id": "hnRCZgu5sM77",
        "colab": {
          "base_uri": "https://localhost:8080/"
        },
        "outputId": "97fda6e2-70e6-45e2-fbba-e51299f60c77"
      },
      "execution_count": null,
      "outputs": [
        {
          "output_type": "stream",
          "name": "stderr",
          "text": [
            "100%|██████████| 140/140 [00:00<00:00, 480.38it/s]\n",
            "100%|██████████| 60/60 [00:00<00:00, 1228.65it/s]\n"
          ]
        },
        {
          "output_type": "stream",
          "name": "stdout",
          "text": [
            "Epoch 1/150 loss 5.92109 val_loss 5.36572\n"
          ]
        },
        {
          "output_type": "stream",
          "name": "stderr",
          "text": [
            "100%|██████████| 140/140 [00:00<00:00, 496.90it/s]\n",
            "100%|██████████| 60/60 [00:00<00:00, 1426.08it/s]\n"
          ]
        },
        {
          "output_type": "stream",
          "name": "stdout",
          "text": [
            "Epoch 2/150 loss 5.27211 val_loss 5.30820\n"
          ]
        },
        {
          "output_type": "stream",
          "name": "stderr",
          "text": [
            "100%|██████████| 140/140 [00:00<00:00, 464.98it/s]\n",
            "100%|██████████| 60/60 [00:00<00:00, 1545.81it/s]\n"
          ]
        },
        {
          "output_type": "stream",
          "name": "stdout",
          "text": [
            "Epoch 3/150 loss 5.19648 val_loss 5.31251\n"
          ]
        },
        {
          "output_type": "stream",
          "name": "stderr",
          "text": [
            "100%|██████████| 140/140 [00:00<00:00, 468.85it/s]\n",
            "100%|██████████| 60/60 [00:00<00:00, 1382.04it/s]\n"
          ]
        },
        {
          "output_type": "stream",
          "name": "stdout",
          "text": [
            "Epoch 4/150 loss 5.12881 val_loss 5.08041\n"
          ]
        },
        {
          "output_type": "stream",
          "name": "stderr",
          "text": [
            "100%|██████████| 140/140 [00:00<00:00, 476.69it/s]\n",
            "100%|██████████| 60/60 [00:00<00:00, 1465.11it/s]\n"
          ]
        },
        {
          "output_type": "stream",
          "name": "stdout",
          "text": [
            "Epoch 5/150 loss 5.04147 val_loss 5.05760\n"
          ]
        },
        {
          "output_type": "stream",
          "name": "stderr",
          "text": [
            "100%|██████████| 140/140 [00:00<00:00, 471.67it/s]\n",
            "100%|██████████| 60/60 [00:00<00:00, 1461.80it/s]\n"
          ]
        },
        {
          "output_type": "stream",
          "name": "stdout",
          "text": [
            "Epoch 6/150 loss 4.95973 val_loss 4.92329\n"
          ]
        },
        {
          "output_type": "stream",
          "name": "stderr",
          "text": [
            "100%|██████████| 140/140 [00:00<00:00, 488.31it/s]\n",
            "100%|██████████| 60/60 [00:00<00:00, 1221.90it/s]\n"
          ]
        },
        {
          "output_type": "stream",
          "name": "stdout",
          "text": [
            "Epoch 7/150 loss 4.78756 val_loss 4.75167\n"
          ]
        },
        {
          "output_type": "stream",
          "name": "stderr",
          "text": [
            "100%|██████████| 140/140 [00:00<00:00, 495.35it/s]\n",
            "100%|██████████| 60/60 [00:00<00:00, 1338.91it/s]\n"
          ]
        },
        {
          "output_type": "stream",
          "name": "stdout",
          "text": [
            "Epoch 8/150 loss 4.71727 val_loss 4.60214\n"
          ]
        },
        {
          "output_type": "stream",
          "name": "stderr",
          "text": [
            "100%|██████████| 140/140 [00:00<00:00, 466.38it/s]\n",
            "100%|██████████| 60/60 [00:00<00:00, 1420.05it/s]\n"
          ]
        },
        {
          "output_type": "stream",
          "name": "stdout",
          "text": [
            "Epoch 9/150 loss 4.58813 val_loss 4.60442\n"
          ]
        },
        {
          "output_type": "stream",
          "name": "stderr",
          "text": [
            "100%|██████████| 140/140 [00:00<00:00, 472.47it/s]\n",
            "100%|██████████| 60/60 [00:00<00:00, 1364.52it/s]\n"
          ]
        },
        {
          "output_type": "stream",
          "name": "stdout",
          "text": [
            "Epoch 10/150 loss 4.52627 val_loss 4.32888\n"
          ]
        },
        {
          "output_type": "stream",
          "name": "stderr",
          "text": [
            "100%|██████████| 140/140 [00:00<00:00, 467.34it/s]\n",
            "100%|██████████| 60/60 [00:00<00:00, 1368.12it/s]\n"
          ]
        },
        {
          "output_type": "stream",
          "name": "stdout",
          "text": [
            "Epoch 11/150 loss 4.36441 val_loss 4.32437\n"
          ]
        },
        {
          "output_type": "stream",
          "name": "stderr",
          "text": [
            "100%|██████████| 140/140 [00:00<00:00, 472.75it/s]\n",
            "100%|██████████| 60/60 [00:00<00:00, 1514.67it/s]\n"
          ]
        },
        {
          "output_type": "stream",
          "name": "stdout",
          "text": [
            "Epoch 12/150 loss 4.25900 val_loss 4.22367\n"
          ]
        },
        {
          "output_type": "stream",
          "name": "stderr",
          "text": [
            "100%|██████████| 140/140 [00:00<00:00, 480.20it/s]\n",
            "100%|██████████| 60/60 [00:00<00:00, 1430.45it/s]\n"
          ]
        },
        {
          "output_type": "stream",
          "name": "stdout",
          "text": [
            "Epoch 13/150 loss 4.23102 val_loss 4.10289\n"
          ]
        },
        {
          "output_type": "stream",
          "name": "stderr",
          "text": [
            "100%|██████████| 140/140 [00:00<00:00, 472.64it/s]\n",
            "100%|██████████| 60/60 [00:00<00:00, 1385.23it/s]\n"
          ]
        },
        {
          "output_type": "stream",
          "name": "stdout",
          "text": [
            "Epoch 14/150 loss 4.09784 val_loss 4.05698\n"
          ]
        },
        {
          "output_type": "stream",
          "name": "stderr",
          "text": [
            "100%|██████████| 140/140 [00:00<00:00, 459.70it/s]\n",
            "100%|██████████| 60/60 [00:00<00:00, 1343.67it/s]\n"
          ]
        },
        {
          "output_type": "stream",
          "name": "stdout",
          "text": [
            "Epoch 15/150 loss 4.04491 val_loss 3.94601\n"
          ]
        },
        {
          "output_type": "stream",
          "name": "stderr",
          "text": [
            "100%|██████████| 140/140 [00:00<00:00, 480.57it/s]\n",
            "100%|██████████| 60/60 [00:00<00:00, 1434.55it/s]\n"
          ]
        },
        {
          "output_type": "stream",
          "name": "stdout",
          "text": [
            "Epoch 16/150 loss 3.94968 val_loss 3.86822\n"
          ]
        },
        {
          "output_type": "stream",
          "name": "stderr",
          "text": [
            "100%|██████████| 140/140 [00:00<00:00, 443.26it/s]\n",
            "100%|██████████| 60/60 [00:00<00:00, 1397.16it/s]\n"
          ]
        },
        {
          "output_type": "stream",
          "name": "stdout",
          "text": [
            "Epoch 17/150 loss 3.90807 val_loss 3.79733\n"
          ]
        },
        {
          "output_type": "stream",
          "name": "stderr",
          "text": [
            "100%|██████████| 140/140 [00:00<00:00, 436.78it/s]\n",
            "100%|██████████| 60/60 [00:00<00:00, 1410.77it/s]\n"
          ]
        },
        {
          "output_type": "stream",
          "name": "stdout",
          "text": [
            "Epoch 18/150 loss 3.79561 val_loss 3.74300\n"
          ]
        },
        {
          "output_type": "stream",
          "name": "stderr",
          "text": [
            "100%|██████████| 140/140 [00:00<00:00, 483.54it/s]\n",
            "100%|██████████| 60/60 [00:00<00:00, 1523.70it/s]\n"
          ]
        },
        {
          "output_type": "stream",
          "name": "stdout",
          "text": [
            "Epoch 19/150 loss 3.73804 val_loss 3.67282\n"
          ]
        },
        {
          "output_type": "stream",
          "name": "stderr",
          "text": [
            "100%|██████████| 140/140 [00:00<00:00, 467.35it/s]\n",
            "100%|██████████| 60/60 [00:00<00:00, 1467.47it/s]\n"
          ]
        },
        {
          "output_type": "stream",
          "name": "stdout",
          "text": [
            "Epoch 20/150 loss 3.64287 val_loss 3.55870\n"
          ]
        },
        {
          "output_type": "stream",
          "name": "stderr",
          "text": [
            "100%|██████████| 140/140 [00:00<00:00, 480.41it/s]\n",
            "100%|██████████| 60/60 [00:00<00:00, 1453.62it/s]\n"
          ]
        },
        {
          "output_type": "stream",
          "name": "stdout",
          "text": [
            "Epoch 21/150 loss 3.65763 val_loss 3.52199\n"
          ]
        },
        {
          "output_type": "stream",
          "name": "stderr",
          "text": [
            "100%|██████████| 140/140 [00:00<00:00, 487.98it/s]\n",
            "100%|██████████| 60/60 [00:00<00:00, 1219.74it/s]\n"
          ]
        },
        {
          "output_type": "stream",
          "name": "stdout",
          "text": [
            "Epoch 22/150 loss 3.55671 val_loss 3.50781\n"
          ]
        },
        {
          "output_type": "stream",
          "name": "stderr",
          "text": [
            "100%|██████████| 140/140 [00:00<00:00, 475.32it/s]\n",
            "100%|██████████| 60/60 [00:00<00:00, 1476.74it/s]\n"
          ]
        },
        {
          "output_type": "stream",
          "name": "stdout",
          "text": [
            "Epoch 23/150 loss 3.55215 val_loss 3.38615\n"
          ]
        },
        {
          "output_type": "stream",
          "name": "stderr",
          "text": [
            "100%|██████████| 140/140 [00:00<00:00, 467.82it/s]\n",
            "100%|██████████| 60/60 [00:00<00:00, 1380.89it/s]\n"
          ]
        },
        {
          "output_type": "stream",
          "name": "stdout",
          "text": [
            "Epoch 24/150 loss 3.50133 val_loss 3.37194\n"
          ]
        },
        {
          "output_type": "stream",
          "name": "stderr",
          "text": [
            "100%|██████████| 140/140 [00:00<00:00, 476.32it/s]\n",
            "100%|██████████| 60/60 [00:00<00:00, 1169.44it/s]\n"
          ]
        },
        {
          "output_type": "stream",
          "name": "stdout",
          "text": [
            "Epoch 25/150 loss 3.42786 val_loss 3.40198\n"
          ]
        },
        {
          "output_type": "stream",
          "name": "stderr",
          "text": [
            "100%|██████████| 140/140 [00:00<00:00, 469.10it/s]\n",
            "100%|██████████| 60/60 [00:00<00:00, 1455.97it/s]\n"
          ]
        },
        {
          "output_type": "stream",
          "name": "stdout",
          "text": [
            "Epoch 26/150 loss 3.34027 val_loss 3.32369\n"
          ]
        },
        {
          "output_type": "stream",
          "name": "stderr",
          "text": [
            "100%|██████████| 140/140 [00:00<00:00, 437.50it/s]\n",
            "100%|██████████| 60/60 [00:00<00:00, 1378.94it/s]\n"
          ]
        },
        {
          "output_type": "stream",
          "name": "stdout",
          "text": [
            "Epoch 27/150 loss 3.28012 val_loss 3.26877\n"
          ]
        },
        {
          "output_type": "stream",
          "name": "stderr",
          "text": [
            "100%|██████████| 140/140 [00:00<00:00, 468.87it/s]\n",
            "100%|██████████| 60/60 [00:00<00:00, 1531.08it/s]\n"
          ]
        },
        {
          "output_type": "stream",
          "name": "stdout",
          "text": [
            "Epoch 28/150 loss 3.23956 val_loss 3.17942\n"
          ]
        },
        {
          "output_type": "stream",
          "name": "stderr",
          "text": [
            "100%|██████████| 140/140 [00:00<00:00, 477.41it/s]\n",
            "100%|██████████| 60/60 [00:00<00:00, 1464.89it/s]\n"
          ]
        },
        {
          "output_type": "stream",
          "name": "stdout",
          "text": [
            "Epoch 29/150 loss 3.23241 val_loss 3.17860\n"
          ]
        },
        {
          "output_type": "stream",
          "name": "stderr",
          "text": [
            "100%|██████████| 140/140 [00:00<00:00, 492.23it/s]\n",
            "100%|██████████| 60/60 [00:00<00:00, 1568.94it/s]\n"
          ]
        },
        {
          "output_type": "stream",
          "name": "stdout",
          "text": [
            "Epoch 30/150 loss 3.18923 val_loss 3.13488\n"
          ]
        },
        {
          "output_type": "stream",
          "name": "stderr",
          "text": [
            "100%|██████████| 140/140 [00:00<00:00, 454.31it/s]\n",
            "100%|██████████| 60/60 [00:00<00:00, 1524.22it/s]\n"
          ]
        },
        {
          "output_type": "stream",
          "name": "stdout",
          "text": [
            "Epoch 31/150 loss 3.21178 val_loss 3.09067\n"
          ]
        },
        {
          "output_type": "stream",
          "name": "stderr",
          "text": [
            "100%|██████████| 140/140 [00:00<00:00, 465.63it/s]\n",
            "100%|██████████| 60/60 [00:00<00:00, 1463.81it/s]\n"
          ]
        },
        {
          "output_type": "stream",
          "name": "stdout",
          "text": [
            "Epoch 32/150 loss 3.14612 val_loss 3.07807\n"
          ]
        },
        {
          "output_type": "stream",
          "name": "stderr",
          "text": [
            "100%|██████████| 140/140 [00:00<00:00, 471.65it/s]\n",
            "100%|██████████| 60/60 [00:00<00:00, 1400.03it/s]\n"
          ]
        },
        {
          "output_type": "stream",
          "name": "stdout",
          "text": [
            "Epoch 33/150 loss 3.11361 val_loss 3.02285\n"
          ]
        },
        {
          "output_type": "stream",
          "name": "stderr",
          "text": [
            "100%|██████████| 140/140 [00:00<00:00, 473.69it/s]\n",
            "100%|██████████| 60/60 [00:00<00:00, 1473.76it/s]\n"
          ]
        },
        {
          "output_type": "stream",
          "name": "stdout",
          "text": [
            "Epoch 34/150 loss 3.07018 val_loss 2.95207\n"
          ]
        },
        {
          "output_type": "stream",
          "name": "stderr",
          "text": [
            "100%|██████████| 140/140 [00:00<00:00, 476.01it/s]\n",
            "100%|██████████| 60/60 [00:00<00:00, 1535.25it/s]\n"
          ]
        },
        {
          "output_type": "stream",
          "name": "stdout",
          "text": [
            "Epoch 35/150 loss 3.00013 val_loss 2.89268\n"
          ]
        },
        {
          "output_type": "stream",
          "name": "stderr",
          "text": [
            "100%|██████████| 140/140 [00:00<00:00, 486.37it/s]\n",
            "100%|██████████| 60/60 [00:00<00:00, 1557.86it/s]\n"
          ]
        },
        {
          "output_type": "stream",
          "name": "stdout",
          "text": [
            "Epoch 36/150 loss 2.95270 val_loss 2.95431\n"
          ]
        },
        {
          "output_type": "stream",
          "name": "stderr",
          "text": [
            "100%|██████████| 140/140 [00:00<00:00, 466.72it/s]\n",
            "100%|██████████| 60/60 [00:00<00:00, 1480.74it/s]\n"
          ]
        },
        {
          "output_type": "stream",
          "name": "stdout",
          "text": [
            "Epoch 37/150 loss 2.93506 val_loss 2.89808\n"
          ]
        },
        {
          "output_type": "stream",
          "name": "stderr",
          "text": [
            "100%|██████████| 140/140 [00:00<00:00, 495.62it/s]\n",
            "100%|██████████| 60/60 [00:00<00:00, 1505.78it/s]\n"
          ]
        },
        {
          "output_type": "stream",
          "name": "stdout",
          "text": [
            "Epoch 38/150 loss 2.90067 val_loss 2.89191\n"
          ]
        },
        {
          "output_type": "stream",
          "name": "stderr",
          "text": [
            "100%|██████████| 140/140 [00:00<00:00, 490.17it/s]\n",
            "100%|██████████| 60/60 [00:00<00:00, 1491.66it/s]\n"
          ]
        },
        {
          "output_type": "stream",
          "name": "stdout",
          "text": [
            "Epoch 39/150 loss 2.91273 val_loss 2.89463\n"
          ]
        },
        {
          "output_type": "stream",
          "name": "stderr",
          "text": [
            "100%|██████████| 140/140 [00:00<00:00, 464.62it/s]\n",
            "100%|██████████| 60/60 [00:00<00:00, 1515.93it/s]\n"
          ]
        },
        {
          "output_type": "stream",
          "name": "stdout",
          "text": [
            "Epoch 40/150 loss 2.85971 val_loss 2.82629\n"
          ]
        },
        {
          "output_type": "stream",
          "name": "stderr",
          "text": [
            "100%|██████████| 140/140 [00:00<00:00, 467.07it/s]\n",
            "100%|██████████| 60/60 [00:00<00:00, 1432.02it/s]\n"
          ]
        },
        {
          "output_type": "stream",
          "name": "stdout",
          "text": [
            "Epoch 41/150 loss 2.82783 val_loss 2.78654\n"
          ]
        },
        {
          "output_type": "stream",
          "name": "stderr",
          "text": [
            "100%|██████████| 140/140 [00:00<00:00, 480.18it/s]\n",
            "100%|██████████| 60/60 [00:00<00:00, 1175.98it/s]\n"
          ]
        },
        {
          "output_type": "stream",
          "name": "stdout",
          "text": [
            "Epoch 42/150 loss 2.90967 val_loss 2.77023\n"
          ]
        },
        {
          "output_type": "stream",
          "name": "stderr",
          "text": [
            "100%|██████████| 140/140 [00:00<00:00, 471.63it/s]\n",
            "100%|██████████| 60/60 [00:00<00:00, 1499.08it/s]\n"
          ]
        },
        {
          "output_type": "stream",
          "name": "stdout",
          "text": [
            "Epoch 43/150 loss 2.87956 val_loss 2.67838\n"
          ]
        },
        {
          "output_type": "stream",
          "name": "stderr",
          "text": [
            "100%|██████████| 140/140 [00:00<00:00, 477.08it/s]\n",
            "100%|██████████| 60/60 [00:00<00:00, 1557.22it/s]\n"
          ]
        },
        {
          "output_type": "stream",
          "name": "stdout",
          "text": [
            "Epoch 44/150 loss 2.83725 val_loss 2.75421\n"
          ]
        },
        {
          "output_type": "stream",
          "name": "stderr",
          "text": [
            "100%|██████████| 140/140 [00:00<00:00, 474.43it/s]\n",
            "100%|██████████| 60/60 [00:00<00:00, 1260.44it/s]\n"
          ]
        },
        {
          "output_type": "stream",
          "name": "stdout",
          "text": [
            "Epoch 45/150 loss 2.84984 val_loss 2.76094\n"
          ]
        },
        {
          "output_type": "stream",
          "name": "stderr",
          "text": [
            "100%|██████████| 140/140 [00:00<00:00, 484.68it/s]\n",
            "100%|██████████| 60/60 [00:00<00:00, 1477.54it/s]\n"
          ]
        },
        {
          "output_type": "stream",
          "name": "stdout",
          "text": [
            "Epoch 46/150 loss 2.79535 val_loss 2.71559\n"
          ]
        },
        {
          "output_type": "stream",
          "name": "stderr",
          "text": [
            "100%|██████████| 140/140 [00:00<00:00, 482.53it/s]\n",
            "100%|██████████| 60/60 [00:00<00:00, 1441.73it/s]\n"
          ]
        },
        {
          "output_type": "stream",
          "name": "stdout",
          "text": [
            "Epoch 47/150 loss 2.78782 val_loss 2.69475\n"
          ]
        },
        {
          "output_type": "stream",
          "name": "stderr",
          "text": [
            "100%|██████████| 140/140 [00:00<00:00, 471.08it/s]\n",
            "100%|██████████| 60/60 [00:00<00:00, 1569.16it/s]\n"
          ]
        },
        {
          "output_type": "stream",
          "name": "stdout",
          "text": [
            "Epoch 48/150 loss 2.75208 val_loss 2.69534\n"
          ]
        },
        {
          "output_type": "stream",
          "name": "stderr",
          "text": [
            "100%|██████████| 140/140 [00:00<00:00, 491.84it/s]\n",
            "100%|██████████| 60/60 [00:00<00:00, 1498.79it/s]\n"
          ]
        },
        {
          "output_type": "stream",
          "name": "stdout",
          "text": [
            "Epoch 49/150 loss 2.77063 val_loss 2.71127\n"
          ]
        },
        {
          "output_type": "stream",
          "name": "stderr",
          "text": [
            "100%|██████████| 140/140 [00:00<00:00, 483.54it/s]\n",
            "100%|██████████| 60/60 [00:00<00:00, 1433.35it/s]\n"
          ]
        },
        {
          "output_type": "stream",
          "name": "stdout",
          "text": [
            "Epoch 50/150 loss 2.77523 val_loss 2.66221\n"
          ]
        },
        {
          "output_type": "stream",
          "name": "stderr",
          "text": [
            "100%|██████████| 140/140 [00:00<00:00, 464.17it/s]\n",
            "100%|██████████| 60/60 [00:00<00:00, 1294.41it/s]\n"
          ]
        },
        {
          "output_type": "stream",
          "name": "stdout",
          "text": [
            "Epoch 51/150 loss 2.76429 val_loss 2.72048\n"
          ]
        },
        {
          "output_type": "stream",
          "name": "stderr",
          "text": [
            "100%|██████████| 140/140 [00:00<00:00, 483.74it/s]\n",
            "100%|██████████| 60/60 [00:00<00:00, 1465.27it/s]\n"
          ]
        },
        {
          "output_type": "stream",
          "name": "stdout",
          "text": [
            "Epoch 52/150 loss 2.71656 val_loss 2.63240\n"
          ]
        },
        {
          "output_type": "stream",
          "name": "stderr",
          "text": [
            "100%|██████████| 140/140 [00:00<00:00, 489.68it/s]\n",
            "100%|██████████| 60/60 [00:00<00:00, 1469.31it/s]\n"
          ]
        },
        {
          "output_type": "stream",
          "name": "stdout",
          "text": [
            "Epoch 53/150 loss 2.66769 val_loss 2.72149\n"
          ]
        },
        {
          "output_type": "stream",
          "name": "stderr",
          "text": [
            "100%|██████████| 140/140 [00:00<00:00, 479.80it/s]\n",
            "100%|██████████| 60/60 [00:00<00:00, 1505.46it/s]\n"
          ]
        },
        {
          "output_type": "stream",
          "name": "stdout",
          "text": [
            "Epoch 54/150 loss 2.67890 val_loss 2.69245\n"
          ]
        },
        {
          "output_type": "stream",
          "name": "stderr",
          "text": [
            "100%|██████████| 140/140 [00:00<00:00, 493.89it/s]\n",
            "100%|██████████| 60/60 [00:00<00:00, 1399.73it/s]\n"
          ]
        },
        {
          "output_type": "stream",
          "name": "stdout",
          "text": [
            "Epoch 55/150 loss 2.72930 val_loss 2.59593\n"
          ]
        },
        {
          "output_type": "stream",
          "name": "stderr",
          "text": [
            "100%|██████████| 140/140 [00:00<00:00, 466.70it/s]\n",
            "100%|██████████| 60/60 [00:00<00:00, 1439.94it/s]\n"
          ]
        },
        {
          "output_type": "stream",
          "name": "stdout",
          "text": [
            "Epoch 56/150 loss 2.63357 val_loss 2.56328\n"
          ]
        },
        {
          "output_type": "stream",
          "name": "stderr",
          "text": [
            "100%|██████████| 140/140 [00:00<00:00, 490.50it/s]\n",
            "100%|██████████| 60/60 [00:00<00:00, 1541.51it/s]\n"
          ]
        },
        {
          "output_type": "stream",
          "name": "stdout",
          "text": [
            "Epoch 57/150 loss 2.66618 val_loss 2.52811\n"
          ]
        },
        {
          "output_type": "stream",
          "name": "stderr",
          "text": [
            "100%|██████████| 140/140 [00:00<00:00, 475.30it/s]\n",
            "100%|██████████| 60/60 [00:00<00:00, 1479.46it/s]\n"
          ]
        },
        {
          "output_type": "stream",
          "name": "stdout",
          "text": [
            "Epoch 58/150 loss 2.64357 val_loss 2.66714\n"
          ]
        },
        {
          "output_type": "stream",
          "name": "stderr",
          "text": [
            "100%|██████████| 140/140 [00:00<00:00, 471.42it/s]\n",
            "100%|██████████| 60/60 [00:00<00:00, 1434.66it/s]\n"
          ]
        },
        {
          "output_type": "stream",
          "name": "stdout",
          "text": [
            "Epoch 59/150 loss 2.63472 val_loss 2.54004\n"
          ]
        },
        {
          "output_type": "stream",
          "name": "stderr",
          "text": [
            "100%|██████████| 140/140 [00:00<00:00, 425.15it/s]\n",
            "100%|██████████| 60/60 [00:00<00:00, 1423.12it/s]\n"
          ]
        },
        {
          "output_type": "stream",
          "name": "stdout",
          "text": [
            "Epoch 60/150 loss 2.59322 val_loss 2.54826\n"
          ]
        },
        {
          "output_type": "stream",
          "name": "stderr",
          "text": [
            "100%|██████████| 140/140 [00:00<00:00, 475.76it/s]\n",
            "100%|██████████| 60/60 [00:00<00:00, 1402.02it/s]\n"
          ]
        },
        {
          "output_type": "stream",
          "name": "stdout",
          "text": [
            "Epoch 61/150 loss 2.57518 val_loss 2.56316\n"
          ]
        },
        {
          "output_type": "stream",
          "name": "stderr",
          "text": [
            "100%|██████████| 140/140 [00:00<00:00, 479.52it/s]\n",
            "100%|██████████| 60/60 [00:00<00:00, 1431.02it/s]\n"
          ]
        },
        {
          "output_type": "stream",
          "name": "stdout",
          "text": [
            "Epoch 62/150 loss 2.55447 val_loss 2.54378\n"
          ]
        },
        {
          "output_type": "stream",
          "name": "stderr",
          "text": [
            "100%|██████████| 140/140 [00:00<00:00, 474.53it/s]\n",
            "100%|██████████| 60/60 [00:00<00:00, 1590.47it/s]\n"
          ]
        },
        {
          "output_type": "stream",
          "name": "stdout",
          "text": [
            "Epoch 63/150 loss 2.64935 val_loss 2.57575\n"
          ]
        },
        {
          "output_type": "stream",
          "name": "stderr",
          "text": [
            "100%|██████████| 140/140 [00:00<00:00, 477.67it/s]\n",
            "100%|██████████| 60/60 [00:00<00:00, 1358.27it/s]\n"
          ]
        },
        {
          "output_type": "stream",
          "name": "stdout",
          "text": [
            "Epoch 64/150 loss 2.67753 val_loss 2.50845\n"
          ]
        },
        {
          "output_type": "stream",
          "name": "stderr",
          "text": [
            "100%|██████████| 140/140 [00:00<00:00, 490.72it/s]\n",
            "100%|██████████| 60/60 [00:00<00:00, 1387.51it/s]\n"
          ]
        },
        {
          "output_type": "stream",
          "name": "stdout",
          "text": [
            "Epoch 65/150 loss 2.64047 val_loss 2.51790\n"
          ]
        },
        {
          "output_type": "stream",
          "name": "stderr",
          "text": [
            "100%|██████████| 140/140 [00:00<00:00, 484.06it/s]\n",
            "100%|██████████| 60/60 [00:00<00:00, 1286.10it/s]\n"
          ]
        },
        {
          "output_type": "stream",
          "name": "stdout",
          "text": [
            "Epoch 66/150 loss 2.56664 val_loss 2.51377\n"
          ]
        },
        {
          "output_type": "stream",
          "name": "stderr",
          "text": [
            "100%|██████████| 140/140 [00:00<00:00, 481.44it/s]\n",
            "100%|██████████| 60/60 [00:00<00:00, 1339.02it/s]\n"
          ]
        },
        {
          "output_type": "stream",
          "name": "stdout",
          "text": [
            "Epoch 67/150 loss 2.60816 val_loss 2.47978\n"
          ]
        },
        {
          "output_type": "stream",
          "name": "stderr",
          "text": [
            "100%|██████████| 140/140 [00:00<00:00, 476.18it/s]\n",
            "100%|██████████| 60/60 [00:00<00:00, 1329.29it/s]\n"
          ]
        },
        {
          "output_type": "stream",
          "name": "stdout",
          "text": [
            "Epoch 68/150 loss 2.55538 val_loss 2.59418\n"
          ]
        },
        {
          "output_type": "stream",
          "name": "stderr",
          "text": [
            "100%|██████████| 140/140 [00:00<00:00, 492.71it/s]\n",
            "100%|██████████| 60/60 [00:00<00:00, 1589.70it/s]\n"
          ]
        },
        {
          "output_type": "stream",
          "name": "stdout",
          "text": [
            "Epoch 69/150 loss 2.57766 val_loss 2.51106\n"
          ]
        },
        {
          "output_type": "stream",
          "name": "stderr",
          "text": [
            "100%|██████████| 140/140 [00:00<00:00, 463.48it/s]\n",
            "100%|██████████| 60/60 [00:00<00:00, 1443.53it/s]\n"
          ]
        },
        {
          "output_type": "stream",
          "name": "stdout",
          "text": [
            "Epoch 70/150 loss 2.54459 val_loss 2.57647\n"
          ]
        },
        {
          "output_type": "stream",
          "name": "stderr",
          "text": [
            "100%|██████████| 140/140 [00:00<00:00, 472.07it/s]\n",
            "100%|██████████| 60/60 [00:00<00:00, 1499.08it/s]\n"
          ]
        },
        {
          "output_type": "stream",
          "name": "stdout",
          "text": [
            "Epoch 71/150 loss 2.55464 val_loss 2.47759\n"
          ]
        },
        {
          "output_type": "stream",
          "name": "stderr",
          "text": [
            "100%|██████████| 140/140 [00:00<00:00, 488.35it/s]\n",
            "100%|██████████| 60/60 [00:00<00:00, 1407.74it/s]\n"
          ]
        },
        {
          "output_type": "stream",
          "name": "stdout",
          "text": [
            "Epoch 72/150 loss 2.57653 val_loss 2.50496\n"
          ]
        },
        {
          "output_type": "stream",
          "name": "stderr",
          "text": [
            "100%|██████████| 140/140 [00:00<00:00, 469.62it/s]\n",
            "100%|██████████| 60/60 [00:00<00:00, 1399.41it/s]\n"
          ]
        },
        {
          "output_type": "stream",
          "name": "stdout",
          "text": [
            "Epoch 73/150 loss 2.55904 val_loss 2.55045\n"
          ]
        },
        {
          "output_type": "stream",
          "name": "stderr",
          "text": [
            "100%|██████████| 140/140 [00:00<00:00, 463.75it/s]\n",
            "100%|██████████| 60/60 [00:00<00:00, 1501.50it/s]\n"
          ]
        },
        {
          "output_type": "stream",
          "name": "stdout",
          "text": [
            "Epoch 74/150 loss 2.56362 val_loss 2.55589\n"
          ]
        },
        {
          "output_type": "stream",
          "name": "stderr",
          "text": [
            "100%|██████████| 140/140 [00:00<00:00, 478.42it/s]\n",
            "100%|██████████| 60/60 [00:00<00:00, 1534.76it/s]\n"
          ]
        },
        {
          "output_type": "stream",
          "name": "stdout",
          "text": [
            "Epoch 75/150 loss 2.49908 val_loss 2.49705\n"
          ]
        },
        {
          "output_type": "stream",
          "name": "stderr",
          "text": [
            "100%|██████████| 140/140 [00:00<00:00, 472.29it/s]\n",
            "100%|██████████| 60/60 [00:00<00:00, 1339.48it/s]\n"
          ]
        },
        {
          "output_type": "stream",
          "name": "stdout",
          "text": [
            "Epoch 76/150 loss 2.57910 val_loss 2.55297\n"
          ]
        },
        {
          "output_type": "stream",
          "name": "stderr",
          "text": [
            "100%|██████████| 140/140 [00:00<00:00, 476.80it/s]\n",
            "100%|██████████| 60/60 [00:00<00:00, 1406.52it/s]\n"
          ]
        },
        {
          "output_type": "stream",
          "name": "stdout",
          "text": [
            "Epoch 77/150 loss 2.51427 val_loss 2.53836\n"
          ]
        },
        {
          "output_type": "stream",
          "name": "stderr",
          "text": [
            "100%|██████████| 140/140 [00:00<00:00, 468.24it/s]\n",
            "100%|██████████| 60/60 [00:00<00:00, 1427.89it/s]\n"
          ]
        },
        {
          "output_type": "stream",
          "name": "stdout",
          "text": [
            "Epoch 78/150 loss 2.53215 val_loss 2.42173\n"
          ]
        },
        {
          "output_type": "stream",
          "name": "stderr",
          "text": [
            "100%|██████████| 140/140 [00:00<00:00, 477.06it/s]\n",
            "100%|██████████| 60/60 [00:00<00:00, 1486.55it/s]\n"
          ]
        },
        {
          "output_type": "stream",
          "name": "stdout",
          "text": [
            "Epoch 79/150 loss 2.41515 val_loss 2.43385\n"
          ]
        },
        {
          "output_type": "stream",
          "name": "stderr",
          "text": [
            "100%|██████████| 140/140 [00:00<00:00, 491.39it/s]\n",
            "100%|██████████| 60/60 [00:00<00:00, 1442.51it/s]\n"
          ]
        },
        {
          "output_type": "stream",
          "name": "stdout",
          "text": [
            "Epoch 80/150 loss 2.48992 val_loss 2.42621\n"
          ]
        },
        {
          "output_type": "stream",
          "name": "stderr",
          "text": [
            "100%|██████████| 140/140 [00:00<00:00, 473.17it/s]\n",
            "100%|██████████| 60/60 [00:00<00:00, 1623.27it/s]\n"
          ]
        },
        {
          "output_type": "stream",
          "name": "stdout",
          "text": [
            "Epoch 81/150 loss 2.50114 val_loss 2.43104\n"
          ]
        },
        {
          "output_type": "stream",
          "name": "stderr",
          "text": [
            "100%|██████████| 140/140 [00:00<00:00, 471.18it/s]\n",
            "100%|██████████| 60/60 [00:00<00:00, 1155.58it/s]\n"
          ]
        },
        {
          "output_type": "stream",
          "name": "stdout",
          "text": [
            "Epoch 82/150 loss 2.53030 val_loss 2.49892\n"
          ]
        },
        {
          "output_type": "stream",
          "name": "stderr",
          "text": [
            "100%|██████████| 140/140 [00:00<00:00, 490.27it/s]\n",
            "100%|██████████| 60/60 [00:00<00:00, 1462.75it/s]\n"
          ]
        },
        {
          "output_type": "stream",
          "name": "stdout",
          "text": [
            "Epoch 83/150 loss 2.46449 val_loss 2.46174\n"
          ]
        },
        {
          "output_type": "stream",
          "name": "stderr",
          "text": [
            "100%|██████████| 140/140 [00:00<00:00, 460.67it/s]\n",
            "100%|██████████| 60/60 [00:00<00:00, 1547.50it/s]\n"
          ]
        },
        {
          "output_type": "stream",
          "name": "stdout",
          "text": [
            "Epoch 84/150 loss 2.51735 val_loss 2.39109\n"
          ]
        },
        {
          "output_type": "stream",
          "name": "stderr",
          "text": [
            "100%|██████████| 140/140 [00:00<00:00, 462.96it/s]\n",
            "100%|██████████| 60/60 [00:00<00:00, 1241.63it/s]\n"
          ]
        },
        {
          "output_type": "stream",
          "name": "stdout",
          "text": [
            "Epoch 85/150 loss 2.49159 val_loss 2.54274\n"
          ]
        },
        {
          "output_type": "stream",
          "name": "stderr",
          "text": [
            "100%|██████████| 140/140 [00:00<00:00, 476.19it/s]\n",
            "100%|██████████| 60/60 [00:00<00:00, 1478.80it/s]\n"
          ]
        },
        {
          "output_type": "stream",
          "name": "stdout",
          "text": [
            "Epoch 86/150 loss 2.39317 val_loss 2.44279\n"
          ]
        },
        {
          "output_type": "stream",
          "name": "stderr",
          "text": [
            "100%|██████████| 140/140 [00:00<00:00, 482.25it/s]\n",
            "100%|██████████| 60/60 [00:00<00:00, 1427.26it/s]\n"
          ]
        },
        {
          "output_type": "stream",
          "name": "stdout",
          "text": [
            "Epoch 87/150 loss 2.51298 val_loss 2.39824\n"
          ]
        },
        {
          "output_type": "stream",
          "name": "stderr",
          "text": [
            "100%|██████████| 140/140 [00:00<00:00, 436.65it/s]\n",
            "100%|██████████| 60/60 [00:00<00:00, 1427.93it/s]\n"
          ]
        },
        {
          "output_type": "stream",
          "name": "stdout",
          "text": [
            "Epoch 88/150 loss 2.45657 val_loss 2.49352\n"
          ]
        },
        {
          "output_type": "stream",
          "name": "stderr",
          "text": [
            "100%|██████████| 140/140 [00:00<00:00, 418.66it/s]\n",
            "100%|██████████| 60/60 [00:00<00:00, 1433.35it/s]\n"
          ]
        },
        {
          "output_type": "stream",
          "name": "stdout",
          "text": [
            "Epoch 89/150 loss 2.47053 val_loss 2.41305\n"
          ]
        },
        {
          "output_type": "stream",
          "name": "stderr",
          "text": [
            "100%|██████████| 140/140 [00:00<00:00, 476.89it/s]\n",
            "100%|██████████| 60/60 [00:00<00:00, 1665.50it/s]\n"
          ]
        },
        {
          "output_type": "stream",
          "name": "stdout",
          "text": [
            "Epoch 90/150 loss 2.50142 val_loss 2.40175\n"
          ]
        },
        {
          "output_type": "stream",
          "name": "stderr",
          "text": [
            "100%|██████████| 140/140 [00:00<00:00, 476.48it/s]\n",
            "100%|██████████| 60/60 [00:00<00:00, 1372.67it/s]\n"
          ]
        },
        {
          "output_type": "stream",
          "name": "stdout",
          "text": [
            "Epoch 91/150 loss 2.43609 val_loss 2.45945\n"
          ]
        },
        {
          "output_type": "stream",
          "name": "stderr",
          "text": [
            "100%|██████████| 140/140 [00:00<00:00, 485.55it/s]\n",
            "100%|██████████| 60/60 [00:00<00:00, 1354.87it/s]\n"
          ]
        },
        {
          "output_type": "stream",
          "name": "stdout",
          "text": [
            "Epoch 92/150 loss 2.39861 val_loss 2.41741\n"
          ]
        },
        {
          "output_type": "stream",
          "name": "stderr",
          "text": [
            "100%|██████████| 140/140 [00:00<00:00, 478.88it/s]\n",
            "100%|██████████| 60/60 [00:00<00:00, 1317.01it/s]\n"
          ]
        },
        {
          "output_type": "stream",
          "name": "stdout",
          "text": [
            "Epoch 93/150 loss 2.37875 val_loss 2.45289\n"
          ]
        },
        {
          "output_type": "stream",
          "name": "stderr",
          "text": [
            "100%|██████████| 140/140 [00:00<00:00, 443.69it/s]\n",
            "100%|██████████| 60/60 [00:00<00:00, 1545.30it/s]\n"
          ]
        },
        {
          "output_type": "stream",
          "name": "stdout",
          "text": [
            "Epoch 94/150 loss 2.45775 val_loss 2.43901\n"
          ]
        },
        {
          "output_type": "stream",
          "name": "stderr",
          "text": [
            "100%|██████████| 140/140 [00:00<00:00, 464.23it/s]\n",
            "100%|██████████| 60/60 [00:00<00:00, 1554.18it/s]\n"
          ]
        },
        {
          "output_type": "stream",
          "name": "stdout",
          "text": [
            "Epoch 95/150 loss 2.39564 val_loss 2.36608\n"
          ]
        },
        {
          "output_type": "stream",
          "name": "stderr",
          "text": [
            "100%|██████████| 140/140 [00:00<00:00, 469.02it/s]\n",
            "100%|██████████| 60/60 [00:00<00:00, 1241.33it/s]\n"
          ]
        },
        {
          "output_type": "stream",
          "name": "stdout",
          "text": [
            "Epoch 96/150 loss 2.41473 val_loss 2.43842\n"
          ]
        },
        {
          "output_type": "stream",
          "name": "stderr",
          "text": [
            "100%|██████████| 140/140 [00:00<00:00, 476.12it/s]\n",
            "100%|██████████| 60/60 [00:00<00:00, 1461.31it/s]\n"
          ]
        },
        {
          "output_type": "stream",
          "name": "stdout",
          "text": [
            "Epoch 97/150 loss 2.43641 val_loss 2.41287\n"
          ]
        },
        {
          "output_type": "stream",
          "name": "stderr",
          "text": [
            "100%|██████████| 140/140 [00:00<00:00, 478.33it/s]\n",
            "100%|██████████| 60/60 [00:00<00:00, 1406.69it/s]\n"
          ]
        },
        {
          "output_type": "stream",
          "name": "stdout",
          "text": [
            "Epoch 98/150 loss 2.41552 val_loss 2.36563\n"
          ]
        },
        {
          "output_type": "stream",
          "name": "stderr",
          "text": [
            "100%|██████████| 140/140 [00:00<00:00, 477.50it/s]\n",
            "100%|██████████| 60/60 [00:00<00:00, 1501.96it/s]\n"
          ]
        },
        {
          "output_type": "stream",
          "name": "stdout",
          "text": [
            "Epoch 99/150 loss 2.41744 val_loss 2.43763\n"
          ]
        },
        {
          "output_type": "stream",
          "name": "stderr",
          "text": [
            "100%|██████████| 140/140 [00:00<00:00, 484.47it/s]\n",
            "100%|██████████| 60/60 [00:00<00:00, 1257.28it/s]\n"
          ]
        },
        {
          "output_type": "stream",
          "name": "stdout",
          "text": [
            "Epoch 100/150 loss 2.40477 val_loss 2.40734\n"
          ]
        },
        {
          "output_type": "stream",
          "name": "stderr",
          "text": [
            "100%|██████████| 140/140 [00:00<00:00, 465.27it/s]\n",
            "100%|██████████| 60/60 [00:00<00:00, 1275.47it/s]\n"
          ]
        },
        {
          "output_type": "stream",
          "name": "stdout",
          "text": [
            "Epoch 101/150 loss 2.33486 val_loss 2.42220\n"
          ]
        },
        {
          "output_type": "stream",
          "name": "stderr",
          "text": [
            "100%|██████████| 140/140 [00:00<00:00, 466.31it/s]\n",
            "100%|██████████| 60/60 [00:00<00:00, 1379.31it/s]\n"
          ]
        },
        {
          "output_type": "stream",
          "name": "stdout",
          "text": [
            "Epoch 102/150 loss 2.39111 val_loss 2.32113\n"
          ]
        },
        {
          "output_type": "stream",
          "name": "stderr",
          "text": [
            "100%|██████████| 140/140 [00:00<00:00, 473.49it/s]\n",
            "100%|██████████| 60/60 [00:00<00:00, 1577.63it/s]\n"
          ]
        },
        {
          "output_type": "stream",
          "name": "stdout",
          "text": [
            "Epoch 103/150 loss 2.39473 val_loss 2.36739\n"
          ]
        },
        {
          "output_type": "stream",
          "name": "stderr",
          "text": [
            "100%|██████████| 140/140 [00:00<00:00, 466.83it/s]\n",
            "100%|██████████| 60/60 [00:00<00:00, 1493.98it/s]\n"
          ]
        },
        {
          "output_type": "stream",
          "name": "stdout",
          "text": [
            "Epoch 104/150 loss 2.38890 val_loss 2.35348\n"
          ]
        },
        {
          "output_type": "stream",
          "name": "stderr",
          "text": [
            "100%|██████████| 140/140 [00:00<00:00, 477.72it/s]\n",
            "100%|██████████| 60/60 [00:00<00:00, 1522.71it/s]\n"
          ]
        },
        {
          "output_type": "stream",
          "name": "stdout",
          "text": [
            "Epoch 105/150 loss 2.37038 val_loss 2.38928\n"
          ]
        },
        {
          "output_type": "stream",
          "name": "stderr",
          "text": [
            "100%|██████████| 140/140 [00:00<00:00, 478.27it/s]\n",
            "100%|██████████| 60/60 [00:00<00:00, 1471.22it/s]\n"
          ]
        },
        {
          "output_type": "stream",
          "name": "stdout",
          "text": [
            "Epoch 106/150 loss 2.37203 val_loss 2.37374\n"
          ]
        },
        {
          "output_type": "stream",
          "name": "stderr",
          "text": [
            "100%|██████████| 140/140 [00:00<00:00, 473.84it/s]\n",
            "100%|██████████| 60/60 [00:00<00:00, 1392.42it/s]\n"
          ]
        },
        {
          "output_type": "stream",
          "name": "stdout",
          "text": [
            "Epoch 107/150 loss 2.39790 val_loss 2.35540\n"
          ]
        },
        {
          "output_type": "stream",
          "name": "stderr",
          "text": [
            "100%|██████████| 140/140 [00:00<00:00, 458.87it/s]\n",
            "100%|██████████| 60/60 [00:00<00:00, 1483.66it/s]\n"
          ]
        },
        {
          "output_type": "stream",
          "name": "stdout",
          "text": [
            "Epoch 108/150 loss 2.33703 val_loss 2.43528\n"
          ]
        },
        {
          "output_type": "stream",
          "name": "stderr",
          "text": [
            "100%|██████████| 140/140 [00:00<00:00, 488.95it/s]\n",
            "100%|██████████| 60/60 [00:00<00:00, 1450.64it/s]\n"
          ]
        },
        {
          "output_type": "stream",
          "name": "stdout",
          "text": [
            "Epoch 109/150 loss 2.35871 val_loss 2.35524\n"
          ]
        },
        {
          "output_type": "stream",
          "name": "stderr",
          "text": [
            "100%|██████████| 140/140 [00:00<00:00, 473.81it/s]\n",
            "100%|██████████| 60/60 [00:00<00:00, 1554.04it/s]\n"
          ]
        },
        {
          "output_type": "stream",
          "name": "stdout",
          "text": [
            "Epoch 110/150 loss 2.35104 val_loss 2.29035\n"
          ]
        },
        {
          "output_type": "stream",
          "name": "stderr",
          "text": [
            "100%|██████████| 140/140 [00:00<00:00, 461.47it/s]\n",
            "100%|██████████| 60/60 [00:00<00:00, 1348.73it/s]\n"
          ]
        },
        {
          "output_type": "stream",
          "name": "stdout",
          "text": [
            "Epoch 111/150 loss 2.35616 val_loss 2.28735\n"
          ]
        },
        {
          "output_type": "stream",
          "name": "stderr",
          "text": [
            "100%|██████████| 140/140 [00:00<00:00, 476.51it/s]\n",
            "100%|██████████| 60/60 [00:00<00:00, 1474.06it/s]\n"
          ]
        },
        {
          "output_type": "stream",
          "name": "stdout",
          "text": [
            "Epoch 112/150 loss 2.34657 val_loss 2.36527\n"
          ]
        },
        {
          "output_type": "stream",
          "name": "stderr",
          "text": [
            "100%|██████████| 140/140 [00:00<00:00, 474.79it/s]\n",
            "100%|██████████| 60/60 [00:00<00:00, 1233.30it/s]\n"
          ]
        },
        {
          "output_type": "stream",
          "name": "stdout",
          "text": [
            "Epoch 113/150 loss 2.32543 val_loss 2.43391\n"
          ]
        },
        {
          "output_type": "stream",
          "name": "stderr",
          "text": [
            "100%|██████████| 140/140 [00:00<00:00, 488.81it/s]\n",
            "100%|██████████| 60/60 [00:00<00:00, 1336.52it/s]\n"
          ]
        },
        {
          "output_type": "stream",
          "name": "stdout",
          "text": [
            "Epoch 114/150 loss 2.34662 val_loss 2.42873\n"
          ]
        },
        {
          "output_type": "stream",
          "name": "stderr",
          "text": [
            "100%|██████████| 140/140 [00:00<00:00, 473.51it/s]\n",
            "100%|██████████| 60/60 [00:00<00:00, 1360.59it/s]\n"
          ]
        },
        {
          "output_type": "stream",
          "name": "stdout",
          "text": [
            "Epoch 115/150 loss 2.36527 val_loss 2.40940\n"
          ]
        },
        {
          "output_type": "stream",
          "name": "stderr",
          "text": [
            "100%|██████████| 140/140 [00:00<00:00, 477.34it/s]\n",
            "100%|██████████| 60/60 [00:00<00:00, 1429.75it/s]\n"
          ]
        },
        {
          "output_type": "stream",
          "name": "stdout",
          "text": [
            "Epoch 116/150 loss 2.42703 val_loss 2.38843\n"
          ]
        },
        {
          "output_type": "stream",
          "name": "stderr",
          "text": [
            "100%|██████████| 140/140 [00:00<00:00, 489.36it/s]\n",
            "100%|██████████| 60/60 [00:00<00:00, 1296.64it/s]\n"
          ]
        },
        {
          "output_type": "stream",
          "name": "stdout",
          "text": [
            "Epoch 117/150 loss 2.36734 val_loss 2.30222\n"
          ]
        },
        {
          "output_type": "stream",
          "name": "stderr",
          "text": [
            "100%|██████████| 140/140 [00:00<00:00, 444.10it/s]\n",
            "100%|██████████| 60/60 [00:00<00:00, 1238.51it/s]\n"
          ]
        },
        {
          "output_type": "stream",
          "name": "stdout",
          "text": [
            "Epoch 118/150 loss 2.40636 val_loss 2.37989\n"
          ]
        },
        {
          "output_type": "stream",
          "name": "stderr",
          "text": [
            "100%|██████████| 140/140 [00:00<00:00, 462.23it/s]\n",
            "100%|██████████| 60/60 [00:00<00:00, 1180.35it/s]\n"
          ]
        },
        {
          "output_type": "stream",
          "name": "stdout",
          "text": [
            "Epoch 119/150 loss 2.37237 val_loss 2.32730\n"
          ]
        },
        {
          "output_type": "stream",
          "name": "stderr",
          "text": [
            "100%|██████████| 140/140 [00:00<00:00, 483.42it/s]\n",
            "100%|██████████| 60/60 [00:00<00:00, 1501.17it/s]\n"
          ]
        },
        {
          "output_type": "stream",
          "name": "stdout",
          "text": [
            "Epoch 120/150 loss 2.36027 val_loss 2.36583\n"
          ]
        },
        {
          "output_type": "stream",
          "name": "stderr",
          "text": [
            "100%|██████████| 140/140 [00:00<00:00, 489.53it/s]\n",
            "100%|██████████| 60/60 [00:00<00:00, 1589.05it/s]\n"
          ]
        },
        {
          "output_type": "stream",
          "name": "stdout",
          "text": [
            "Epoch 121/150 loss 2.34849 val_loss 2.34649\n"
          ]
        },
        {
          "output_type": "stream",
          "name": "stderr",
          "text": [
            "100%|██████████| 140/140 [00:00<00:00, 470.43it/s]\n",
            "100%|██████████| 60/60 [00:00<00:00, 1384.21it/s]\n"
          ]
        },
        {
          "output_type": "stream",
          "name": "stdout",
          "text": [
            "Epoch 122/150 loss 2.31829 val_loss 2.47885\n"
          ]
        },
        {
          "output_type": "stream",
          "name": "stderr",
          "text": [
            "100%|██████████| 140/140 [00:00<00:00, 488.52it/s]\n",
            "100%|██████████| 60/60 [00:00<00:00, 1249.68it/s]\n"
          ]
        },
        {
          "output_type": "stream",
          "name": "stdout",
          "text": [
            "Epoch 123/150 loss 2.41417 val_loss 2.40507\n"
          ]
        },
        {
          "output_type": "stream",
          "name": "stderr",
          "text": [
            "100%|██████████| 140/140 [00:00<00:00, 494.09it/s]\n",
            "100%|██████████| 60/60 [00:00<00:00, 1437.32it/s]\n"
          ]
        },
        {
          "output_type": "stream",
          "name": "stdout",
          "text": [
            "Epoch 124/150 loss 2.33776 val_loss 2.28875\n"
          ]
        },
        {
          "output_type": "stream",
          "name": "stderr",
          "text": [
            "100%|██████████| 140/140 [00:00<00:00, 470.62it/s]\n",
            "100%|██████████| 60/60 [00:00<00:00, 1185.13it/s]\n"
          ]
        },
        {
          "output_type": "stream",
          "name": "stdout",
          "text": [
            "Epoch 125/150 loss 2.40240 val_loss 2.35650\n"
          ]
        },
        {
          "output_type": "stream",
          "name": "stderr",
          "text": [
            "100%|██████████| 140/140 [00:00<00:00, 467.51it/s]\n",
            "100%|██████████| 60/60 [00:00<00:00, 1358.47it/s]\n"
          ]
        },
        {
          "output_type": "stream",
          "name": "stdout",
          "text": [
            "Epoch 126/150 loss 2.30718 val_loss 2.32155\n"
          ]
        },
        {
          "output_type": "stream",
          "name": "stderr",
          "text": [
            "100%|██████████| 140/140 [00:00<00:00, 473.19it/s]\n",
            "100%|██████████| 60/60 [00:00<00:00, 1311.38it/s]\n"
          ]
        },
        {
          "output_type": "stream",
          "name": "stdout",
          "text": [
            "Epoch 127/150 loss 2.41978 val_loss 2.37586\n"
          ]
        },
        {
          "output_type": "stream",
          "name": "stderr",
          "text": [
            "100%|██████████| 140/140 [00:00<00:00, 470.49it/s]\n",
            "100%|██████████| 60/60 [00:00<00:00, 1305.97it/s]\n"
          ]
        },
        {
          "output_type": "stream",
          "name": "stdout",
          "text": [
            "Epoch 128/150 loss 2.34068 val_loss 2.31780\n"
          ]
        },
        {
          "output_type": "stream",
          "name": "stderr",
          "text": [
            "100%|██████████| 140/140 [00:00<00:00, 477.38it/s]\n",
            "100%|██████████| 60/60 [00:00<00:00, 1407.15it/s]\n"
          ]
        },
        {
          "output_type": "stream",
          "name": "stdout",
          "text": [
            "Epoch 129/150 loss 2.37811 val_loss 2.40983\n"
          ]
        },
        {
          "output_type": "stream",
          "name": "stderr",
          "text": [
            "100%|██████████| 140/140 [00:00<00:00, 465.50it/s]\n",
            "100%|██████████| 60/60 [00:00<00:00, 1175.90it/s]\n"
          ]
        },
        {
          "output_type": "stream",
          "name": "stdout",
          "text": [
            "Epoch 130/150 loss 2.36033 val_loss 2.33905\n"
          ]
        },
        {
          "output_type": "stream",
          "name": "stderr",
          "text": [
            "100%|██████████| 140/140 [00:00<00:00, 464.22it/s]\n",
            "100%|██████████| 60/60 [00:00<00:00, 1452.06it/s]\n"
          ]
        },
        {
          "output_type": "stream",
          "name": "stdout",
          "text": [
            "Epoch 131/150 loss 2.29541 val_loss 2.39598\n"
          ]
        },
        {
          "output_type": "stream",
          "name": "stderr",
          "text": [
            "100%|██████████| 140/140 [00:00<00:00, 463.73it/s]\n",
            "100%|██████████| 60/60 [00:00<00:00, 1516.44it/s]\n"
          ]
        },
        {
          "output_type": "stream",
          "name": "stdout",
          "text": [
            "Epoch 132/150 loss 2.32963 val_loss 2.33513\n"
          ]
        },
        {
          "output_type": "stream",
          "name": "stderr",
          "text": [
            "100%|██████████| 140/140 [00:00<00:00, 457.19it/s]\n",
            "100%|██████████| 60/60 [00:00<00:00, 1219.53it/s]\n"
          ]
        },
        {
          "output_type": "stream",
          "name": "stdout",
          "text": [
            "Epoch 133/150 loss 2.34852 val_loss 2.48617\n"
          ]
        },
        {
          "output_type": "stream",
          "name": "stderr",
          "text": [
            "100%|██████████| 140/140 [00:00<00:00, 471.69it/s]\n",
            "100%|██████████| 60/60 [00:00<00:00, 1352.99it/s]\n"
          ]
        },
        {
          "output_type": "stream",
          "name": "stdout",
          "text": [
            "Epoch 134/150 loss 2.34256 val_loss 2.39087\n"
          ]
        },
        {
          "output_type": "stream",
          "name": "stderr",
          "text": [
            "100%|██████████| 140/140 [00:00<00:00, 449.86it/s]\n",
            "100%|██████████| 60/60 [00:00<00:00, 1437.61it/s]\n"
          ]
        },
        {
          "output_type": "stream",
          "name": "stdout",
          "text": [
            "Epoch 135/150 loss 2.39607 val_loss 2.33861\n"
          ]
        },
        {
          "output_type": "stream",
          "name": "stderr",
          "text": [
            "100%|██████████| 140/140 [00:00<00:00, 466.71it/s]\n",
            "100%|██████████| 60/60 [00:00<00:00, 1483.37it/s]\n"
          ]
        },
        {
          "output_type": "stream",
          "name": "stdout",
          "text": [
            "Epoch 136/150 loss 2.31709 val_loss 2.32964\n"
          ]
        },
        {
          "output_type": "stream",
          "name": "stderr",
          "text": [
            "100%|██████████| 140/140 [00:00<00:00, 474.77it/s]\n",
            "100%|██████████| 60/60 [00:00<00:00, 1492.55it/s]\n"
          ]
        },
        {
          "output_type": "stream",
          "name": "stdout",
          "text": [
            "Epoch 137/150 loss 2.36682 val_loss 2.30239\n"
          ]
        },
        {
          "output_type": "stream",
          "name": "stderr",
          "text": [
            "100%|██████████| 140/140 [00:00<00:00, 473.79it/s]\n",
            "100%|██████████| 60/60 [00:00<00:00, 1407.22it/s]\n"
          ]
        },
        {
          "output_type": "stream",
          "name": "stdout",
          "text": [
            "Epoch 138/150 loss 2.40155 val_loss 2.36526\n"
          ]
        },
        {
          "output_type": "stream",
          "name": "stderr",
          "text": [
            "100%|██████████| 140/140 [00:00<00:00, 482.09it/s]\n",
            "100%|██████████| 60/60 [00:00<00:00, 1478.03it/s]\n"
          ]
        },
        {
          "output_type": "stream",
          "name": "stdout",
          "text": [
            "Epoch 139/150 loss 2.34526 val_loss 2.41213\n"
          ]
        },
        {
          "output_type": "stream",
          "name": "stderr",
          "text": [
            "100%|██████████| 140/140 [00:00<00:00, 483.05it/s]\n",
            "100%|██████████| 60/60 [00:00<00:00, 1540.45it/s]\n"
          ]
        },
        {
          "output_type": "stream",
          "name": "stdout",
          "text": [
            "Epoch 140/150 loss 2.41152 val_loss 2.31939\n"
          ]
        },
        {
          "output_type": "stream",
          "name": "stderr",
          "text": [
            "100%|██████████| 140/140 [00:00<00:00, 485.91it/s]\n",
            "100%|██████████| 60/60 [00:00<00:00, 1498.35it/s]\n"
          ]
        },
        {
          "output_type": "stream",
          "name": "stdout",
          "text": [
            "Epoch 141/150 loss 2.32194 val_loss 2.32476\n"
          ]
        },
        {
          "output_type": "stream",
          "name": "stderr",
          "text": [
            "100%|██████████| 140/140 [00:00<00:00, 449.05it/s]\n",
            "100%|██████████| 60/60 [00:00<00:00, 1493.41it/s]\n"
          ]
        },
        {
          "output_type": "stream",
          "name": "stdout",
          "text": [
            "Epoch 142/150 loss 2.39781 val_loss 2.29244\n"
          ]
        },
        {
          "output_type": "stream",
          "name": "stderr",
          "text": [
            "100%|██████████| 140/140 [00:00<00:00, 459.82it/s]\n",
            "100%|██████████| 60/60 [00:00<00:00, 1447.58it/s]\n"
          ]
        },
        {
          "output_type": "stream",
          "name": "stdout",
          "text": [
            "Epoch 143/150 loss 2.37888 val_loss 2.34999\n"
          ]
        },
        {
          "output_type": "stream",
          "name": "stderr",
          "text": [
            "100%|██████████| 140/140 [00:00<00:00, 461.01it/s]\n",
            "100%|██████████| 60/60 [00:00<00:00, 1084.74it/s]\n"
          ]
        },
        {
          "output_type": "stream",
          "name": "stdout",
          "text": [
            "Epoch 144/150 loss 2.38724 val_loss 2.31358\n"
          ]
        },
        {
          "output_type": "stream",
          "name": "stderr",
          "text": [
            "100%|██████████| 140/140 [00:00<00:00, 482.97it/s]\n",
            "100%|██████████| 60/60 [00:00<00:00, 1533.03it/s]\n"
          ]
        },
        {
          "output_type": "stream",
          "name": "stdout",
          "text": [
            "Epoch 145/150 loss 2.39092 val_loss 2.36757\n"
          ]
        },
        {
          "output_type": "stream",
          "name": "stderr",
          "text": [
            "100%|██████████| 140/140 [00:00<00:00, 480.91it/s]\n",
            "100%|██████████| 60/60 [00:00<00:00, 1551.30it/s]\n"
          ]
        },
        {
          "output_type": "stream",
          "name": "stdout",
          "text": [
            "Epoch 146/150 loss 2.42277 val_loss 2.42193\n"
          ]
        },
        {
          "output_type": "stream",
          "name": "stderr",
          "text": [
            "100%|██████████| 140/140 [00:00<00:00, 446.43it/s]\n",
            "100%|██████████| 60/60 [00:00<00:00, 1471.22it/s]\n"
          ]
        },
        {
          "output_type": "stream",
          "name": "stdout",
          "text": [
            "Epoch 147/150 loss 2.36762 val_loss 2.39566\n"
          ]
        },
        {
          "output_type": "stream",
          "name": "stderr",
          "text": [
            "100%|██████████| 140/140 [00:00<00:00, 468.14it/s]\n",
            "100%|██████████| 60/60 [00:00<00:00, 1471.03it/s]\n"
          ]
        },
        {
          "output_type": "stream",
          "name": "stdout",
          "text": [
            "Epoch 148/150 loss 2.30337 val_loss 2.32943\n"
          ]
        },
        {
          "output_type": "stream",
          "name": "stderr",
          "text": [
            "100%|██████████| 140/140 [00:00<00:00, 484.46it/s]\n",
            "100%|██████████| 60/60 [00:00<00:00, 1348.02it/s]\n"
          ]
        },
        {
          "output_type": "stream",
          "name": "stdout",
          "text": [
            "Epoch 149/150 loss 2.38414 val_loss 2.35168\n"
          ]
        },
        {
          "output_type": "stream",
          "name": "stderr",
          "text": [
            "100%|██████████| 140/140 [00:00<00:00, 452.04it/s]\n",
            "100%|██████████| 60/60 [00:00<00:00, 1455.57it/s]"
          ]
        },
        {
          "output_type": "stream",
          "name": "stdout",
          "text": [
            "Epoch 150/150 loss 2.33650 val_loss 2.40021\n"
          ]
        },
        {
          "output_type": "stream",
          "name": "stderr",
          "text": [
            "\n"
          ]
        }
      ]
    },
    {
      "cell_type": "code",
      "source": [
        "plt.figure(figsize=(16,8))\n",
        "plt.plot(losses, label='Train')\n",
        "plt.plot(val_losses, label='Val')\n",
        "plt.xlabel(\"Epochs\")\n",
        "plt.ylabel(\"Training MSE\")\n",
        "plt.legend()\n",
        "plt.show()"
      ],
      "metadata": {
        "id": "sM3Vj7OdsOXt",
        "colab": {
          "base_uri": "https://localhost:8080/",
          "height": 497
        },
        "outputId": "19e1d257-9d37-4538-ba2d-b7b8282cb865"
      },
      "execution_count": null,
      "outputs": [
        {
          "output_type": "display_data",
          "data": {
            "text/plain": [
              "<Figure size 1152x576 with 1 Axes>"
            ],
            "image/png": "[encoded data removed]"
          },
          "metadata": {
            "needs_background": "light"
          }
        }
      ]
    },
    {
      "cell_type": "markdown",
      "source": [
        "## Se entiende que el modelo es demasiado simple para caer en en un overfitting, por lo tanto con el set de entrenamiento es suficiente para que haga un fit correcto. Se podria disminuir el set de entrenamiento, pero en este caso ya esta al 70 porciento, no creo que siendo menor, mejore."
      ],
      "metadata": {
        "id": "od-B-V1erBbJ"
      }
    },
    {
      "cell_type": "markdown",
      "source": [
        "# Punto 3 \n",
        "Descargar el dataset desde el siguiente link. El dataset son compras de productos que diferentes clientes realizaron durante un black sales. El dataset contiene información sobre las transacciones y el objetivo es poder utilizar el dataset para crear diferentes modelos que puedan predecir cuánto un cliente está dispuesto a gastar en un producto en el futuro. Particularmente, vamos a tratar este problema como una clasificación binaria donde queremos averiguar si el cliente va a gastar mucha plata (más de 9000) o poca plata (menos de 9000).\n"
      ],
      "metadata": {
        "id": "0ydaHKcZpukH"
      }
    },
    {
      "cell_type": "markdown",
      "source": [
        "## Preprocesamiento"
      ],
      "metadata": {
        "id": "2Yw8GMX1sEBk"
      }
    },
    {
      "cell_type": "code",
      "source": [
        "ds2=pd.read_csv(\"drive/MyDrive/dataset_2.csv\")\n",
        "ds2.head()\n"
      ],
      "metadata": {
        "id": "-eyvn66Hptlo",
        "colab": {
          "base_uri": "https://localhost:8080/",
          "height": 270
        },
        "outputId": "e6c8cf0e-601a-4940-a46f-6cbd7fa4a0ca"
      },
      "execution_count": null,
      "outputs": [
        {
          "output_type": "execute_result",
          "data": {
            "text/plain": [
              "   User_ID Product_ID Gender   Age  Occupation City_Category  \\\n",
              "0  1000001  P00069042      F  0-17          10             A   \n",
              "1  1000001  P00248942      F  0-17          10             A   \n",
              "2  1000001  P00087842      F  0-17          10             A   \n",
              "3  1000001  P00085442      F  0-17          10             A   \n",
              "4  1000002  P00285442      M   55+          16             C   \n",
              "\n",
              "  Stay_In_Current_City_Years  Marital_Status  Product_Category_1  \\\n",
              "0                          2               0                   3   \n",
              "1                          2               0                   1   \n",
              "2                          2               0                  12   \n",
              "3                          2               0                  12   \n",
              "4                         4+               0                   8   \n",
              "\n",
              "   Product_Category_2  Product_Category_3  Purchase  \n",
              "0                 NaN                 NaN      8370  \n",
              "1                 6.0                14.0     15200  \n",
              "2                 NaN                 NaN      1422  \n",
              "3                14.0                 NaN      1057  \n",
              "4                 NaN                 NaN      7969  "
            ],
            "text/html": [
              "\n",
              "  <div id=\"df-c813cad1-0f0d-47be-9298-15264e088984\">\n",
              "    <div class=\"colab-df-container\">\n",
              "      <div>\n",
              "<style scoped>\n",
              "    .dataframe tbody tr th:only-of-type {\n",
              "        vertical-align: middle;\n",
              "    }\n",
              "\n",
              "    .dataframe tbody tr th {\n",
              "        vertical-align: top;\n",
              "    }\n",
              "\n",
              "    .dataframe thead th {\n",
              "        text-align: right;\n",
              "    }\n",
              "</style>\n",
              "<table border=\"1\" class=\"dataframe\">\n",
              "  <thead>\n",
              "    <tr style=\"text-align: right;\">\n",
              "      <th></th>\n",
              "      <th>User_ID</th>\n",
              "      <th>Product_ID</th>\n",
              "      <th>Gender</th>\n",
              "      <th>Age</th>\n",
              "      <th>Occupation</th>\n",
              "      <th>City_Category</th>\n",
              "      <th>Stay_In_Current_City_Years</th>\n",
              "      <th>Marital_Status</th>\n",
              "      <th>Product_Category_1</th>\n",
              "      <th>Product_Category_2</th>\n",
              "      <th>Product_Category_3</th>\n",
              "      <th>Purchase</th>\n",
              "    </tr>\n",
              "  </thead>\n",
              "  <tbody>\n",
              "    <tr>\n",
              "      <th>0</th>\n",
              "      <td>1000001</td>\n",
              "      <td>P00069042</td>\n",
              "      <td>F</td>\n",
              "      <td>0-17</td>\n",
              "      <td>10</td>\n",
              "      <td>A</td>\n",
              "      <td>2</td>\n",
              "      <td>0</td>\n",
              "      <td>3</td>\n",
              "      <td>NaN</td>\n",
              "      <td>NaN</td>\n",
              "      <td>8370</td>\n",
              "    </tr>\n",
              "    <tr>\n",
              "      <th>1</th>\n",
              "      <td>1000001</td>\n",
              "      <td>P00248942</td>\n",
              "      <td>F</td>\n",
              "      <td>0-17</td>\n",
              "      <td>10</td>\n",
              "      <td>A</td>\n",
              "      <td>2</td>\n",
              "      <td>0</td>\n",
              "      <td>1</td>\n",
              "      <td>6.0</td>\n",
              "      <td>14.0</td>\n",
              "      <td>15200</td>\n",
              "    </tr>\n",
              "    <tr>\n",
              "      <th>2</th>\n",
              "      <td>1000001</td>\n",
              "      <td>P00087842</td>\n",
              "      <td>F</td>\n",
              "      <td>0-17</td>\n",
              "      <td>10</td>\n",
              "      <td>A</td>\n",
              "      <td>2</td>\n",
              "      <td>0</td>\n",
              "      <td>12</td>\n",
              "      <td>NaN</td>\n",
              "      <td>NaN</td>\n",
              "      <td>1422</td>\n",
              "    </tr>\n",
              "    <tr>\n",
              "      <th>3</th>\n",
              "      <td>1000001</td>\n",
              "      <td>P00085442</td>\n",
              "      <td>F</td>\n",
              "      <td>0-17</td>\n",
              "      <td>10</td>\n",
              "      <td>A</td>\n",
              "      <td>2</td>\n",
              "      <td>0</td>\n",
              "      <td>12</td>\n",
              "      <td>14.0</td>\n",
              "      <td>NaN</td>\n",
              "      <td>1057</td>\n",
              "    </tr>\n",
              "    <tr>\n",
              "      <th>4</th>\n",
              "      <td>1000002</td>\n",
              "      <td>P00285442</td>\n",
              "      <td>M</td>\n",
              "      <td>55+</td>\n",
              "      <td>16</td>\n",
              "      <td>C</td>\n",
              "      <td>4+</td>\n",
              "      <td>0</td>\n",
              "      <td>8</td>\n",
              "      <td>NaN</td>\n",
              "      <td>NaN</td>\n",
              "      <td>7969</td>\n",
              "    </tr>\n",
              "  </tbody>\n",
              "</table>\n",
              "</div>\n",
              "      <button class=\"colab-df-convert\" onclick=\"convertToInteractive('df-c813cad1-0f0d-47be-9298-15264e088984')\"\n",
              "              title=\"Convert this dataframe to an interactive table.\"\n",
              "              style=\"display:none;\">\n",
              "        \n",
              "  <svg xmlns=\"http://www.w3.org/2000/svg\" height=\"24px\"viewBox=\"0 0 24 24\"\n",
              "       width=\"24px\">\n",
              "    <path d=\"M0 0h24v24H0V0z\" fill=\"none\"/>\n",
              "    <path d=\"M18.56 5.44l.94 2.06.94-2.06 2.06-.94-2.06-.94-.94-2.06-.94 2.06-2.06.94zm-11 1L8.5 8.5l.94-2.06 2.06-.94-2.06-.94L8.5 2.5l-.94 2.06-2.06.94zm10 10l.94 2.06.94-2.06 2.06-.94-2.06-.94-.94-2.06-.94 2.06-2.06.94z\"/><path d=\"M17.41 7.96l-1.37-1.37c-.4-.4-.92-.59-1.43-.59-.52 0-1.04.2-1.43.59L10.3 9.45l-7.72 7.72c-.78.78-.78 2.05 0 2.83L4 21.41c.39.39.9.59 1.41.59.51 0 1.02-.2 1.41-.59l7.78-7.78 2.81-2.81c.8-.78.8-2.07 0-2.86zM5.41 20L4 18.59l7.72-7.72 1.47 1.35L5.41 20z\"/>\n",
              "  </svg>\n",
              "      </button>\n",
              "      \n",
              "  <style>\n",
              "    .colab-df-container {\n",
              "      display:flex;\n",
              "      flex-wrap:wrap;\n",
              "      gap: 12px;\n",
              "    }\n",
              "\n",
              "    .colab-df-convert {\n",
              "      background-color: #E8F0FE;\n",
              "      border: none;\n",
              "      border-radius: 50%;\n",
              "      cursor: pointer;\n",
              "      display: none;\n",
              "      fill: #1967D2;\n",
              "      height: 32px;\n",
              "      padding: 0 0 0 0;\n",
              "      width: 32px;\n",
              "    }\n",
              "\n",
              "    .colab-df-convert:hover {\n",
              "      background-color: #E2EBFA;\n",
              "      box-shadow: 0px 1px 2px rgba(60, 64, 67, 0.3), 0px 1px 3px 1px rgba(60, 64, 67, 0.15);\n",
              "      fill: #174EA6;\n",
              "    }\n",
              "\n",
              "    [theme=dark] .colab-df-convert {\n",
              "      background-color: #3B4455;\n",
              "      fill: #D2E3FC;\n",
              "    }\n",
              "\n",
              "    [theme=dark] .colab-df-convert:hover {\n",
              "      background-color: #434B5C;\n",
              "      box-shadow: 0px 1px 3px 1px rgba(0, 0, 0, 0.15);\n",
              "      filter: drop-shadow(0px 1px 2px rgba(0, 0, 0, 0.3));\n",
              "      fill: #FFFFFF;\n",
              "    }\n",
              "  </style>\n",
              "\n",
              "      <script>\n",
              "        const buttonEl =\n",
              "          document.querySelector('#df-c813cad1-0f0d-47be-9298-15264e088984 button.colab-df-convert');\n",
              "        buttonEl.style.display =\n",
              "          google.colab.kernel.accessAllowed ? 'block' : 'none';\n",
              "\n",
              "        async function convertToInteractive(key) {\n",
              "          const element = document.querySelector('#df-c813cad1-0f0d-47be-9298-15264e088984');\n",
              "          const dataTable =\n",
              "            await google.colab.kernel.invokeFunction('convertToInteractive',\n",
              "                                                     [key], {});\n",
              "          if (!dataTable) return;\n",
              "\n",
              "          const docLinkHtml = 'Like what you see? Visit the ' +\n",
              "            '<a target=\"_blank\" href=https://colab.research.google.com/notebooks/data_table.ipynb>data table notebook</a>'\n",
              "            + ' to learn more about interactive tables.';\n",
              "          element.innerHTML = '';\n",
              "          dataTable['output_type'] = 'display_data';\n",
              "          await google.colab.output.renderOutput(dataTable, element);\n",
              "          const docLink = document.createElement('div');\n",
              "          docLink.innerHTML = docLinkHtml;\n",
              "          element.appendChild(docLink);\n",
              "        }\n",
              "      </script>\n",
              "    </div>\n",
              "  </div>\n",
              "  "
            ]
          },
          "metadata": {},
          "execution_count": 63
        }
      ]
    },
    {
      "cell_type": "code",
      "source": [
        "ds2.info()"
      ],
      "metadata": {
        "id": "Ssq-DRQJw2H8",
        "colab": {
          "base_uri": "https://localhost:8080/"
        },
        "outputId": "94cf3329-dbac-48c4-f33b-5bb28644f311"
      },
      "execution_count": null,
      "outputs": [
        {
          "output_type": "stream",
          "name": "stdout",
          "text": [
            "<class 'pandas.core.frame.DataFrame'>\n",
            "RangeIndex: 550068 entries, 0 to 550067\n",
            "Data columns (total 12 columns):\n",
            " #   Column                      Non-Null Count   Dtype  \n",
            "---  ------                      --------------   -----  \n",
            " 0   User_ID                     550068 non-null  int64  \n",
            " 1   Product_ID                  550068 non-null  object \n",
            " 2   Gender                      550068 non-null  object \n",
            " 3   Age                         550068 non-null  object \n",
            " 4   Occupation                  550068 non-null  int64  \n",
            " 5   City_Category               550068 non-null  object \n",
            " 6   Stay_In_Current_City_Years  550068 non-null  object \n",
            " 7   Marital_Status              550068 non-null  int64  \n",
            " 8   Product_Category_1          550068 non-null  int64  \n",
            " 9   Product_Category_2          376430 non-null  float64\n",
            " 10  Product_Category_3          166821 non-null  float64\n",
            " 11  Purchase                    550068 non-null  int64  \n",
            "dtypes: float64(2), int64(5), object(5)\n",
            "memory usage: 50.4+ MB\n"
          ]
        }
      ]
    },
    {
      "cell_type": "code",
      "source": [
        "ds2=ds2.drop(columns=[\"Product_Category_3\"])"
      ],
      "metadata": {
        "id": "CenRYhSQpwtH"
      },
      "execution_count": null,
      "outputs": []
    },
    {
      "cell_type": "code",
      "source": [
        "linearR = LinearRegression()\n",
        "logisticR = LogisticRegression()\n",
        "columns=[\"User_ID\",\"Occupation\",\"Marital_Status\",\"Product_Category_1\",\"Product_Category_2\"]\n",
        "\n",
        "imp = IterativeImputer(n_nearest_features=4,estimator=linearR,missing_values=np.nan, max_iter=10, verbose=2, imputation_order='roman',random_state=0)\n",
        "ds2[columns]=imp.fit_transform(ds2[columns])"
      ],
      "metadata": {
        "id": "pZCm52yAxarO",
        "colab": {
          "base_uri": "https://localhost:8080/"
        },
        "outputId": "c6d5d63b-226b-4712-d9cd-2276708b2a18"
      },
      "execution_count": null,
      "outputs": [
        {
          "output_type": "stream",
          "name": "stdout",
          "text": [
            "[IterativeImputer] Completing matrix with shape (550068, 5)\n",
            "[IterativeImputer] Ending imputation round 1/10, elapsed time 0.45\n",
            "[IterativeImputer] Change: 13.265779264699173, scaled tolerance: 1006.0400000000001 \n",
            "[IterativeImputer] Early stopping criterion reached.\n"
          ]
        }
      ]
    },
    {
      "cell_type": "code",
      "source": [
        "for i in columns:\n",
        "  ds2 = ds2.astype({i: int})\n",
        "ds2 = ds2.astype({\"Occupation\": int})"
      ],
      "metadata": {
        "id": "BaIoj2tDz0uo"
      },
      "execution_count": null,
      "outputs": []
    },
    {
      "cell_type": "code",
      "source": [
        "ds2"
      ],
      "metadata": {
        "id": "pjzeq1qOzGUg",
        "colab": {
          "base_uri": "https://localhost:8080/",
          "height": 488
        },
        "outputId": "fa14f6b2-788f-4c44-f60b-a3f6ac280db5"
      },
      "execution_count": null,
      "outputs": [
        {
          "output_type": "execute_result",
          "data": {
            "text/plain": [
              "        User_ID Product_ID Gender    Age  Occupation City_Category  \\\n",
              "0       1000001  P00069042      F   0-17          10             A   \n",
              "1       1000001  P00248942      F   0-17          10             A   \n",
              "2       1000001  P00087842      F   0-17          10             A   \n",
              "3       1000001  P00085442      F   0-17          10             A   \n",
              "4       1000002  P00285442      M    55+          16             C   \n",
              "...         ...        ...    ...    ...         ...           ...   \n",
              "550063  1006033  P00372445      M  51-55          13             B   \n",
              "550064  1006035  P00375436      F  26-35           1             C   \n",
              "550065  1006036  P00375436      F  26-35          15             B   \n",
              "550066  1006038  P00375436      F    55+           1             C   \n",
              "550067  1006039  P00371644      F  46-50           0             B   \n",
              "\n",
              "       Stay_In_Current_City_Years  Marital_Status  Product_Category_1  \\\n",
              "0                               2               0                   3   \n",
              "1                               2               0                   1   \n",
              "2                               2               0                  12   \n",
              "3                               2               0                  12   \n",
              "4                              4+               0                   8   \n",
              "...                           ...             ...                 ...   \n",
              "550063                          1               1                  20   \n",
              "550064                          3               0                  20   \n",
              "550065                         4+               1                  20   \n",
              "550066                          2               0                  20   \n",
              "550067                         4+               1                  20   \n",
              "\n",
              "        Product_Category_2  Purchase  \n",
              "0                        8      8370  \n",
              "1                        6     15200  \n",
              "2                       16      1422  \n",
              "3                       14      1057  \n",
              "4                       13      7969  \n",
              "...                    ...       ...  \n",
              "550063                  23       368  \n",
              "550064                  22       371  \n",
              "550065                  23       137  \n",
              "550066                  22       365  \n",
              "550067                  23       490  \n",
              "\n",
              "[550068 rows x 11 columns]"
            ],
            "text/html": [
              "\n",
              "  <div id=\"df-86ecae06-624c-40cf-9ddd-39b499c88b22\">\n",
              "    <div class=\"colab-df-container\">\n",
              "      <div>\n",
              "<style scoped>\n",
              "    .dataframe tbody tr th:only-of-type {\n",
              "        vertical-align: middle;\n",
              "    }\n",
              "\n",
              "    .dataframe tbody tr th {\n",
              "        vertical-align: top;\n",
              "    }\n",
              "\n",
              "    .dataframe thead th {\n",
              "        text-align: right;\n",
              "    }\n",
              "</style>\n",
              "<table border=\"1\" class=\"dataframe\">\n",
              "  <thead>\n",
              "    <tr style=\"text-align: right;\">\n",
              "      <th></th>\n",
              "      <th>User_ID</th>\n",
              "      <th>Product_ID</th>\n",
              "      <th>Gender</th>\n",
              "      <th>Age</th>\n",
              "      <th>Occupation</th>\n",
              "      <th>City_Category</th>\n",
              "      <th>Stay_In_Current_City_Years</th>\n",
              "      <th>Marital_Status</th>\n",
              "      <th>Product_Category_1</th>\n",
              "      <th>Product_Category_2</th>\n",
              "      <th>Purchase</th>\n",
              "    </tr>\n",
              "  </thead>\n",
              "  <tbody>\n",
              "    <tr>\n",
              "      <th>0</th>\n",
              "      <td>1000001</td>\n",
              "      <td>P00069042</td>\n",
              "      <td>F</td>\n",
              "      <td>0-17</td>\n",
              "      <td>10</td>\n",
              "      <td>A</td>\n",
              "      <td>2</td>\n",
              "      <td>0</td>\n",
              "      <td>3</td>\n",
              "      <td>8</td>\n",
              "      <td>8370</td>\n",
              "    </tr>\n",
              "    <tr>\n",
              "      <th>1</th>\n",
              "      <td>1000001</td>\n",
              "      <td>P00248942</td>\n",
              "      <td>F</td>\n",
              "      <td>0-17</td>\n",
              "      <td>10</td>\n",
              "      <td>A</td>\n",
              "      <td>2</td>\n",
              "      <td>0</td>\n",
              "      <td>1</td>\n",
              "      <td>6</td>\n",
              "      <td>15200</td>\n",
              "    </tr>\n",
              "    <tr>\n",
              "      <th>2</th>\n",
              "      <td>1000001</td>\n",
              "      <td>P00087842</td>\n",
              "      <td>F</td>\n",
              "      <td>0-17</td>\n",
              "      <td>10</td>\n",
              "      <td>A</td>\n",
              "      <td>2</td>\n",
              "      <td>0</td>\n",
              "      <td>12</td>\n",
              "      <td>16</td>\n",
              "      <td>1422</td>\n",
              "    </tr>\n",
              "    <tr>\n",
              "      <th>3</th>\n",
              "      <td>1000001</td>\n",
              "      <td>P00085442</td>\n",
              "      <td>F</td>\n",
              "      <td>0-17</td>\n",
              "      <td>10</td>\n",
              "      <td>A</td>\n",
              "      <td>2</td>\n",
              "      <td>0</td>\n",
              "      <td>12</td>\n",
              "      <td>14</td>\n",
              "      <td>1057</td>\n",
              "    </tr>\n",
              "    <tr>\n",
              "      <th>4</th>\n",
              "      <td>1000002</td>\n",
              "      <td>P00285442</td>\n",
              "      <td>M</td>\n",
              "      <td>55+</td>\n",
              "      <td>16</td>\n",
              "      <td>C</td>\n",
              "      <td>4+</td>\n",
              "      <td>0</td>\n",
              "      <td>8</td>\n",
              "      <td>13</td>\n",
              "      <td>7969</td>\n",
              "    </tr>\n",
              "    <tr>\n",
              "      <th>...</th>\n",
              "      <td>...</td>\n",
              "      <td>...</td>\n",
              "      <td>...</td>\n",
              "      <td>...</td>\n",
              "      <td>...</td>\n",
              "      <td>...</td>\n",
              "      <td>...</td>\n",
              "      <td>...</td>\n",
              "      <td>...</td>\n",
              "      <td>...</td>\n",
              "      <td>...</td>\n",
              "    </tr>\n",
              "    <tr>\n",
              "      <th>550063</th>\n",
              "      <td>1006033</td>\n",
              "      <td>P00372445</td>\n",
              "      <td>M</td>\n",
              "      <td>51-55</td>\n",
              "      <td>13</td>\n",
              "      <td>B</td>\n",
              "      <td>1</td>\n",
              "      <td>1</td>\n",
              "      <td>20</td>\n",
              "      <td>23</td>\n",
              "      <td>368</td>\n",
              "    </tr>\n",
              "    <tr>\n",
              "      <th>550064</th>\n",
              "      <td>1006035</td>\n",
              "      <td>P00375436</td>\n",
              "      <td>F</td>\n",
              "      <td>26-35</td>\n",
              "      <td>1</td>\n",
              "      <td>C</td>\n",
              "      <td>3</td>\n",
              "      <td>0</td>\n",
              "      <td>20</td>\n",
              "      <td>22</td>\n",
              "      <td>371</td>\n",
              "    </tr>\n",
              "    <tr>\n",
              "      <th>550065</th>\n",
              "      <td>1006036</td>\n",
              "      <td>P00375436</td>\n",
              "      <td>F</td>\n",
              "      <td>26-35</td>\n",
              "      <td>15</td>\n",
              "      <td>B</td>\n",
              "      <td>4+</td>\n",
              "      <td>1</td>\n",
              "      <td>20</td>\n",
              "      <td>23</td>\n",
              "      <td>137</td>\n",
              "    </tr>\n",
              "    <tr>\n",
              "      <th>550066</th>\n",
              "      <td>1006038</td>\n",
              "      <td>P00375436</td>\n",
              "      <td>F</td>\n",
              "      <td>55+</td>\n",
              "      <td>1</td>\n",
              "      <td>C</td>\n",
              "      <td>2</td>\n",
              "      <td>0</td>\n",
              "      <td>20</td>\n",
              "      <td>22</td>\n",
              "      <td>365</td>\n",
              "    </tr>\n",
              "    <tr>\n",
              "      <th>550067</th>\n",
              "      <td>1006039</td>\n",
              "      <td>P00371644</td>\n",
              "      <td>F</td>\n",
              "      <td>46-50</td>\n",
              "      <td>0</td>\n",
              "      <td>B</td>\n",
              "      <td>4+</td>\n",
              "      <td>1</td>\n",
              "      <td>20</td>\n",
              "      <td>23</td>\n",
              "      <td>490</td>\n",
              "    </tr>\n",
              "  </tbody>\n",
              "</table>\n",
              "<p>550068 rows × 11 columns</p>\n",
              "</div>\n",
              "      <button class=\"colab-df-convert\" onclick=\"convertToInteractive('df-86ecae06-624c-40cf-9ddd-39b499c88b22')\"\n",
              "              title=\"Convert this dataframe to an interactive table.\"\n",
              "              style=\"display:none;\">\n",
              "        \n",
              "  <svg xmlns=\"http://www.w3.org/2000/svg\" height=\"24px\"viewBox=\"0 0 24 24\"\n",
              "       width=\"24px\">\n",
              "    <path d=\"M0 0h24v24H0V0z\" fill=\"none\"/>\n",
              "    <path d=\"M18.56 5.44l.94 2.06.94-2.06 2.06-.94-2.06-.94-.94-2.06-.94 2.06-2.06.94zm-11 1L8.5 8.5l.94-2.06 2.06-.94-2.06-.94L8.5 2.5l-.94 2.06-2.06.94zm10 10l.94 2.06.94-2.06 2.06-.94-2.06-.94-.94-2.06-.94 2.06-2.06.94z\"/><path d=\"M17.41 7.96l-1.37-1.37c-.4-.4-.92-.59-1.43-.59-.52 0-1.04.2-1.43.59L10.3 9.45l-7.72 7.72c-.78.78-.78 2.05 0 2.83L4 21.41c.39.39.9.59 1.41.59.51 0 1.02-.2 1.41-.59l7.78-7.78 2.81-2.81c.8-.78.8-2.07 0-2.86zM5.41 20L4 18.59l7.72-7.72 1.47 1.35L5.41 20z\"/>\n",
              "  </svg>\n",
              "      </button>\n",
              "      \n",
              "  <style>\n",
              "    .colab-df-container {\n",
              "      display:flex;\n",
              "      flex-wrap:wrap;\n",
              "      gap: 12px;\n",
              "    }\n",
              "\n",
              "    .colab-df-convert {\n",
              "      background-color: #E8F0FE;\n",
              "      border: none;\n",
              "      border-radius: 50%;\n",
              "      cursor: pointer;\n",
              "      display: none;\n",
              "      fill: #1967D2;\n",
              "      height: 32px;\n",
              "      padding: 0 0 0 0;\n",
              "      width: 32px;\n",
              "    }\n",
              "\n",
              "    .colab-df-convert:hover {\n",
              "      background-color: #E2EBFA;\n",
              "      box-shadow: 0px 1px 2px rgba(60, 64, 67, 0.3), 0px 1px 3px 1px rgba(60, 64, 67, 0.15);\n",
              "      fill: #174EA6;\n",
              "    }\n",
              "\n",
              "    [theme=dark] .colab-df-convert {\n",
              "      background-color: #3B4455;\n",
              "      fill: #D2E3FC;\n",
              "    }\n",
              "\n",
              "    [theme=dark] .colab-df-convert:hover {\n",
              "      background-color: #434B5C;\n",
              "      box-shadow: 0px 1px 3px 1px rgba(0, 0, 0, 0.15);\n",
              "      filter: drop-shadow(0px 1px 2px rgba(0, 0, 0, 0.3));\n",
              "      fill: #FFFFFF;\n",
              "    }\n",
              "  </style>\n",
              "\n",
              "      <script>\n",
              "        const buttonEl =\n",
              "          document.querySelector('#df-86ecae06-624c-40cf-9ddd-39b499c88b22 button.colab-df-convert');\n",
              "        buttonEl.style.display =\n",
              "          google.colab.kernel.accessAllowed ? 'block' : 'none';\n",
              "\n",
              "        async function convertToInteractive(key) {\n",
              "          const element = document.querySelector('#df-86ecae06-624c-40cf-9ddd-39b499c88b22');\n",
              "          const dataTable =\n",
              "            await google.colab.kernel.invokeFunction('convertToInteractive',\n",
              "                                                     [key], {});\n",
              "          if (!dataTable) return;\n",
              "\n",
              "          const docLinkHtml = 'Like what you see? Visit the ' +\n",
              "            '<a target=\"_blank\" href=https://colab.research.google.com/notebooks/data_table.ipynb>data table notebook</a>'\n",
              "            + ' to learn more about interactive tables.';\n",
              "          element.innerHTML = '';\n",
              "          dataTable['output_type'] = 'display_data';\n",
              "          await google.colab.output.renderOutput(dataTable, element);\n",
              "          const docLink = document.createElement('div');\n",
              "          docLink.innerHTML = docLinkHtml;\n",
              "          element.appendChild(docLink);\n",
              "        }\n",
              "      </script>\n",
              "    </div>\n",
              "  </div>\n",
              "  "
            ]
          },
          "metadata": {},
          "execution_count": 68
        }
      ]
    },
    {
      "cell_type": "code",
      "source": [
        "ds2['Big_Purchase'] = ds2.Purchase>9000\n",
        "ds2 = ds2.astype({\"Big_Purchase\": int})"
      ],
      "metadata": {
        "id": "M8xVdoy9zMKj"
      },
      "execution_count": null,
      "outputs": []
    },
    {
      "cell_type": "code",
      "source": [
        "stringColumns=[\"Gender\",\"Age\",\"City_Category\",\"Stay_In_Current_City_Years\"]\n",
        "for column in stringColumns:\n",
        "  one_hot = pd.get_dummies(ds2[column],prefix=column)\n",
        "  # Drop column B as it is now encoded\n",
        "  ds2 = ds2.drop(column,axis = 1)\n",
        "  # Join the encoded df\n",
        "  ds2 = ds2.join(one_hot)\n",
        "ds2  "
      ],
      "metadata": {
        "id": "R6yVKVYE3h8k",
        "colab": {
          "base_uri": "https://localhost:8080/",
          "height": 488
        },
        "outputId": "1cc98429-6c6e-4411-b8f0-323d5cd4ee0e"
      },
      "execution_count": null,
      "outputs": [
        {
          "output_type": "execute_result",
          "data": {
            "text/plain": [
              "        User_ID Product_ID  Occupation  Marital_Status  Product_Category_1  \\\n",
              "0       1000001  P00069042          10               0                   3   \n",
              "1       1000001  P00248942          10               0                   1   \n",
              "2       1000001  P00087842          10               0                  12   \n",
              "3       1000001  P00085442          10               0                  12   \n",
              "4       1000002  P00285442          16               0                   8   \n",
              "...         ...        ...         ...             ...                 ...   \n",
              "550063  1006033  P00372445          13               1                  20   \n",
              "550064  1006035  P00375436           1               0                  20   \n",
              "550065  1006036  P00375436          15               1                  20   \n",
              "550066  1006038  P00375436           1               0                  20   \n",
              "550067  1006039  P00371644           0               1                  20   \n",
              "\n",
              "        Product_Category_2  Purchase  Big_Purchase  Gender_F  Gender_M  ...  \\\n",
              "0                        8      8370             0         1         0  ...   \n",
              "1                        6     15200             1         1         0  ...   \n",
              "2                       16      1422             0         1         0  ...   \n",
              "3                       14      1057             0         1         0  ...   \n",
              "4                       13      7969             0         0         1  ...   \n",
              "...                    ...       ...           ...       ...       ...  ...   \n",
              "550063                  23       368             0         0         1  ...   \n",
              "550064                  22       371             0         1         0  ...   \n",
              "550065                  23       137             0         1         0  ...   \n",
              "550066                  22       365             0         1         0  ...   \n",
              "550067                  23       490             0         1         0  ...   \n",
              "\n",
              "        Age_51-55  Age_55+  City_Category_A  City_Category_B  City_Category_C  \\\n",
              "0               0        0                1                0                0   \n",
              "1               0        0                1                0                0   \n",
              "2               0        0                1                0                0   \n",
              "3               0        0                1                0                0   \n",
              "4               0        1                0                0                1   \n",
              "...           ...      ...              ...              ...              ...   \n",
              "550063          1        0                0                1                0   \n",
              "550064          0        0                0                0                1   \n",
              "550065          0        0                0                1                0   \n",
              "550066          0        1                0                0                1   \n",
              "550067          0        0                0                1                0   \n",
              "\n",
              "        Stay_In_Current_City_Years_0  Stay_In_Current_City_Years_1  \\\n",
              "0                                  0                             0   \n",
              "1                                  0                             0   \n",
              "2                                  0                             0   \n",
              "3                                  0                             0   \n",
              "4                                  0                             0   \n",
              "...                              ...                           ...   \n",
              "550063                             0                             1   \n",
              "550064                             0                             0   \n",
              "550065                             0                             0   \n",
              "550066                             0                             0   \n",
              "550067                             0                             0   \n",
              "\n",
              "        Stay_In_Current_City_Years_2  Stay_In_Current_City_Years_3  \\\n",
              "0                                  1                             0   \n",
              "1                                  1                             0   \n",
              "2                                  1                             0   \n",
              "3                                  1                             0   \n",
              "4                                  0                             0   \n",
              "...                              ...                           ...   \n",
              "550063                             0                             0   \n",
              "550064                             0                             1   \n",
              "550065                             0                             0   \n",
              "550066                             1                             0   \n",
              "550067                             0                             0   \n",
              "\n",
              "        Stay_In_Current_City_Years_4+  \n",
              "0                                   0  \n",
              "1                                   0  \n",
              "2                                   0  \n",
              "3                                   0  \n",
              "4                                   1  \n",
              "...                               ...  \n",
              "550063                              0  \n",
              "550064                              0  \n",
              "550065                              1  \n",
              "550066                              0  \n",
              "550067                              1  \n",
              "\n",
              "[550068 rows x 25 columns]"
            ],
            "text/html": [
              "\n",
              "  <div id=\"df-de1675fc-7bd8-4e96-8e96-82d99420f78c\">\n",
              "    <div class=\"colab-df-container\">\n",
              "      <div>\n",
              "<style scoped>\n",
              "    .dataframe tbody tr th:only-of-type {\n",
              "        vertical-align: middle;\n",
              "    }\n",
              "\n",
              "    .dataframe tbody tr th {\n",
              "        vertical-align: top;\n",
              "    }\n",
              "\n",
              "    .dataframe thead th {\n",
              "        text-align: right;\n",
              "    }\n",
              "</style>\n",
              "<table border=\"1\" class=\"dataframe\">\n",
              "  <thead>\n",
              "    <tr style=\"text-align: right;\">\n",
              "      <th></th>\n",
              "      <th>User_ID</th>\n",
              "      <th>Product_ID</th>\n",
              "      <th>Occupation</th>\n",
              "      <th>Marital_Status</th>\n",
              "      <th>Product_Category_1</th>\n",
              "      <th>Product_Category_2</th>\n",
              "      <th>Purchase</th>\n",
              "      <th>Big_Purchase</th>\n",
              "      <th>Gender_F</th>\n",
              "      <th>Gender_M</th>\n",
              "      <th>...</th>\n",
              "      <th>Age_51-55</th>\n",
              "      <th>Age_55+</th>\n",
              "      <th>City_Category_A</th>\n",
              "      <th>City_Category_B</th>\n",
              "      <th>City_Category_C</th>\n",
              "      <th>Stay_In_Current_City_Years_0</th>\n",
              "      <th>Stay_In_Current_City_Years_1</th>\n",
              "      <th>Stay_In_Current_City_Years_2</th>\n",
              "      <th>Stay_In_Current_City_Years_3</th>\n",
              "      <th>Stay_In_Current_City_Years_4+</th>\n",
              "    </tr>\n",
              "  </thead>\n",
              "  <tbody>\n",
              "    <tr>\n",
              "      <th>0</th>\n",
              "      <td>1000001</td>\n",
              "      <td>P00069042</td>\n",
              "      <td>10</td>\n",
              "      <td>0</td>\n",
              "      <td>3</td>\n",
              "      <td>8</td>\n",
              "      <td>8370</td>\n",
              "      <td>0</td>\n",
              "      <td>1</td>\n",
              "      <td>0</td>\n",
              "      <td>...</td>\n",
              "      <td>0</td>\n",
              "      <td>0</td>\n",
              "      <td>1</td>\n",
              "      <td>0</td>\n",
              "      <td>0</td>\n",
              "      <td>0</td>\n",
              "      <td>0</td>\n",
              "      <td>1</td>\n",
              "      <td>0</td>\n",
              "      <td>0</td>\n",
              "    </tr>\n",
              "    <tr>\n",
              "      <th>1</th>\n",
              "      <td>1000001</td>\n",
              "      <td>P00248942</td>\n",
              "      <td>10</td>\n",
              "      <td>0</td>\n",
              "      <td>1</td>\n",
              "      <td>6</td>\n",
              "      <td>15200</td>\n",
              "      <td>1</td>\n",
              "      <td>1</td>\n",
              "      <td>0</td>\n",
              "      <td>...</td>\n",
              "      <td>0</td>\n",
              "      <td>0</td>\n",
              "      <td>1</td>\n",
              "      <td>0</td>\n",
              "      <td>0</td>\n",
              "      <td>0</td>\n",
              "      <td>0</td>\n",
              "      <td>1</td>\n",
              "      <td>0</td>\n",
              "      <td>0</td>\n",
              "    </tr>\n",
              "    <tr>\n",
              "      <th>2</th>\n",
              "      <td>1000001</td>\n",
              "      <td>P00087842</td>\n",
              "      <td>10</td>\n",
              "      <td>0</td>\n",
              "      <td>12</td>\n",
              "      <td>16</td>\n",
              "      <td>1422</td>\n",
              "      <td>0</td>\n",
              "      <td>1</td>\n",
              "      <td>0</td>\n",
              "      <td>...</td>\n",
              "      <td>0</td>\n",
              "      <td>0</td>\n",
              "      <td>1</td>\n",
              "      <td>0</td>\n",
              "      <td>0</td>\n",
              "      <td>0</td>\n",
              "      <td>0</td>\n",
              "      <td>1</td>\n",
              "      <td>0</td>\n",
              "      <td>0</td>\n",
              "    </tr>\n",
              "    <tr>\n",
              "      <th>3</th>\n",
              "      <td>1000001</td>\n",
              "      <td>P00085442</td>\n",
              "      <td>10</td>\n",
              "      <td>0</td>\n",
              "      <td>12</td>\n",
              "      <td>14</td>\n",
              "      <td>1057</td>\n",
              "      <td>0</td>\n",
              "      <td>1</td>\n",
              "      <td>0</td>\n",
              "      <td>...</td>\n",
              "      <td>0</td>\n",
              "      <td>0</td>\n",
              "      <td>1</td>\n",
              "      <td>0</td>\n",
              "      <td>0</td>\n",
              "      <td>0</td>\n",
              "      <td>0</td>\n",
              "      <td>1</td>\n",
              "      <td>0</td>\n",
              "      <td>0</td>\n",
              "    </tr>\n",
              "    <tr>\n",
              "      <th>4</th>\n",
              "      <td>1000002</td>\n",
              "      <td>P00285442</td>\n",
              "      <td>16</td>\n",
              "      <td>0</td>\n",
              "      <td>8</td>\n",
              "      <td>13</td>\n",
              "      <td>7969</td>\n",
              "      <td>0</td>\n",
              "      <td>0</td>\n",
              "      <td>1</td>\n",
              "      <td>...</td>\n",
              "      <td>0</td>\n",
              "      <td>1</td>\n",
              "      <td>0</td>\n",
              "      <td>0</td>\n",
              "      <td>1</td>\n",
              "      <td>0</td>\n",
              "      <td>0</td>\n",
              "      <td>0</td>\n",
              "      <td>0</td>\n",
              "      <td>1</td>\n",
              "    </tr>\n",
              "    <tr>\n",
              "      <th>...</th>\n",
              "      <td>...</td>\n",
              "      <td>...</td>\n",
              "      <td>...</td>\n",
              "      <td>...</td>\n",
              "      <td>...</td>\n",
              "      <td>...</td>\n",
              "      <td>...</td>\n",
              "      <td>...</td>\n",
              "      <td>...</td>\n",
              "      <td>...</td>\n",
              "      <td>...</td>\n",
              "      <td>...</td>\n",
              "      <td>...</td>\n",
              "      <td>...</td>\n",
              "      <td>...</td>\n",
              "      <td>...</td>\n",
              "      <td>...</td>\n",
              "      <td>...</td>\n",
              "      <td>...</td>\n",
              "      <td>...</td>\n",
              "      <td>...</td>\n",
              "    </tr>\n",
              "    <tr>\n",
              "      <th>550063</th>\n",
              "      <td>1006033</td>\n",
              "      <td>P00372445</td>\n",
              "      <td>13</td>\n",
              "      <td>1</td>\n",
              "      <td>20</td>\n",
              "      <td>23</td>\n",
              "      <td>368</td>\n",
              "      <td>0</td>\n",
              "      <td>0</td>\n",
              "      <td>1</td>\n",
              "      <td>...</td>\n",
              "      <td>1</td>\n",
              "      <td>0</td>\n",
              "      <td>0</td>\n",
              "      <td>1</td>\n",
              "      <td>0</td>\n",
              "      <td>0</td>\n",
              "      <td>1</td>\n",
              "      <td>0</td>\n",
              "      <td>0</td>\n",
              "      <td>0</td>\n",
              "    </tr>\n",
              "    <tr>\n",
              "      <th>550064</th>\n",
              "      <td>1006035</td>\n",
              "      <td>P00375436</td>\n",
              "      <td>1</td>\n",
              "      <td>0</td>\n",
              "      <td>20</td>\n",
              "      <td>22</td>\n",
              "      <td>371</td>\n",
              "      <td>0</td>\n",
              "      <td>1</td>\n",
              "      <td>0</td>\n",
              "      <td>...</td>\n",
              "      <td>0</td>\n",
              "      <td>0</td>\n",
              "      <td>0</td>\n",
              "      <td>0</td>\n",
              "      <td>1</td>\n",
              "      <td>0</td>\n",
              "      <td>0</td>\n",
              "      <td>0</td>\n",
              "      <td>1</td>\n",
              "      <td>0</td>\n",
              "    </tr>\n",
              "    <tr>\n",
              "      <th>550065</th>\n",
              "      <td>1006036</td>\n",
              "      <td>P00375436</td>\n",
              "      <td>15</td>\n",
              "      <td>1</td>\n",
              "      <td>20</td>\n",
              "      <td>23</td>\n",
              "      <td>137</td>\n",
              "      <td>0</td>\n",
              "      <td>1</td>\n",
              "      <td>0</td>\n",
              "      <td>...</td>\n",
              "      <td>0</td>\n",
              "      <td>0</td>\n",
              "      <td>0</td>\n",
              "      <td>1</td>\n",
              "      <td>0</td>\n",
              "      <td>0</td>\n",
              "      <td>0</td>\n",
              "      <td>0</td>\n",
              "      <td>0</td>\n",
              "      <td>1</td>\n",
              "    </tr>\n",
              "    <tr>\n",
              "      <th>550066</th>\n",
              "      <td>1006038</td>\n",
              "      <td>P00375436</td>\n",
              "      <td>1</td>\n",
              "      <td>0</td>\n",
              "      <td>20</td>\n",
              "      <td>22</td>\n",
              "      <td>365</td>\n",
              "      <td>0</td>\n",
              "      <td>1</td>\n",
              "      <td>0</td>\n",
              "      <td>...</td>\n",
              "      <td>0</td>\n",
              "      <td>1</td>\n",
              "      <td>0</td>\n",
              "      <td>0</td>\n",
              "      <td>1</td>\n",
              "      <td>0</td>\n",
              "      <td>0</td>\n",
              "      <td>1</td>\n",
              "      <td>0</td>\n",
              "      <td>0</td>\n",
              "    </tr>\n",
              "    <tr>\n",
              "      <th>550067</th>\n",
              "      <td>1006039</td>\n",
              "      <td>P00371644</td>\n",
              "      <td>0</td>\n",
              "      <td>1</td>\n",
              "      <td>20</td>\n",
              "      <td>23</td>\n",
              "      <td>490</td>\n",
              "      <td>0</td>\n",
              "      <td>1</td>\n",
              "      <td>0</td>\n",
              "      <td>...</td>\n",
              "      <td>0</td>\n",
              "      <td>0</td>\n",
              "      <td>0</td>\n",
              "      <td>1</td>\n",
              "      <td>0</td>\n",
              "      <td>0</td>\n",
              "      <td>0</td>\n",
              "      <td>0</td>\n",
              "      <td>0</td>\n",
              "      <td>1</td>\n",
              "    </tr>\n",
              "  </tbody>\n",
              "</table>\n",
              "<p>550068 rows × 25 columns</p>\n",
              "</div>\n",
              "      <button class=\"colab-df-convert\" onclick=\"convertToInteractive('df-de1675fc-7bd8-4e96-8e96-82d99420f78c')\"\n",
              "              title=\"Convert this dataframe to an interactive table.\"\n",
              "              style=\"display:none;\">\n",
              "        \n",
              "  <svg xmlns=\"http://www.w3.org/2000/svg\" height=\"24px\"viewBox=\"0 0 24 24\"\n",
              "       width=\"24px\">\n",
              "    <path d=\"M0 0h24v24H0V0z\" fill=\"none\"/>\n",
              "    <path d=\"M18.56 5.44l.94 2.06.94-2.06 2.06-.94-2.06-.94-.94-2.06-.94 2.06-2.06.94zm-11 1L8.5 8.5l.94-2.06 2.06-.94-2.06-.94L8.5 2.5l-.94 2.06-2.06.94zm10 10l.94 2.06.94-2.06 2.06-.94-2.06-.94-.94-2.06-.94 2.06-2.06.94z\"/><path d=\"M17.41 7.96l-1.37-1.37c-.4-.4-.92-.59-1.43-.59-.52 0-1.04.2-1.43.59L10.3 9.45l-7.72 7.72c-.78.78-.78 2.05 0 2.83L4 21.41c.39.39.9.59 1.41.59.51 0 1.02-.2 1.41-.59l7.78-7.78 2.81-2.81c.8-.78.8-2.07 0-2.86zM5.41 20L4 18.59l7.72-7.72 1.47 1.35L5.41 20z\"/>\n",
              "  </svg>\n",
              "      </button>\n",
              "      \n",
              "  <style>\n",
              "    .colab-df-container {\n",
              "      display:flex;\n",
              "      flex-wrap:wrap;\n",
              "      gap: 12px;\n",
              "    }\n",
              "\n",
              "    .colab-df-convert {\n",
              "      background-color: #E8F0FE;\n",
              "      border: none;\n",
              "      border-radius: 50%;\n",
              "      cursor: pointer;\n",
              "      display: none;\n",
              "      fill: #1967D2;\n",
              "      height: 32px;\n",
              "      padding: 0 0 0 0;\n",
              "      width: 32px;\n",
              "    }\n",
              "\n",
              "    .colab-df-convert:hover {\n",
              "      background-color: #E2EBFA;\n",
              "      box-shadow: 0px 1px 2px rgba(60, 64, 67, 0.3), 0px 1px 3px 1px rgba(60, 64, 67, 0.15);\n",
              "      fill: #174EA6;\n",
              "    }\n",
              "\n",
              "    [theme=dark] .colab-df-convert {\n",
              "      background-color: #3B4455;\n",
              "      fill: #D2E3FC;\n",
              "    }\n",
              "\n",
              "    [theme=dark] .colab-df-convert:hover {\n",
              "      background-color: #434B5C;\n",
              "      box-shadow: 0px 1px 3px 1px rgba(0, 0, 0, 0.15);\n",
              "      filter: drop-shadow(0px 1px 2px rgba(0, 0, 0, 0.3));\n",
              "      fill: #FFFFFF;\n",
              "    }\n",
              "  </style>\n",
              "\n",
              "      <script>\n",
              "        const buttonEl =\n",
              "          document.querySelector('#df-de1675fc-7bd8-4e96-8e96-82d99420f78c button.colab-df-convert');\n",
              "        buttonEl.style.display =\n",
              "          google.colab.kernel.accessAllowed ? 'block' : 'none';\n",
              "\n",
              "        async function convertToInteractive(key) {\n",
              "          const element = document.querySelector('#df-de1675fc-7bd8-4e96-8e96-82d99420f78c');\n",
              "          const dataTable =\n",
              "            await google.colab.kernel.invokeFunction('convertToInteractive',\n",
              "                                                     [key], {});\n",
              "          if (!dataTable) return;\n",
              "\n",
              "          const docLinkHtml = 'Like what you see? Visit the ' +\n",
              "            '<a target=\"_blank\" href=https://colab.research.google.com/notebooks/data_table.ipynb>data table notebook</a>'\n",
              "            + ' to learn more about interactive tables.';\n",
              "          element.innerHTML = '';\n",
              "          dataTable['output_type'] = 'display_data';\n",
              "          await google.colab.output.renderOutput(dataTable, element);\n",
              "          const docLink = document.createElement('div');\n",
              "          docLink.innerHTML = docLinkHtml;\n",
              "          element.appendChild(docLink);\n",
              "        }\n",
              "      </script>\n",
              "    </div>\n",
              "  </div>\n",
              "  "
            ]
          },
          "metadata": {},
          "execution_count": 70
        }
      ]
    },
    {
      "cell_type": "markdown",
      "source": [
        "## A\n",
        "Entrenar un modelo de deep learning que no utilice embeddings"
      ],
      "metadata": {
        "id": "OR3u2lkgq4VA"
      }
    },
    {
      "cell_type": "code",
      "source": [
        "ds2=ds2.drop(columns=[\"Purchase\"])\n",
        "ds3=ds2.copy()\n",
        "ds3=ds3.drop(columns=[\"User_ID\",\"Product_ID\"])"
      ],
      "metadata": {
        "id": "MryxVe_o5W5M"
      },
      "execution_count": null,
      "outputs": []
    },
    {
      "cell_type": "code",
      "source": [
        "random_state=25"
      ],
      "metadata": {
        "id": "XTlzOM1Q65aD"
      },
      "execution_count": null,
      "outputs": []
    },
    {
      "cell_type": "code",
      "source": [
        "X=ds3.drop(columns=[\"Big_Purchase\"])\n",
        "Y=ds3[[\"Big_Purchase\"]]\n",
        "X_train, X_test, Y_train, Y_test = train_test_split(X, Y, train_size=0.70, random_state=random_state)\n",
        "X_train=np.array(X_train)\n",
        "X_test=np.array(X_test)\n",
        "Y_train=np.array(Y_train)\n",
        "Y_test=np.array(Y_test)"
      ],
      "metadata": {
        "id": "HDKwrx54qIT2"
      },
      "execution_count": null,
      "outputs": []
    },
    {
      "cell_type": "code",
      "source": [
        "scaler = StandardScaler()\n",
        "X_train=scaler.fit_transform(X_train)"
      ],
      "metadata": {
        "id": "swxGwcyjsfjd"
      },
      "execution_count": null,
      "outputs": []
    },
    {
      "cell_type": "code",
      "source": [
        "X_test=scaler.transform(X_test)"
      ],
      "metadata": {
        "id": "5tWDk_evsgAf"
      },
      "execution_count": null,
      "outputs": []
    },
    {
      "cell_type": "code",
      "source": [
        "print(X_train.shape)\n",
        "print(Y_train.shape)\n",
        "print(X_test.shape)\n",
        "print(Y_test.shape)"
      ],
      "metadata": {
        "id": "f6HZWtrD5ine",
        "colab": {
          "base_uri": "https://localhost:8080/"
        },
        "outputId": "a3df8b34-4540-4cf7-dbdd-33d89fe7e3a1"
      },
      "execution_count": null,
      "outputs": [
        {
          "output_type": "stream",
          "name": "stdout",
          "text": [
            "(385047, 21)\n",
            "(385047, 1)\n",
            "(165021, 21)\n",
            "(165021, 1)\n"
          ]
        }
      ]
    },
    {
      "cell_type": "code",
      "source": [
        "train_dataset_fulll = TensorDataset( Tensor(X_train), Tensor(Y_train) )\n",
        "test_dataset_fulll = TensorDataset( Tensor(X_test), Tensor(Y_test) )\n",
        "dataloader = {\n",
        "    'train': torch.utils.data.DataLoader(train_dataset_fulll, batch_size=64, shuffle=True, pin_memory=True),\n",
        "    'test': torch.utils.data.DataLoader(test_dataset_fulll, batch_size=64, shuffle=False, pin_memory=True)\n",
        "}"
      ],
      "metadata": {
        "id": "HPp_XKvqqStn"
      },
      "execution_count": null,
      "outputs": []
    },
    {
      "cell_type": "code",
      "source": [
        "class Net(nn.Module):\n",
        "\n",
        "    def __init__(self):\n",
        "        super(Net, self).__init__()\n",
        "        self.fc1 = nn.Linear(21, 15) \n",
        "        self.fc2 = nn.Linear(15, 10)\n",
        "        self.fc3 = nn.Linear(10, 1)\n",
        "\n",
        "    def forward(self, x):\n",
        "        x = F.relu(self.fc1(x))\n",
        "        x = F.relu(self.fc2(x))\n",
        "        x = F.sigmoid(self.fc3(x))\n",
        "        return x\n",
        "\n",
        "\n",
        "\n"
      ],
      "metadata": {
        "id": "2Dvl7d4FqbwP"
      },
      "execution_count": null,
      "outputs": []
    },
    {
      "cell_type": "code",
      "source": [
        "def fit(model, dataloader,criterion,optimizer, epochs=5):\n",
        "    model.to(device)\n",
        "    losses = []\n",
        "    val_losses = []\n",
        "    for epoch in range(1, epochs+1):\n",
        "        model.train()\n",
        "        train_loss, train_acc = [], []\n",
        "        bar = tqdm(dataloader['train'])\n",
        "        for batch in bar:\n",
        "            X, y = batch\n",
        "            #X = X.float()\n",
        "            X, y = X.to(device), y.to(device)\n",
        "            optimizer.zero_grad()\n",
        "            y_hat = model(X)\n",
        "            loss = criterion(y_hat, y)\n",
        "            loss.backward()\n",
        "            optimizer.step()\n",
        "            train_loss.append(loss.item())\n",
        "            ####\n",
        "            #acc = (y == torch.argmax(y_hat, axis=1)).sum().item() / len(y)\n",
        "            acc = (len(y) - (y - y_hat.abs()).abs().sum().item()) / len(y)\n",
        "            train_acc.append(acc)\n",
        "            bar.set_description(f\"loss {np.mean(train_loss):.5f} acc {np.mean(train_acc):.5f}\")\n",
        "        bar = tqdm(dataloader['test'])\n",
        "        val_loss, val_acc = [], []\n",
        "        model.eval()\n",
        "        with torch.no_grad():\n",
        "            for batch in bar:\n",
        "                X, y = batch\n",
        "                #X = X.float()\n",
        "                X, y = X.to(device), y.to(device)\n",
        "                y_hat = model(X)\n",
        "                loss = criterion(y_hat, y)\n",
        "                val_loss.append(loss.item())\n",
        "                acc = (len(y) - (y - y_hat.abs()).abs().sum().item()) / len(y)\n",
        "                #acc = (y == torch.argmax(y_hat, axis=1)).sum().item() / len(y)\n",
        "                val_acc.append(acc)\n",
        "                bar.set_description(f\"val_loss {np.mean(val_loss):.5f} val_acc {np.mean(val_acc):.5f}\")\n",
        "         # early stopping\n",
        "        #if early_stopping(train_loss[-1], val_loss[-1], min_delta=10, tolerance = 20):\n",
        "        #  print(\"We are at epoch:\", epoch)\n",
        "        #  break\n",
        "        losses.append(np.mean(train_loss))\n",
        "        val_losses.append(np.mean(val_loss))\n",
        "        print(f\"Epoch {epoch}/{epochs} loss {np.mean(train_loss):.5f} val_loss {np.mean(val_loss):.5f} acc {np.mean(train_acc):.5f} val_acc {np.mean(val_acc)}:.5f\")\n",
        "    return losses,val_losses"
      ],
      "metadata": {
        "id": "nv9nrkXIqiNU"
      },
      "execution_count": null,
      "outputs": []
    },
    {
      "cell_type": "code",
      "source": [
        "net=Net()\n",
        "optimizer = torch.optim.Adam(net.parameters(), lr=1e-3)\n",
        "criterion = torch.nn.BCELoss()"
      ],
      "metadata": {
        "id": "aLNvtUiV51mX"
      },
      "execution_count": null,
      "outputs": []
    },
    {
      "cell_type": "code",
      "source": [
        "losses,val_losses=fit(net, dataloader,criterion,optimizer, epochs=20)"
      ],
      "metadata": {
        "id": "5THDs3nSq24Q",
        "colab": {
          "base_uri": "https://localhost:8080/"
        },
        "outputId": "e0524a7f-a956-4336-fcdc-bba2c16e923f"
      },
      "execution_count": null,
      "outputs": [
        {
          "output_type": "stream",
          "name": "stderr",
          "text": [
            "  0%|          | 0/6017 [00:00<?, ?it/s]/usr/local/lib/python3.7/dist-packages/torch/nn/functional.py:1960: UserWarning: nn.functional.sigmoid is deprecated. Use torch.sigmoid instead.\n",
            "  warnings.warn(\"nn.functional.sigmoid is deprecated. Use torch.sigmoid instead.\")\n",
            "loss 0.48335 acc 0.68049: 100%|██████████| 6017/6017 [00:43<00:00, 139.20it/s]\n",
            "val_loss 0.43031 val_acc 0.70731: 100%|██████████| 2579/2579 [00:11<00:00, 222.96it/s]\n"
          ]
        },
        {
          "output_type": "stream",
          "name": "stdout",
          "text": [
            "Epoch 1/20 loss 0.48335 val_loss 0.43031 acc 0.68049 val_acc 0.7073059681317297:.5f\n"
          ]
        },
        {
          "output_type": "stream",
          "name": "stderr",
          "text": [
            "loss 0.40857 acc 0.72362: 100%|██████████| 6017/6017 [00:43<00:00, 139.38it/s]\n",
            "val_loss 0.39400 val_acc 0.73512: 100%|██████████| 2579/2579 [00:12<00:00, 206.98it/s]\n"
          ]
        },
        {
          "output_type": "stream",
          "name": "stdout",
          "text": [
            "Epoch 2/20 loss 0.40857 val_loss 0.39400 acc 0.72362 val_acc 0.7351244420446332:.5f\n"
          ]
        },
        {
          "output_type": "stream",
          "name": "stderr",
          "text": [
            "loss 0.38983 acc 0.73775: 100%|██████████| 6017/6017 [00:43<00:00, 139.84it/s]\n",
            "val_loss 0.38288 val_acc 0.74640: 100%|██████████| 2579/2579 [00:11<00:00, 225.55it/s]\n"
          ]
        },
        {
          "output_type": "stream",
          "name": "stdout",
          "text": [
            "Epoch 3/20 loss 0.38983 val_loss 0.38288 acc 0.73775 val_acc 0.7463993701287723:.5f\n"
          ]
        },
        {
          "output_type": "stream",
          "name": "stderr",
          "text": [
            "loss 0.38149 acc 0.74505: 100%|██████████| 6017/6017 [00:43<00:00, 138.77it/s]\n",
            "val_loss 0.37927 val_acc 0.74765: 100%|██████████| 2579/2579 [00:12<00:00, 208.48it/s]\n"
          ]
        },
        {
          "output_type": "stream",
          "name": "stdout",
          "text": [
            "Epoch 4/20 loss 0.38149 val_loss 0.37927 acc 0.74505 val_acc 0.7476507775358302:.5f\n"
          ]
        },
        {
          "output_type": "stream",
          "name": "stderr",
          "text": [
            "loss 0.37543 acc 0.75091: 100%|██████████| 6017/6017 [00:42<00:00, 140.99it/s]\n",
            "val_loss 0.37802 val_acc 0.76507: 100%|██████████| 2579/2579 [00:11<00:00, 220.99it/s]\n"
          ]
        },
        {
          "output_type": "stream",
          "name": "stdout",
          "text": [
            "Epoch 5/20 loss 0.37543 val_loss 0.37802 acc 0.75091 val_acc 0.7650672660972231:.5f\n"
          ]
        },
        {
          "output_type": "stream",
          "name": "stderr",
          "text": [
            "loss 0.37331 acc 0.75349: 100%|██████████| 6017/6017 [00:42<00:00, 141.77it/s]\n",
            "val_loss 0.36985 val_acc 0.75710: 100%|██████████| 2579/2579 [00:11<00:00, 233.08it/s]\n"
          ]
        },
        {
          "output_type": "stream",
          "name": "stdout",
          "text": [
            "Epoch 6/20 loss 0.37331 val_loss 0.36985 acc 0.75349 val_acc 0.757099241315657:.5f\n"
          ]
        },
        {
          "output_type": "stream",
          "name": "stderr",
          "text": [
            "loss 0.37153 acc 0.75518: 100%|██████████| 6017/6017 [00:43<00:00, 139.56it/s]\n",
            "val_loss 0.37085 val_acc 0.74899: 100%|██████████| 2579/2579 [00:11<00:00, 229.83it/s]\n"
          ]
        },
        {
          "output_type": "stream",
          "name": "stdout",
          "text": [
            "Epoch 7/20 loss 0.37153 val_loss 0.37085 acc 0.75518 val_acc 0.7489928034373555:.5f\n"
          ]
        },
        {
          "output_type": "stream",
          "name": "stderr",
          "text": [
            "loss 0.37062 acc 0.75643: 100%|██████████| 6017/6017 [00:42<00:00, 140.83it/s]\n",
            "val_loss 0.37018 val_acc 0.75620: 100%|██████████| 2579/2579 [00:10<00:00, 235.80it/s]\n"
          ]
        },
        {
          "output_type": "stream",
          "name": "stdout",
          "text": [
            "Epoch 8/20 loss 0.37062 val_loss 0.37018 acc 0.75643 val_acc 0.75619505621536:.5f\n"
          ]
        },
        {
          "output_type": "stream",
          "name": "stderr",
          "text": [
            "loss 0.36950 acc 0.75727: 100%|██████████| 6017/6017 [00:42<00:00, 140.80it/s]\n",
            "val_loss 0.36742 val_acc 0.76330: 100%|██████████| 2579/2579 [00:11<00:00, 227.66it/s]\n"
          ]
        },
        {
          "output_type": "stream",
          "name": "stdout",
          "text": [
            "Epoch 9/20 loss 0.36950 val_loss 0.36742 acc 0.75727 val_acc 0.7633029444546408:.5f\n"
          ]
        },
        {
          "output_type": "stream",
          "name": "stderr",
          "text": [
            "loss 0.36898 acc 0.75800: 100%|██████████| 6017/6017 [00:42<00:00, 139.95it/s]\n",
            "val_loss 0.36715 val_acc 0.75875: 100%|██████████| 2579/2579 [00:11<00:00, 224.65it/s]\n"
          ]
        },
        {
          "output_type": "stream",
          "name": "stdout",
          "text": [
            "Epoch 10/20 loss 0.36898 val_loss 0.36715 acc 0.75800 val_acc 0.7587536321350868:.5f\n"
          ]
        },
        {
          "output_type": "stream",
          "name": "stderr",
          "text": [
            "loss 0.36794 acc 0.75889: 100%|██████████| 6017/6017 [00:42<00:00, 140.26it/s]\n",
            "val_loss 0.36646 val_acc 0.75636: 100%|██████████| 2579/2579 [00:11<00:00, 226.04it/s]\n"
          ]
        },
        {
          "output_type": "stream",
          "name": "stdout",
          "text": [
            "Epoch 11/20 loss 0.36794 val_loss 0.36646 acc 0.75889 val_acc 0.75636003940026:.5f\n"
          ]
        },
        {
          "output_type": "stream",
          "name": "stderr",
          "text": [
            "loss 0.36710 acc 0.75992: 100%|██████████| 6017/6017 [00:42<00:00, 142.13it/s]\n",
            "val_loss 0.36522 val_acc 0.75743: 100%|██████████| 2579/2579 [00:11<00:00, 229.43it/s]\n"
          ]
        },
        {
          "output_type": "stream",
          "name": "stdout",
          "text": [
            "Epoch 12/20 loss 0.36710 val_loss 0.36522 acc 0.75992 val_acc 0.757432362237433:.5f\n"
          ]
        },
        {
          "output_type": "stream",
          "name": "stderr",
          "text": [
            "loss 0.36638 acc 0.76062: 100%|██████████| 6017/6017 [00:42<00:00, 142.28it/s]\n",
            "val_loss 0.36984 val_acc 0.77249: 100%|██████████| 2579/2579 [00:10<00:00, 236.99it/s]\n"
          ]
        },
        {
          "output_type": "stream",
          "name": "stdout",
          "text": [
            "Epoch 13/20 loss 0.36638 val_loss 0.36984 acc 0.76062 val_acc 0.7724897155411412:.5f\n"
          ]
        },
        {
          "output_type": "stream",
          "name": "stderr",
          "text": [
            "loss 0.36578 acc 0.76127: 100%|██████████| 6017/6017 [00:42<00:00, 141.75it/s]\n",
            "val_loss 0.36418 val_acc 0.76204: 100%|██████████| 2579/2579 [00:10<00:00, 234.94it/s]\n"
          ]
        },
        {
          "output_type": "stream",
          "name": "stdout",
          "text": [
            "Epoch 14/20 loss 0.36578 val_loss 0.36418 acc 0.76127 val_acc 0.762040339979825:.5f\n"
          ]
        },
        {
          "output_type": "stream",
          "name": "stderr",
          "text": [
            "loss 0.36498 acc 0.76185: 100%|██████████| 6017/6017 [00:42<00:00, 141.38it/s]\n",
            "val_loss 0.36386 val_acc 0.76287: 100%|██████████| 2579/2579 [00:11<00:00, 224.51it/s]\n"
          ]
        },
        {
          "output_type": "stream",
          "name": "stdout",
          "text": [
            "Epoch 15/20 loss 0.36498 val_loss 0.36386 acc 0.76185 val_acc 0.7628715552780226:.5f\n"
          ]
        },
        {
          "output_type": "stream",
          "name": "stderr",
          "text": [
            "loss 0.36446 acc 0.76233: 100%|██████████| 6017/6017 [00:42<00:00, 142.91it/s]\n",
            "val_loss 0.36335 val_acc 0.76585: 100%|██████████| 2579/2579 [00:10<00:00, 236.39it/s]\n"
          ]
        },
        {
          "output_type": "stream",
          "name": "stdout",
          "text": [
            "Epoch 16/20 loss 0.36446 val_loss 0.36335 acc 0.76233 val_acc 0.7658514718503033:.5f\n"
          ]
        },
        {
          "output_type": "stream",
          "name": "stderr",
          "text": [
            "loss 0.36410 acc 0.76278: 100%|██████████| 6017/6017 [00:42<00:00, 140.43it/s]\n",
            "val_loss 0.36320 val_acc 0.75786: 100%|██████████| 2579/2579 [00:11<00:00, 227.88it/s]\n"
          ]
        },
        {
          "output_type": "stream",
          "name": "stdout",
          "text": [
            "Epoch 17/20 loss 0.36410 val_loss 0.36320 acc 0.76278 val_acc 0.7578606456892739:.5f\n"
          ]
        },
        {
          "output_type": "stream",
          "name": "stderr",
          "text": [
            "loss 0.36378 acc 0.76305: 100%|██████████| 6017/6017 [00:43<00:00, 139.39it/s]\n",
            "val_loss 0.36593 val_acc 0.76350: 100%|██████████| 2579/2579 [00:11<00:00, 218.34it/s]\n"
          ]
        },
        {
          "output_type": "stream",
          "name": "stdout",
          "text": [
            "Epoch 18/20 loss 0.36378 val_loss 0.36593 acc 0.76305 val_acc 0.7635016375373741:.5f\n"
          ]
        },
        {
          "output_type": "stream",
          "name": "stderr",
          "text": [
            "loss 0.36322 acc 0.76350: 100%|██████████| 6017/6017 [00:42<00:00, 140.21it/s]\n",
            "val_loss 0.36202 val_acc 0.76486: 100%|██████████| 2579/2579 [00:11<00:00, 234.25it/s]\n"
          ]
        },
        {
          "output_type": "stream",
          "name": "stdout",
          "text": [
            "Epoch 19/20 loss 0.36322 val_loss 0.36202 acc 0.76350 val_acc 0.7648600086686739:.5f\n"
          ]
        },
        {
          "output_type": "stream",
          "name": "stderr",
          "text": [
            "loss 0.36290 acc 0.76384: 100%|██████████| 6017/6017 [00:43<00:00, 139.41it/s]\n",
            "val_loss 0.36267 val_acc 0.76812: 100%|██████████| 2579/2579 [00:11<00:00, 228.67it/s]"
          ]
        },
        {
          "output_type": "stream",
          "name": "stdout",
          "text": [
            "Epoch 20/20 loss 0.36290 val_loss 0.36267 acc 0.76384 val_acc 0.7681151227292985:.5f\n"
          ]
        },
        {
          "output_type": "stream",
          "name": "stderr",
          "text": [
            "\n"
          ]
        }
      ]
    },
    {
      "cell_type": "code",
      "source": [
        "plt.figure(figsize=(16,8))\n",
        "plt.plot(losses, label='Train')\n",
        "plt.plot(val_losses, label='Val')\n",
        "plt.xlabel(\"Epochs\")\n",
        "plt.ylabel(\"Training MSE\")\n",
        "plt.legend()\n",
        "plt.show()"
      ],
      "metadata": {
        "id": "N0e9nCnIQgY8",
        "colab": {
          "base_uri": "https://localhost:8080/",
          "height": 497
        },
        "outputId": "cb0dfcd2-1a53-420d-d6f4-f1127af7c34d"
      },
      "execution_count": null,
      "outputs": [
        {
          "output_type": "display_data",
          "data": {
            "text/plain": [
              "<Figure size 1152x576 with 1 Axes>"
            ],
            "image/png": "[encoded data removed]"
          },
          "metadata": {
            "needs_background": "light"
          }
        }
      ]
    },
    {
      "cell_type": "code",
      "source": [
        "losses_noEMB=np.copy(losses)\n",
        "\n",
        "\n",
        "val_losses_noEMB=np.copy(val_losses)\n",
        "\n",
        "net_noEMB=net"
      ],
      "metadata": {
        "id": "gUC2tfEdo6Rx"
      },
      "execution_count": null,
      "outputs": []
    },
    {
      "cell_type": "markdown",
      "source": [
        "## B\n",
        "Entrenar un modelo de deep learning que utilice embeddings tanto para los productos como los usuarios. Realizar el mapeo de identificador de producto y usuarios a indices antes de separar el dataset en training, validation y testing"
      ],
      "metadata": {
        "id": "ejyFJZCMRGqg"
      }
    },
    {
      "cell_type": "code",
      "source": [
        "ds2"
      ],
      "metadata": {
        "id": "NEhIXc_lDDr3",
        "colab": {
          "base_uri": "https://localhost:8080/",
          "height": 488
        },
        "outputId": "a3ea2911-5005-467a-efc5-547afa444cd3"
      },
      "execution_count": null,
      "outputs": [
        {
          "output_type": "execute_result",
          "data": {
            "text/plain": [
              "        User_ID Product_ID  Occupation  Marital_Status  Product_Category_1  \\\n",
              "0       1000001  P00069042          10               0                   3   \n",
              "1       1000001  P00248942          10               0                   1   \n",
              "2       1000001  P00087842          10               0                  12   \n",
              "3       1000001  P00085442          10               0                  12   \n",
              "4       1000002  P00285442          16               0                   8   \n",
              "...         ...        ...         ...             ...                 ...   \n",
              "550063  1006033  P00372445          13               1                  20   \n",
              "550064  1006035  P00375436           1               0                  20   \n",
              "550065  1006036  P00375436          15               1                  20   \n",
              "550066  1006038  P00375436           1               0                  20   \n",
              "550067  1006039  P00371644           0               1                  20   \n",
              "\n",
              "        Product_Category_2  Big_Purchase  Gender_F  Gender_M  Age_0-17  ...  \\\n",
              "0                        8             0         1         0         1  ...   \n",
              "1                        6             1         1         0         1  ...   \n",
              "2                       16             0         1         0         1  ...   \n",
              "3                       14             0         1         0         1  ...   \n",
              "4                       13             0         0         1         0  ...   \n",
              "...                    ...           ...       ...       ...       ...  ...   \n",
              "550063                  23             0         0         1         0  ...   \n",
              "550064                  22             0         1         0         0  ...   \n",
              "550065                  23             0         1         0         0  ...   \n",
              "550066                  22             0         1         0         0  ...   \n",
              "550067                  23             0         1         0         0  ...   \n",
              "\n",
              "        Age_51-55  Age_55+  City_Category_A  City_Category_B  City_Category_C  \\\n",
              "0               0        0                1                0                0   \n",
              "1               0        0                1                0                0   \n",
              "2               0        0                1                0                0   \n",
              "3               0        0                1                0                0   \n",
              "4               0        1                0                0                1   \n",
              "...           ...      ...              ...              ...              ...   \n",
              "550063          1        0                0                1                0   \n",
              "550064          0        0                0                0                1   \n",
              "550065          0        0                0                1                0   \n",
              "550066          0        1                0                0                1   \n",
              "550067          0        0                0                1                0   \n",
              "\n",
              "        Stay_In_Current_City_Years_0  Stay_In_Current_City_Years_1  \\\n",
              "0                                  0                             0   \n",
              "1                                  0                             0   \n",
              "2                                  0                             0   \n",
              "3                                  0                             0   \n",
              "4                                  0                             0   \n",
              "...                              ...                           ...   \n",
              "550063                             0                             1   \n",
              "550064                             0                             0   \n",
              "550065                             0                             0   \n",
              "550066                             0                             0   \n",
              "550067                             0                             0   \n",
              "\n",
              "        Stay_In_Current_City_Years_2  Stay_In_Current_City_Years_3  \\\n",
              "0                                  1                             0   \n",
              "1                                  1                             0   \n",
              "2                                  1                             0   \n",
              "3                                  1                             0   \n",
              "4                                  0                             0   \n",
              "...                              ...                           ...   \n",
              "550063                             0                             0   \n",
              "550064                             0                             1   \n",
              "550065                             0                             0   \n",
              "550066                             1                             0   \n",
              "550067                             0                             0   \n",
              "\n",
              "        Stay_In_Current_City_Years_4+  \n",
              "0                                   0  \n",
              "1                                   0  \n",
              "2                                   0  \n",
              "3                                   0  \n",
              "4                                   1  \n",
              "...                               ...  \n",
              "550063                              0  \n",
              "550064                              0  \n",
              "550065                              1  \n",
              "550066                              0  \n",
              "550067                              1  \n",
              "\n",
              "[550068 rows x 24 columns]"
            ],
            "text/html": [
              "\n",
              "  <div id=\"df-9029636c-c826-4f08-9361-608140ef4252\">\n",
              "    <div class=\"colab-df-container\">\n",
              "      <div>\n",
              "<style scoped>\n",
              "    .dataframe tbody tr th:only-of-type {\n",
              "        vertical-align: middle;\n",
              "    }\n",
              "\n",
              "    .dataframe tbody tr th {\n",
              "        vertical-align: top;\n",
              "    }\n",
              "\n",
              "    .dataframe thead th {\n",
              "        text-align: right;\n",
              "    }\n",
              "</style>\n",
              "<table border=\"1\" class=\"dataframe\">\n",
              "  <thead>\n",
              "    <tr style=\"text-align: right;\">\n",
              "      <th></th>\n",
              "      <th>User_ID</th>\n",
              "      <th>Product_ID</th>\n",
              "      <th>Occupation</th>\n",
              "      <th>Marital_Status</th>\n",
              "      <th>Product_Category_1</th>\n",
              "      <th>Product_Category_2</th>\n",
              "      <th>Big_Purchase</th>\n",
              "      <th>Gender_F</th>\n",
              "      <th>Gender_M</th>\n",
              "      <th>Age_0-17</th>\n",
              "      <th>...</th>\n",
              "      <th>Age_51-55</th>\n",
              "      <th>Age_55+</th>\n",
              "      <th>City_Category_A</th>\n",
              "      <th>City_Category_B</th>\n",
              "      <th>City_Category_C</th>\n",
              "      <th>Stay_In_Current_City_Years_0</th>\n",
              "      <th>Stay_In_Current_City_Years_1</th>\n",
              "      <th>Stay_In_Current_City_Years_2</th>\n",
              "      <th>Stay_In_Current_City_Years_3</th>\n",
              "      <th>Stay_In_Current_City_Years_4+</th>\n",
              "    </tr>\n",
              "  </thead>\n",
              "  <tbody>\n",
              "    <tr>\n",
              "      <th>0</th>\n",
              "      <td>1000001</td>\n",
              "      <td>P00069042</td>\n",
              "      <td>10</td>\n",
              "      <td>0</td>\n",
              "      <td>3</td>\n",
              "      <td>8</td>\n",
              "      <td>0</td>\n",
              "      <td>1</td>\n",
              "      <td>0</td>\n",
              "      <td>1</td>\n",
              "      <td>...</td>\n",
              "      <td>0</td>\n",
              "      <td>0</td>\n",
              "      <td>1</td>\n",
              "      <td>0</td>\n",
              "      <td>0</td>\n",
              "      <td>0</td>\n",
              "      <td>0</td>\n",
              "      <td>1</td>\n",
              "      <td>0</td>\n",
              "      <td>0</td>\n",
              "    </tr>\n",
              "    <tr>\n",
              "      <th>1</th>\n",
              "      <td>1000001</td>\n",
              "      <td>P00248942</td>\n",
              "      <td>10</td>\n",
              "      <td>0</td>\n",
              "      <td>1</td>\n",
              "      <td>6</td>\n",
              "      <td>1</td>\n",
              "      <td>1</td>\n",
              "      <td>0</td>\n",
              "      <td>1</td>\n",
              "      <td>...</td>\n",
              "      <td>0</td>\n",
              "      <td>0</td>\n",
              "      <td>1</td>\n",
              "      <td>0</td>\n",
              "      <td>0</td>\n",
              "      <td>0</td>\n",
              "      <td>0</td>\n",
              "      <td>1</td>\n",
              "      <td>0</td>\n",
              "      <td>0</td>\n",
              "    </tr>\n",
              "    <tr>\n",
              "      <th>2</th>\n",
              "      <td>1000001</td>\n",
              "      <td>P00087842</td>\n",
              "      <td>10</td>\n",
              "      <td>0</td>\n",
              "      <td>12</td>\n",
              "      <td>16</td>\n",
              "      <td>0</td>\n",
              "      <td>1</td>\n",
              "      <td>0</td>\n",
              "      <td>1</td>\n",
              "      <td>...</td>\n",
              "      <td>0</td>\n",
              "      <td>0</td>\n",
              "      <td>1</td>\n",
              "      <td>0</td>\n",
              "      <td>0</td>\n",
              "      <td>0</td>\n",
              "      <td>0</td>\n",
              "      <td>1</td>\n",
              "      <td>0</td>\n",
              "      <td>0</td>\n",
              "    </tr>\n",
              "    <tr>\n",
              "      <th>3</th>\n",
              "      <td>1000001</td>\n",
              "      <td>P00085442</td>\n",
              "      <td>10</td>\n",
              "      <td>0</td>\n",
              "      <td>12</td>\n",
              "      <td>14</td>\n",
              "      <td>0</td>\n",
              "      <td>1</td>\n",
              "      <td>0</td>\n",
              "      <td>1</td>\n",
              "      <td>...</td>\n",
              "      <td>0</td>\n",
              "      <td>0</td>\n",
              "      <td>1</td>\n",
              "      <td>0</td>\n",
              "      <td>0</td>\n",
              "      <td>0</td>\n",
              "      <td>0</td>\n",
              "      <td>1</td>\n",
              "      <td>0</td>\n",
              "      <td>0</td>\n",
              "    </tr>\n",
              "    <tr>\n",
              "      <th>4</th>\n",
              "      <td>1000002</td>\n",
              "      <td>P00285442</td>\n",
              "      <td>16</td>\n",
              "      <td>0</td>\n",
              "      <td>8</td>\n",
              "      <td>13</td>\n",
              "      <td>0</td>\n",
              "      <td>0</td>\n",
              "      <td>1</td>\n",
              "      <td>0</td>\n",
              "      <td>...</td>\n",
              "      <td>0</td>\n",
              "      <td>1</td>\n",
              "      <td>0</td>\n",
              "      <td>0</td>\n",
              "      <td>1</td>\n",
              "      <td>0</td>\n",
              "      <td>0</td>\n",
              "      <td>0</td>\n",
              "      <td>0</td>\n",
              "      <td>1</td>\n",
              "    </tr>\n",
              "    <tr>\n",
              "      <th>...</th>\n",
              "      <td>...</td>\n",
              "      <td>...</td>\n",
              "      <td>...</td>\n",
              "      <td>...</td>\n",
              "      <td>...</td>\n",
              "      <td>...</td>\n",
              "      <td>...</td>\n",
              "      <td>...</td>\n",
              "      <td>...</td>\n",
              "      <td>...</td>\n",
              "      <td>...</td>\n",
              "      <td>...</td>\n",
              "      <td>...</td>\n",
              "      <td>...</td>\n",
              "      <td>...</td>\n",
              "      <td>...</td>\n",
              "      <td>...</td>\n",
              "      <td>...</td>\n",
              "      <td>...</td>\n",
              "      <td>...</td>\n",
              "      <td>...</td>\n",
              "    </tr>\n",
              "    <tr>\n",
              "      <th>550063</th>\n",
              "      <td>1006033</td>\n",
              "      <td>P00372445</td>\n",
              "      <td>13</td>\n",
              "      <td>1</td>\n",
              "      <td>20</td>\n",
              "      <td>23</td>\n",
              "      <td>0</td>\n",
              "      <td>0</td>\n",
              "      <td>1</td>\n",
              "      <td>0</td>\n",
              "      <td>...</td>\n",
              "      <td>1</td>\n",
              "      <td>0</td>\n",
              "      <td>0</td>\n",
              "      <td>1</td>\n",
              "      <td>0</td>\n",
              "      <td>0</td>\n",
              "      <td>1</td>\n",
              "      <td>0</td>\n",
              "      <td>0</td>\n",
              "      <td>0</td>\n",
              "    </tr>\n",
              "    <tr>\n",
              "      <th>550064</th>\n",
              "      <td>1006035</td>\n",
              "      <td>P00375436</td>\n",
              "      <td>1</td>\n",
              "      <td>0</td>\n",
              "      <td>20</td>\n",
              "      <td>22</td>\n",
              "      <td>0</td>\n",
              "      <td>1</td>\n",
              "      <td>0</td>\n",
              "      <td>0</td>\n",
              "      <td>...</td>\n",
              "      <td>0</td>\n",
              "      <td>0</td>\n",
              "      <td>0</td>\n",
              "      <td>0</td>\n",
              "      <td>1</td>\n",
              "      <td>0</td>\n",
              "      <td>0</td>\n",
              "      <td>0</td>\n",
              "      <td>1</td>\n",
              "      <td>0</td>\n",
              "    </tr>\n",
              "    <tr>\n",
              "      <th>550065</th>\n",
              "      <td>1006036</td>\n",
              "      <td>P00375436</td>\n",
              "      <td>15</td>\n",
              "      <td>1</td>\n",
              "      <td>20</td>\n",
              "      <td>23</td>\n",
              "      <td>0</td>\n",
              "      <td>1</td>\n",
              "      <td>0</td>\n",
              "      <td>0</td>\n",
              "      <td>...</td>\n",
              "      <td>0</td>\n",
              "      <td>0</td>\n",
              "      <td>0</td>\n",
              "      <td>1</td>\n",
              "      <td>0</td>\n",
              "      <td>0</td>\n",
              "      <td>0</td>\n",
              "      <td>0</td>\n",
              "      <td>0</td>\n",
              "      <td>1</td>\n",
              "    </tr>\n",
              "    <tr>\n",
              "      <th>550066</th>\n",
              "      <td>1006038</td>\n",
              "      <td>P00375436</td>\n",
              "      <td>1</td>\n",
              "      <td>0</td>\n",
              "      <td>20</td>\n",
              "      <td>22</td>\n",
              "      <td>0</td>\n",
              "      <td>1</td>\n",
              "      <td>0</td>\n",
              "      <td>0</td>\n",
              "      <td>...</td>\n",
              "      <td>0</td>\n",
              "      <td>1</td>\n",
              "      <td>0</td>\n",
              "      <td>0</td>\n",
              "      <td>1</td>\n",
              "      <td>0</td>\n",
              "      <td>0</td>\n",
              "      <td>1</td>\n",
              "      <td>0</td>\n",
              "      <td>0</td>\n",
              "    </tr>\n",
              "    <tr>\n",
              "      <th>550067</th>\n",
              "      <td>1006039</td>\n",
              "      <td>P00371644</td>\n",
              "      <td>0</td>\n",
              "      <td>1</td>\n",
              "      <td>20</td>\n",
              "      <td>23</td>\n",
              "      <td>0</td>\n",
              "      <td>1</td>\n",
              "      <td>0</td>\n",
              "      <td>0</td>\n",
              "      <td>...</td>\n",
              "      <td>0</td>\n",
              "      <td>0</td>\n",
              "      <td>0</td>\n",
              "      <td>1</td>\n",
              "      <td>0</td>\n",
              "      <td>0</td>\n",
              "      <td>0</td>\n",
              "      <td>0</td>\n",
              "      <td>0</td>\n",
              "      <td>1</td>\n",
              "    </tr>\n",
              "  </tbody>\n",
              "</table>\n",
              "<p>550068 rows × 24 columns</p>\n",
              "</div>\n",
              "      <button class=\"colab-df-convert\" onclick=\"convertToInteractive('df-9029636c-c826-4f08-9361-608140ef4252')\"\n",
              "              title=\"Convert this dataframe to an interactive table.\"\n",
              "              style=\"display:none;\">\n",
              "        \n",
              "  <svg xmlns=\"http://www.w3.org/2000/svg\" height=\"24px\"viewBox=\"0 0 24 24\"\n",
              "       width=\"24px\">\n",
              "    <path d=\"M0 0h24v24H0V0z\" fill=\"none\"/>\n",
              "    <path d=\"M18.56 5.44l.94 2.06.94-2.06 2.06-.94-2.06-.94-.94-2.06-.94 2.06-2.06.94zm-11 1L8.5 8.5l.94-2.06 2.06-.94-2.06-.94L8.5 2.5l-.94 2.06-2.06.94zm10 10l.94 2.06.94-2.06 2.06-.94-2.06-.94-.94-2.06-.94 2.06-2.06.94z\"/><path d=\"M17.41 7.96l-1.37-1.37c-.4-.4-.92-.59-1.43-.59-.52 0-1.04.2-1.43.59L10.3 9.45l-7.72 7.72c-.78.78-.78 2.05 0 2.83L4 21.41c.39.39.9.59 1.41.59.51 0 1.02-.2 1.41-.59l7.78-7.78 2.81-2.81c.8-.78.8-2.07 0-2.86zM5.41 20L4 18.59l7.72-7.72 1.47 1.35L5.41 20z\"/>\n",
              "  </svg>\n",
              "      </button>\n",
              "      \n",
              "  <style>\n",
              "    .colab-df-container {\n",
              "      display:flex;\n",
              "      flex-wrap:wrap;\n",
              "      gap: 12px;\n",
              "    }\n",
              "\n",
              "    .colab-df-convert {\n",
              "      background-color: #E8F0FE;\n",
              "      border: none;\n",
              "      border-radius: 50%;\n",
              "      cursor: pointer;\n",
              "      display: none;\n",
              "      fill: #1967D2;\n",
              "      height: 32px;\n",
              "      padding: 0 0 0 0;\n",
              "      width: 32px;\n",
              "    }\n",
              "\n",
              "    .colab-df-convert:hover {\n",
              "      background-color: #E2EBFA;\n",
              "      box-shadow: 0px 1px 2px rgba(60, 64, 67, 0.3), 0px 1px 3px 1px rgba(60, 64, 67, 0.15);\n",
              "      fill: #174EA6;\n",
              "    }\n",
              "\n",
              "    [theme=dark] .colab-df-convert {\n",
              "      background-color: #3B4455;\n",
              "      fill: #D2E3FC;\n",
              "    }\n",
              "\n",
              "    [theme=dark] .colab-df-convert:hover {\n",
              "      background-color: #434B5C;\n",
              "      box-shadow: 0px 1px 3px 1px rgba(0, 0, 0, 0.15);\n",
              "      filter: drop-shadow(0px 1px 2px rgba(0, 0, 0, 0.3));\n",
              "      fill: #FFFFFF;\n",
              "    }\n",
              "  </style>\n",
              "\n",
              "      <script>\n",
              "        const buttonEl =\n",
              "          document.querySelector('#df-9029636c-c826-4f08-9361-608140ef4252 button.colab-df-convert');\n",
              "        buttonEl.style.display =\n",
              "          google.colab.kernel.accessAllowed ? 'block' : 'none';\n",
              "\n",
              "        async function convertToInteractive(key) {\n",
              "          const element = document.querySelector('#df-9029636c-c826-4f08-9361-608140ef4252');\n",
              "          const dataTable =\n",
              "            await google.colab.kernel.invokeFunction('convertToInteractive',\n",
              "                                                     [key], {});\n",
              "          if (!dataTable) return;\n",
              "\n",
              "          const docLinkHtml = 'Like what you see? Visit the ' +\n",
              "            '<a target=\"_blank\" href=https://colab.research.google.com/notebooks/data_table.ipynb>data table notebook</a>'\n",
              "            + ' to learn more about interactive tables.';\n",
              "          element.innerHTML = '';\n",
              "          dataTable['output_type'] = 'display_data';\n",
              "          await google.colab.output.renderOutput(dataTable, element);\n",
              "          const docLink = document.createElement('div');\n",
              "          docLink.innerHTML = docLinkHtml;\n",
              "          element.appendChild(docLink);\n",
              "        }\n",
              "      </script>\n",
              "    </div>\n",
              "  </div>\n",
              "  "
            ]
          },
          "metadata": {},
          "execution_count": 84
        }
      ]
    },
    {
      "cell_type": "code",
      "source": [
        "user_id = ds2[\"User_ID\"]\n",
        "unique=np.unique(user_id)\n",
        "# map user id a user index \n",
        "index = np.arange(0, len(unique)) # [0,1,...,499]\n",
        "user_id_to_index = {key:value for key, value in zip(unique, index)}\n",
        "\n",
        "user_idx = np.array([user_id_to_index[v] for v in user_id])"
      ],
      "metadata": {
        "id": "y02kB-LfrO5J"
      },
      "execution_count": null,
      "outputs": []
    },
    {
      "cell_type": "code",
      "source": [
        "user_id = ds2[\"Product_ID\"]\n",
        "unique=np.unique(user_id)\n",
        "# map user id a user index \n",
        "index = np.arange(0, len(unique)) # [0,1,...,499]\n",
        "user_id_to_index = {key:value for key, value in zip(unique, index)}\n",
        "\n",
        "product_idx = np.array([user_id_to_index[v] for v in user_id])"
      ],
      "metadata": {
        "id": "n0-6bshJOmHg"
      },
      "execution_count": null,
      "outputs": []
    },
    {
      "cell_type": "code",
      "source": [
        "user_idx,product_idx"
      ],
      "metadata": {
        "id": "tyaHycS3EX8j",
        "colab": {
          "base_uri": "https://localhost:8080/"
        },
        "outputId": "ff770c7a-fc9a-43de-8dab-8a12d47badbc"
      },
      "execution_count": null,
      "outputs": [
        {
          "output_type": "execute_result",
          "data": {
            "text/plain": [
              "(array([   0,    0,    0, ..., 5886, 5888, 5889]),\n",
              " array([ 672, 2376,  852, ..., 3568, 3568, 3566]))"
            ]
          },
          "metadata": {},
          "execution_count": 87
        }
      ]
    },
    {
      "cell_type": "code",
      "source": [
        "random_state=25"
      ],
      "metadata": {
        "id": "MJgOkE0hOZdI"
      },
      "execution_count": null,
      "outputs": []
    },
    {
      "cell_type": "code",
      "source": [
        "X=ds2.drop(columns=[\"Big_Purchase\",\"User_ID\",\"Product_ID\"])\n",
        "Y=ds2[[\"Big_Purchase\"]]\n"
      ],
      "metadata": {
        "id": "UMZ-9QwUCidh"
      },
      "execution_count": null,
      "outputs": []
    },
    {
      "cell_type": "code",
      "source": [
        "user_idx_train, user_idx_test, Y_train, Y_test = train_test_split(user_idx, Y, train_size=0.70, random_state=random_state)\n",
        "product_idx_train, product_idx_test, Y_train, Y_test = train_test_split(product_idx, Y, train_size=0.70, random_state=random_state)"
      ],
      "metadata": {
        "id": "jCPQXwUDOshU"
      },
      "execution_count": null,
      "outputs": []
    },
    {
      "cell_type": "code",
      "source": [
        "#X_train, X_test, Y_train, Y_test = train_test_split(X, Y, train_size=0.70, random_state=random_state)\n",
        "#X_train=np.array(X_train)\n",
        "#X_test=np.array(X_test)\n",
        "#Y_train=np.array(Y_train)\n",
        "#Y_test=np.array(Y_test)"
      ],
      "metadata": {
        "id": "DoVzl84oOcaR"
      },
      "execution_count": null,
      "outputs": []
    },
    {
      "cell_type": "code",
      "source": [
        "#scaler = StandardScaler()\n",
        "#X_train=scaler.fit_transform(X_train)"
      ],
      "metadata": {
        "id": "v_JdWrc1Czcu"
      },
      "execution_count": null,
      "outputs": []
    },
    {
      "cell_type": "code",
      "source": [
        "\n",
        "#X_test=scaler.transform(X_test)"
      ],
      "metadata": {
        "id": "j-fV5LejC_Ms"
      },
      "execution_count": null,
      "outputs": []
    },
    {
      "cell_type": "code",
      "source": [
        "#train_dataset_fulll = TensorDataset( Tensor(X_train.astype(int)), Tensor(Y_train) )\n",
        "#test_dataset_fulll = TensorDataset( Tensor(X_test.astype(int)), Tensor(Y_test) )\n",
        "#dataloader = {\n",
        "#    'train': torch.utils.data.DataLoader(train_dataset_fulll, batch_size=64, shuffle=True, pin_memory=True),\n",
        "#    'test': torch.utils.data.DataLoader(test_dataset_fulll, batch_size=64, shuffle=False, pin_memory=True)\n",
        "#}"
      ],
      "metadata": {
        "id": "oDH4Si8yCoBk"
      },
      "execution_count": null,
      "outputs": []
    },
    {
      "cell_type": "code",
      "source": [
        "class Net_Embeddings(nn.Module):\n",
        "\n",
        "    def __init__(self,num_users,num_prods,d_users,d_prods):\n",
        "        super(Net_Embeddings, self).__init__()\n",
        "        self.embedding_user = torch.nn.Embedding(num_embeddings=num_users, embedding_dim=d_users)\n",
        "        self.embedding_prod = torch.nn.Embedding(num_embeddings=num_prods, embedding_dim=d_prods)\n",
        "        self.fc1 = nn.Linear(21+d_prods+d_users, 15)\n",
        "        self.drop1 = nn.Dropout(p=0.4) \n",
        "        self.fc2 = nn.Linear(15, 10)\n",
        "        self.drop2 = nn.Dropout(p=0.4)\n",
        "        self.fc3 = nn.Linear(10, 1)\n",
        "\n",
        "    def forward(self, x, user_idx,prods_idx):\n",
        "        user_emb = self.embedding_user(user_idx)\n",
        "        prods_emb = self.embedding_user(prods_idx)\n",
        "        final_input = torch.cat([x, user_emb,prods_emb], dim=1)       \n",
        "        x = F.relu(self.fc1(final_input))\n",
        "        #x = self.drop1(x)\n",
        "        x = F.relu(self.fc2(x))\n",
        "        #x = self.drop2(x)\n",
        "        x = F.sigmoid(self.fc3(x))\n",
        "        return x\n"
      ],
      "metadata": {
        "id": "5J65dgA2_uTN"
      },
      "execution_count": null,
      "outputs": []
    },
    {
      "cell_type": "code",
      "source": [
        "net=Net_Embeddings(len(user_idx_train),len(product_idx_train),16,16)\n",
        "optimizer = torch.optim.Adam(net.parameters(), lr=1e-3,weight_decay=1e-5)\n",
        "criterion = torch.nn.BCELoss()\n",
        "user_idx = np.array([user_id_to_index[v] for v in user_id])"
      ],
      "metadata": {
        "id": "aZ7lqREKAP_g"
      },
      "execution_count": null,
      "outputs": []
    },
    {
      "cell_type": "code",
      "source": [
        "def fit_emb(model, dataloader,criterion,optimizer,user_idx_train,product_idx_train,user_idx_test,product_idx_test, epochs=5):\n",
        "    model.to(device)\n",
        "    losses = []\n",
        "    val_losses = []\n",
        "    for epoch in range(1, epochs+1):\n",
        "        model.train()\n",
        "        train_loss, train_acc = [], []\n",
        "        bar = tqdm(dataloader['train'])\n",
        "        batchCounter=0\n",
        "        for batch in bar:\n",
        "            X, y = batch\n",
        "            user_ids=user_idx_train[batchCounter*64:(batchCounter+1)*64]\n",
        "            prduct_ids=product_idx_train[batchCounter*64:(batchCounter+1)*64]  \n",
        "            batchCounter+=1         \n",
        "            user_ids=user_ids.to(device)\n",
        "            prduct_ids=prduct_ids.to(device)\n",
        "            #X = X.float()\n",
        "            X, y = X.to(device), y.to(device)\n",
        "            optimizer.zero_grad()\n",
        "            y_hat = model(X,user_ids,prduct_ids)\n",
        "            loss = criterion(y_hat, y)\n",
        "            loss.backward()\n",
        "            optimizer.step()\n",
        "            train_loss.append(loss.item())\n",
        "            ####\n",
        "            #acc = (y == torch.argmax(y_hat, axis=1)).sum().item() / len(y)\n",
        "            acc = (len(y) - (y - y_hat.abs()).abs().sum().item()) / len(y)\n",
        "            train_acc.append(acc)\n",
        "            bar.set_description(f\"loss {np.mean(train_loss):.5f} acc {np.mean(train_acc):.5f}\")\n",
        "        bar = tqdm(dataloader['test'])\n",
        "        val_loss, val_acc = [], []\n",
        "        model.eval()\n",
        "        batchCounterVar=0\n",
        "        with torch.no_grad():\n",
        "            for batch in bar:\n",
        "                X, y = batch\n",
        "                #X = X.float()\n",
        "                user_ids=user_idx_test[batchCounterVar*64:(batchCounterVar+1)*64]\n",
        "                user_ids=user_ids.to(device)\n",
        "                prduct_ids=product_idx_test[batchCounterVar*64:(batchCounterVar+1)*64]\n",
        "                prduct_ids=prduct_ids.to(device)\n",
        "                X, y = X.to(device), y.to(device)\n",
        "                y_hat = model(X,user_ids,prduct_ids)\n",
        "                loss = criterion(y_hat, y)\n",
        "                val_loss.append(loss.item())\n",
        "                acc = (len(y) - (y - y_hat.abs()).abs().sum().item()) / len(y)\n",
        "                #acc = (y == torch.argmax(y_hat, axis=1)).sum().item() / len(y)\n",
        "                batchCounterVar+=1\n",
        "                val_acc.append(acc)\n",
        "                bar.set_description(f\"val_loss {np.mean(val_loss):.5f} val_acc {np.mean(val_acc):.5f}\")\n",
        "         # early stopping\n",
        "        #if early_stopping(train_loss[-1], val_loss[-1], min_delta=10, tolerance = 20):\n",
        "        #  print(\"We are at epoch:\", epoch)\n",
        "        #  break\n",
        "        \n",
        "        losses.append(np.mean(train_loss))\n",
        "        val_losses.append(np.mean(val_loss))\n",
        "        print(f\"Epoch {epoch}/{epochs} loss {np.mean(train_loss):.5f} val_loss {np.mean(val_loss):.5f} acc {np.mean(train_acc):.5f} val_acc {np.mean(val_acc):.5f}\")\n",
        "    return losses,val_losses"
      ],
      "metadata": {
        "id": "-mxV76SDCEMu"
      },
      "execution_count": null,
      "outputs": []
    },
    {
      "cell_type": "code",
      "source": [
        "user_idx_train=torch.Tensor(user_idx_train).long()\n",
        "user_idx_test=torch.Tensor(user_idx_test).long()\n",
        "product_idx_train=torch.Tensor(product_idx_train).long()\n",
        "product_idx_test=torch.Tensor(product_idx_test).long()\n"
      ],
      "metadata": {
        "id": "oK4__Gqkxzwk"
      },
      "execution_count": null,
      "outputs": []
    },
    {
      "cell_type": "code",
      "source": [
        "#np.bincount(Y_train.reshape(-1))"
      ],
      "metadata": {
        "id": "HUQPvYbFzpnZ"
      },
      "execution_count": null,
      "outputs": []
    },
    {
      "cell_type": "code",
      "source": [
        "#np.bincount(Y_test.reshape(-1))"
      ],
      "metadata": {
        "id": "fGUsRerY1yM1"
      },
      "execution_count": null,
      "outputs": []
    },
    {
      "cell_type": "code",
      "source": [
        "losses,val_losses=fit_emb(net, dataloader,criterion,optimizer,user_idx_train,product_idx_train,user_idx_test,product_idx_test, epochs=20)"
      ],
      "metadata": {
        "id": "hMo88p8MAT4Q",
        "colab": {
          "base_uri": "https://localhost:8080/"
        },
        "outputId": "7eb5f97e-0258-4528-e74a-66230e073081"
      },
      "execution_count": null,
      "outputs": [
        {
          "output_type": "stream",
          "name": "stderr",
          "text": [
            "  0%|          | 0/6017 [00:00<?, ?it/s]/usr/local/lib/python3.7/dist-packages/torch/nn/functional.py:1960: UserWarning: nn.functional.sigmoid is deprecated. Use torch.sigmoid instead.\n",
            "  warnings.warn(\"nn.functional.sigmoid is deprecated. Use torch.sigmoid instead.\")\n",
            "loss 0.45215 acc 0.69631: 100%|██████████| 6017/6017 [00:57<00:00, 103.94it/s]\n",
            "val_loss 0.39286 val_acc 0.72933: 100%|██████████| 2579/2579 [00:12<00:00, 213.63it/s]\n"
          ]
        },
        {
          "output_type": "stream",
          "name": "stdout",
          "text": [
            "Epoch 1/20 loss 0.45215 val_loss 0.39286 acc 0.69631 val_acc 0.72933\n"
          ]
        },
        {
          "output_type": "stream",
          "name": "stderr",
          "text": [
            "loss 0.38125 acc 0.74741: 100%|██████████| 6017/6017 [00:57<00:00, 104.21it/s]\n",
            "val_loss 0.37657 val_acc 0.75010: 100%|██████████| 2579/2579 [00:12<00:00, 212.61it/s]\n"
          ]
        },
        {
          "output_type": "stream",
          "name": "stdout",
          "text": [
            "Epoch 2/20 loss 0.38125 val_loss 0.37657 acc 0.74741 val_acc 0.75010\n"
          ]
        },
        {
          "output_type": "stream",
          "name": "stderr",
          "text": [
            "loss 0.37411 acc 0.75441: 100%|██████████| 6017/6017 [00:57<00:00, 104.47it/s]\n",
            "val_loss 0.37417 val_acc 0.76630: 100%|██████████| 2579/2579 [00:11<00:00, 219.95it/s]\n"
          ]
        },
        {
          "output_type": "stream",
          "name": "stdout",
          "text": [
            "Epoch 3/20 loss 0.37411 val_loss 0.37417 acc 0.75441 val_acc 0.76630\n"
          ]
        },
        {
          "output_type": "stream",
          "name": "stderr",
          "text": [
            "loss 0.37231 acc 0.75624: 100%|██████████| 6017/6017 [00:57<00:00, 104.83it/s]\n",
            "val_loss 0.37250 val_acc 0.75367: 100%|██████████| 2579/2579 [00:12<00:00, 213.18it/s]\n"
          ]
        },
        {
          "output_type": "stream",
          "name": "stdout",
          "text": [
            "Epoch 4/20 loss 0.37231 val_loss 0.37250 acc 0.75624 val_acc 0.75367\n"
          ]
        },
        {
          "output_type": "stream",
          "name": "stderr",
          "text": [
            "loss 0.37121 acc 0.75717: 100%|██████████| 6017/6017 [00:57<00:00, 104.86it/s]\n",
            "val_loss 0.37018 val_acc 0.75066: 100%|██████████| 2579/2579 [00:12<00:00, 205.36it/s]\n"
          ]
        },
        {
          "output_type": "stream",
          "name": "stdout",
          "text": [
            "Epoch 5/20 loss 0.37121 val_loss 0.37018 acc 0.75717 val_acc 0.75066\n"
          ]
        },
        {
          "output_type": "stream",
          "name": "stderr",
          "text": [
            "loss 0.37028 acc 0.75797: 100%|██████████| 6017/6017 [00:57<00:00, 104.94it/s]\n",
            "val_loss 0.36991 val_acc 0.76137: 100%|██████████| 2579/2579 [00:12<00:00, 212.39it/s]\n"
          ]
        },
        {
          "output_type": "stream",
          "name": "stdout",
          "text": [
            "Epoch 6/20 loss 0.37028 val_loss 0.36991 acc 0.75797 val_acc 0.76137\n"
          ]
        },
        {
          "output_type": "stream",
          "name": "stderr",
          "text": [
            "loss 0.36949 acc 0.75869: 100%|██████████| 6017/6017 [00:57<00:00, 104.51it/s]\n",
            "val_loss 0.37057 val_acc 0.76018: 100%|██████████| 2579/2579 [00:11<00:00, 216.36it/s]\n"
          ]
        },
        {
          "output_type": "stream",
          "name": "stdout",
          "text": [
            "Epoch 7/20 loss 0.36949 val_loss 0.37057 acc 0.75869 val_acc 0.76018\n"
          ]
        },
        {
          "output_type": "stream",
          "name": "stderr",
          "text": [
            "loss 0.36835 acc 0.75954: 100%|██████████| 6017/6017 [00:57<00:00, 105.09it/s]\n",
            "val_loss 0.37254 val_acc 0.74764: 100%|██████████| 2579/2579 [00:12<00:00, 210.21it/s]\n"
          ]
        },
        {
          "output_type": "stream",
          "name": "stdout",
          "text": [
            "Epoch 8/20 loss 0.36835 val_loss 0.37254 acc 0.75954 val_acc 0.74764\n"
          ]
        },
        {
          "output_type": "stream",
          "name": "stderr",
          "text": [
            "loss 0.36763 acc 0.76026: 100%|██████████| 6017/6017 [00:57<00:00, 104.78it/s]\n",
            "val_loss 0.36666 val_acc 0.75836: 100%|██████████| 2579/2579 [00:11<00:00, 224.77it/s]\n"
          ]
        },
        {
          "output_type": "stream",
          "name": "stdout",
          "text": [
            "Epoch 9/20 loss 0.36763 val_loss 0.36666 acc 0.76026 val_acc 0.75836\n"
          ]
        },
        {
          "output_type": "stream",
          "name": "stderr",
          "text": [
            "loss 0.36682 acc 0.76099: 100%|██████████| 6017/6017 [00:57<00:00, 104.84it/s]\n",
            "val_loss 0.36567 val_acc 0.76058: 100%|██████████| 2579/2579 [00:11<00:00, 215.29it/s]\n"
          ]
        },
        {
          "output_type": "stream",
          "name": "stdout",
          "text": [
            "Epoch 10/20 loss 0.36682 val_loss 0.36567 acc 0.76099 val_acc 0.76058\n"
          ]
        },
        {
          "output_type": "stream",
          "name": "stderr",
          "text": [
            "loss 0.36620 acc 0.76160: 100%|██████████| 6017/6017 [00:57<00:00, 105.09it/s]\n",
            "val_loss 0.36498 val_acc 0.76168: 100%|██████████| 2579/2579 [00:11<00:00, 218.43it/s]\n"
          ]
        },
        {
          "output_type": "stream",
          "name": "stdout",
          "text": [
            "Epoch 11/20 loss 0.36620 val_loss 0.36498 acc 0.76160 val_acc 0.76168\n"
          ]
        },
        {
          "output_type": "stream",
          "name": "stderr",
          "text": [
            "loss 0.36567 acc 0.76212: 100%|██████████| 6017/6017 [00:57<00:00, 104.81it/s]\n",
            "val_loss 0.36467 val_acc 0.76506: 100%|██████████| 2579/2579 [00:12<00:00, 205.97it/s]\n"
          ]
        },
        {
          "output_type": "stream",
          "name": "stdout",
          "text": [
            "Epoch 12/20 loss 0.36567 val_loss 0.36467 acc 0.76212 val_acc 0.76506\n"
          ]
        },
        {
          "output_type": "stream",
          "name": "stderr",
          "text": [
            "loss 0.36520 acc 0.76247: 100%|██████████| 6017/6017 [00:57<00:00, 104.57it/s]\n",
            "val_loss 0.36489 val_acc 0.76478: 100%|██████████| 2579/2579 [00:12<00:00, 210.47it/s]\n"
          ]
        },
        {
          "output_type": "stream",
          "name": "stdout",
          "text": [
            "Epoch 13/20 loss 0.36520 val_loss 0.36489 acc 0.76247 val_acc 0.76478\n"
          ]
        },
        {
          "output_type": "stream",
          "name": "stderr",
          "text": [
            "loss 0.36477 acc 0.76292: 100%|██████████| 6017/6017 [00:57<00:00, 104.69it/s]\n",
            "val_loss 0.36324 val_acc 0.76039: 100%|██████████| 2579/2579 [00:11<00:00, 220.61it/s]\n"
          ]
        },
        {
          "output_type": "stream",
          "name": "stdout",
          "text": [
            "Epoch 14/20 loss 0.36477 val_loss 0.36324 acc 0.76292 val_acc 0.76039\n"
          ]
        },
        {
          "output_type": "stream",
          "name": "stderr",
          "text": [
            "loss 0.36445 acc 0.76326: 100%|██████████| 6017/6017 [00:57<00:00, 105.37it/s]\n",
            "val_loss 0.36573 val_acc 0.76854: 100%|██████████| 2579/2579 [00:11<00:00, 221.55it/s]\n"
          ]
        },
        {
          "output_type": "stream",
          "name": "stdout",
          "text": [
            "Epoch 15/20 loss 0.36445 val_loss 0.36573 acc 0.76326 val_acc 0.76854\n"
          ]
        },
        {
          "output_type": "stream",
          "name": "stderr",
          "text": [
            "loss 0.36434 acc 0.76347: 100%|██████████| 6017/6017 [00:57<00:00, 104.91it/s]\n",
            "val_loss 0.36629 val_acc 0.76684: 100%|██████████| 2579/2579 [00:12<00:00, 206.75it/s]\n"
          ]
        },
        {
          "output_type": "stream",
          "name": "stdout",
          "text": [
            "Epoch 16/20 loss 0.36434 val_loss 0.36629 acc 0.76347 val_acc 0.76684\n"
          ]
        },
        {
          "output_type": "stream",
          "name": "stderr",
          "text": [
            "loss 0.36401 acc 0.76380: 100%|██████████| 6017/6017 [00:57<00:00, 104.52it/s]\n",
            "val_loss 0.36640 val_acc 0.75176: 100%|██████████| 2579/2579 [00:11<00:00, 221.23it/s]\n"
          ]
        },
        {
          "output_type": "stream",
          "name": "stdout",
          "text": [
            "Epoch 17/20 loss 0.36401 val_loss 0.36640 acc 0.76380 val_acc 0.75176\n"
          ]
        },
        {
          "output_type": "stream",
          "name": "stderr",
          "text": [
            "loss 0.36318 acc 0.76424: 100%|██████████| 6017/6017 [00:57<00:00, 105.40it/s]\n",
            "val_loss 0.36259 val_acc 0.77247: 100%|██████████| 2579/2579 [00:11<00:00, 228.48it/s]\n"
          ]
        },
        {
          "output_type": "stream",
          "name": "stdout",
          "text": [
            "Epoch 18/20 loss 0.36318 val_loss 0.36259 acc 0.76424 val_acc 0.77247\n"
          ]
        },
        {
          "output_type": "stream",
          "name": "stderr",
          "text": [
            "loss 0.36047 acc 0.76535: 100%|██████████| 6017/6017 [00:57<00:00, 104.03it/s]\n",
            "val_loss 0.35940 val_acc 0.75847: 100%|██████████| 2579/2579 [00:12<00:00, 213.70it/s]\n"
          ]
        },
        {
          "output_type": "stream",
          "name": "stdout",
          "text": [
            "Epoch 19/20 loss 0.36047 val_loss 0.35940 acc 0.76535 val_acc 0.75847\n"
          ]
        },
        {
          "output_type": "stream",
          "name": "stderr",
          "text": [
            "loss 0.35704 acc 0.76666: 100%|██████████| 6017/6017 [00:57<00:00, 103.78it/s]\n",
            "val_loss 0.35849 val_acc 0.78127: 100%|██████████| 2579/2579 [00:11<00:00, 215.79it/s]"
          ]
        },
        {
          "output_type": "stream",
          "name": "stdout",
          "text": [
            "Epoch 20/20 loss 0.35704 val_loss 0.35849 acc 0.76666 val_acc 0.78127\n"
          ]
        },
        {
          "output_type": "stream",
          "name": "stderr",
          "text": [
            "\n"
          ]
        }
      ]
    },
    {
      "cell_type": "code",
      "source": [
        "plt.figure(figsize=(16,8))\n",
        "plt.plot(losses, label='Train')\n",
        "plt.plot(val_losses, label='Val')\n",
        "plt.xlabel(\"Epochs\")\n",
        "plt.ylabel(\"Training MSE\")\n",
        "plt.legend()\n",
        "plt.show()"
      ],
      "metadata": {
        "id": "QuoICKa1o3sI",
        "colab": {
          "base_uri": "https://localhost:8080/",
          "height": 497
        },
        "outputId": "594c1f74-1e94-4dae-8a38-9b2376c2c299"
      },
      "execution_count": null,
      "outputs": [
        {
          "output_type": "display_data",
          "data": {
            "text/plain": [
              "<Figure size 1152x576 with 1 Axes>"
            ],
            "image/png": "[encoded data removed]"
          },
          "metadata": {
            "needs_background": "light"
          }
        }
      ]
    },
    {
      "cell_type": "markdown",
      "source": [
        "## C\n",
        "Compare el score de cada modelo y comente lo necesario."
      ],
      "metadata": {
        "id": "HesbMt9Zra0b"
      }
    },
    {
      "cell_type": "code",
      "source": [
        "#https://www.kaggle.com/code/rsesha/fraud-detection-96-accuracy-very-easy\n",
        "#Esta funcion nos permite ver la precision y el recall de manera muy rapido\n",
        "def print_accuracy(modeltype, y_test, y_preds):\n",
        "    target=\"isFraud\"\n",
        "    if modeltype == 'Regression':\n",
        "        from sklearn.metrics import r2_score, mean_squared_error\n",
        "        print('R-Squared = %0.0f%%' %(100*r2_score(y_test,y_preds)))\n",
        "        print('RMSE = %0.2f' %np.sqrt(mean_squared_error(y_test,y_preds)))\n",
        "    else:\n",
        "        from sklearn.metrics import balanced_accuracy_score, classification_report\n",
        "        if isinstance(target, str): \n",
        "            print('Bal accu %0.0f%%' %(100*balanced_accuracy_score(y_test,y_preds)))\n",
        "            print(classification_report(y_test,y_preds))\n",
        "        elif len(target) == 1:\n",
        "                print('Bal accu %0.0f%%' %(100*balanced_accuracy_score(y_test,y_preds)))\n",
        "                print(classification_report(y_test,y_preds))\n",
        "        else:\n",
        "            for each_i, target_name in enumerate(target):\n",
        "                print('For %s:' %target_name)\n",
        "                print('    Bal accu %0.0f%%' %(100*balanced_accuracy_score(y_test.values[:,each_i],y_preds[:,each_i])))\n",
        "                print(classification_report(y_test.values[:,each_i],y_preds[:,each_i]))"
      ],
      "metadata": {
        "id": "z-2skjg0uA6y"
      },
      "execution_count": null,
      "outputs": []
    },
    {
      "cell_type": "code",
      "source": [
        "#Comparacion de resutlados\n",
        "plt.figure(figsize=(16,8))\n",
        "plt.plot(losses, label='Train-EMB')\n",
        "plt.plot(val_losses, label='Val-EMB')\n",
        "plt.plot(losses_noEMB, label='Train-NoEMB')\n",
        "plt.plot(val_losses_noEMB, label='Val-NoEMB')\n",
        "plt.xlabel(\"Epochs\")\n",
        "plt.ylabel(\"Training MSE\")\n",
        "plt.legend()\n",
        "plt.show()\n"
      ],
      "metadata": {
        "id": "myslRH9gpKnY",
        "colab": {
          "base_uri": "https://localhost:8080/",
          "height": 497
        },
        "outputId": "049b448d-47de-4858-b147-cc6a8840ea28"
      },
      "execution_count": null,
      "outputs": [
        {
          "output_type": "display_data",
          "data": {
            "text/plain": [
              "<Figure size 1152x576 with 1 Axes>"
            ],
            "image/png": "[encoded data removed]"
          },
          "metadata": {
            "needs_background": "light"
          }
        }
      ]
    },
    {
      "cell_type": "code",
      "source": [
        "bar = tqdm(dataloader['test'])\n",
        "y_hats_noEMB,y_hats_EMB = np.array([]),np.array([])\n",
        "batchCounterVar=0\n",
        "with torch.no_grad():\n",
        "  for batch in bar:\n",
        "    X, y = batch\n",
        "    #X = X.float()\n",
        "    user_ids=user_idx_test[batchCounterVar*64:(batchCounterVar+1)*64]\n",
        "    user_ids=user_ids.to(device)\n",
        "    prduct_ids=product_idx_test[batchCounterVar*64:(batchCounterVar+1)*64]\n",
        "    prduct_ids=prduct_ids.to(device)\n",
        "    X, y = X.to(device), y.to(device)\n",
        "    y_hat_EMB = net(X,user_ids,prduct_ids)\n",
        "    y_hat_noEMB = net_noEMB(X)\n",
        "    #acc = (len(y) - (y - y_hat.abs()).abs().sum().item()) / len(y)\n",
        "    #acc = (y == torch.argmax(y_hat, axis=1)).sum().item() / len(y)\n",
        "    batchCounterVar+=1\n",
        "    y_hats_noEMB=np.concatenate((y_hats_noEMB,y_hat_noEMB.detach().cpu().numpy().reshape(1,-1).round().astype(int).flatten()))\n",
        "    y_hats_EMB=np.concatenate((y_hats_EMB,y_hat_EMB.detach().cpu().numpy().reshape(1,-1).round().astype(int).flatten()))\n"
      ],
      "metadata": {
        "colab": {
          "base_uri": "https://localhost:8080/"
        },
        "outputId": "d7d74a4b-9169-4bdf-ebc5-4cfffcd47f0d",
        "id": "q0y7LxsN7GEd"
      },
      "execution_count": null,
      "outputs": [
        {
          "output_type": "stream",
          "name": "stderr",
          "text": [
            "  0%|          | 0/2579 [00:00<?, ?it/s]/usr/local/lib/python3.7/dist-packages/torch/nn/functional.py:1960: UserWarning: nn.functional.sigmoid is deprecated. Use torch.sigmoid instead.\n",
            "  warnings.warn(\"nn.functional.sigmoid is deprecated. Use torch.sigmoid instead.\")\n",
            "100%|██████████| 2579/2579 [00:03<00:00, 784.70it/s]\n"
          ]
        }
      ]
    },
    {
      "cell_type": "code",
      "source": [
        "np.bincount(y_hats_EMB.astype(int)-np.array(Y_test).flatten().astype(int)+1)"
      ],
      "metadata": {
        "colab": {
          "base_uri": "https://localhost:8080/"
        },
        "id": "XJ0AE5lXvTR_",
        "outputId": "c6124a67-8572-48ab-b834-ea149dee23e2"
      },
      "execution_count": null,
      "outputs": [
        {
          "output_type": "execute_result",
          "data": {
            "text/plain": [
              "array([ 11789, 140372,  12860])"
            ]
          },
          "metadata": {},
          "execution_count": 210
        }
      ]
    },
    {
      "cell_type": "code",
      "source": [
        "print_accuracy(None,np.array(Y_test).flatten().astype(int),y_hats_EMB.astype(int))"
      ],
      "metadata": {
        "colab": {
          "base_uri": "https://localhost:8080/"
        },
        "id": "uCAFYUzW8SEq",
        "outputId": "dcca89bc-4ead-47a6-94a0-cffa9ece5bd8"
      },
      "execution_count": null,
      "outputs": [
        {
          "output_type": "stream",
          "name": "stdout",
          "text": [
            "Bal accu 85%\n",
            "              precision    recall  f1-score   support\n",
            "\n",
            "           0       0.88      0.87      0.88     99273\n",
            "           1       0.81      0.82      0.81     65748\n",
            "\n",
            "    accuracy                           0.85    165021\n",
            "   macro avg       0.84      0.85      0.84    165021\n",
            "weighted avg       0.85      0.85      0.85    165021\n",
            "\n"
          ]
        }
      ]
    },
    {
      "cell_type": "code",
      "source": [
        "print_accuracy(None,np.array(Y_test).flatten().astype(int),y_hats_noEMB.astype(int))"
      ],
      "metadata": {
        "colab": {
          "base_uri": "https://localhost:8080/"
        },
        "id": "lSqthyhz8iWm",
        "outputId": "84843776-be3b-43fd-a992-1bddca166400"
      },
      "execution_count": null,
      "outputs": [
        {
          "output_type": "stream",
          "name": "stdout",
          "text": [
            "Bal accu 84%\n",
            "              precision    recall  f1-score   support\n",
            "\n",
            "           0       0.87      0.87      0.87     99273\n",
            "           1       0.81      0.80      0.81     65748\n",
            "\n",
            "    accuracy                           0.85    165021\n",
            "   macro avg       0.84      0.84      0.84    165021\n",
            "weighted avg       0.85      0.85      0.85    165021\n",
            "\n"
          ]
        }
      ]
    },
    {
      "cell_type": "markdown",
      "source": [
        "Podemos ver que ambos metodos performan correctamente, pero el que tiene embeddings tiene una pequeña ventaja, ya que el f1 score balanceado es 0.85 contra 0.84, tambien podemos ver en la loss que ambos performan muy parecido. Es probable que con mas epochs pueda mejorar la performance, pero ya una precision como la que tenemos ahora es suficiente."
      ],
      "metadata": {
        "id": "stJBQ7s4IjhR"
      }
    },
    {
      "cell_type": "markdown",
      "source": [
        "# Punto 4 \n",
        "Se tiene la función y = a * log(b) + b * c^2. Calcular las derivadas de y respecto a los parámetros a, b, c, evaluando en los valores a=2, b=10, c=0.5. Se deben calcular las derivadas por los siguientes métodos"
      ],
      "metadata": {
        "id": "g7-OiXL_nYQV"
      }
    },
    {
      "cell_type": "markdown",
      "source": [
        "## D\n",
        "Utilizando PyTorch (automatic differentiation)."
      ],
      "metadata": {
        "id": "96EKkq2QnkpP"
      }
    },
    {
      "cell_type": "code",
      "source": [
        "a=torch.tensor(2., requires_grad=True)\n",
        "b=torch.tensor(10., requires_grad=True)\n",
        "c=torch.tensor(0.5, requires_grad=True)"
      ],
      "metadata": {
        "id": "BGHu54mzn0A0"
      },
      "execution_count": null,
      "outputs": []
    },
    {
      "cell_type": "code",
      "source": [
        "y=(a*torch.log(b))+(b*torch.pow(c, 2))"
      ],
      "metadata": {
        "id": "tlEDZh0Vn2Ws"
      },
      "execution_count": null,
      "outputs": []
    },
    {
      "cell_type": "code",
      "source": [
        "y.backward()"
      ],
      "metadata": {
        "id": "0Kd9OnIun75l"
      },
      "execution_count": null,
      "outputs": []
    },
    {
      "cell_type": "code",
      "source": [
        "print(a.grad,b.grad,c.grad)"
      ],
      "metadata": {
        "id": "7zo5uzLen9Du",
        "colab": {
          "base_uri": "https://localhost:8080/"
        },
        "outputId": "7d282f4f-2242-4111-9174-046720392e1d"
      },
      "execution_count": null,
      "outputs": [
        {
          "output_type": "stream",
          "name": "stdout",
          "text": [
            "tensor(2.3026) tensor(0.4500) tensor(10.)\n"
          ]
        }
      ]
    }
  ]
}